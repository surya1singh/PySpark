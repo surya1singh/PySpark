{
 "cells": [
  {
   "cell_type": "markdown",
   "metadata": {
    "application/vnd.databricks.v1+cell": {
     "cellMetadata": {
      "byteLimit": 2048000,
      "rowLimit": 10000
     },
     "inputWidgets": {},
     "nuid": "40f97c25-e2d4-4ee9-8a79-49bdfc4e2899",
     "showTitle": false,
     "title": ""
    }
   },
   "source": [
    "Create CSV file"
   ]
  },
  {
   "cell_type": "code",
   "execution_count": 0,
   "metadata": {
    "application/vnd.databricks.v1+cell": {
     "cellMetadata": {
      "byteLimit": 2048000,
      "rowLimit": 10000
     },
     "inputWidgets": {},
     "nuid": "77a24c58-8e1d-4b96-9482-143221dfdb6d",
     "showTitle": false,
     "title": ""
    }
   },
   "outputs": [],
   "source": [
    "data = \"\"\"id,name,age,city,salary\n",
    "1,John Doe,28,New York,70000\n",
    "2,Jane Smith,34,Los Angeles,80000\n",
    "3,Emily Davis,22,Chicago,60000\n",
    "4,Michael Brown,45,Houston,95000\n",
    "5,Jessica Taylor,29,Philadelphia,75000\n",
    "\"\"\"\n",
    "with open('test.csv','w') as fp:\n",
    "    fp.write(data)"
   ]
  },
  {
   "cell_type": "code",
   "execution_count": 0,
   "metadata": {
    "application/vnd.databricks.v1+cell": {
     "cellMetadata": {
      "byteLimit": 2048000,
      "rowLimit": 10000
     },
     "inputWidgets": {},
     "nuid": "d3ea6abb-a8a9-4fd5-99c4-a11bb4893e07",
     "showTitle": false,
     "title": ""
    }
   },
   "outputs": [
    {
     "output_type": "stream",
     "name": "stdout",
     "output_type": "stream",
     "text": [
      "total 1312\r\ndrwxr-xr-x 2 root root    4096 Jul 20 20:39 \u001B[0m\u001B[01;34mazure\u001B[0m/\r\ndrwxr-xr-x 2 root root    4096 Jul 20 20:39 \u001B[01;34mconf\u001B[0m/\r\ndrwxr-xr-x 3 root root    4096 Jul 20 20:43 \u001B[01;34meventlogs\u001B[0m/\r\ndrwxr-xr-x 2 root root    4096 Jul 20 21:30 \u001B[01;34mganglia\u001B[0m/\r\n-r-xr-xr-x 1 root root    2755 Jul 20 20:39 \u001B[01;32mhadoop_accessed_config.lst\u001B[0m*\r\ndrwxr-xr-x 2 root root    4096 Jul 20 21:15 \u001B[01;34mlogs\u001B[0m/\r\ndrwxr-xr-x 5 root root    4096 Jul 20 20:49 \u001B[01;34mmetastore_db\u001B[0m/\r\n-r-xr-xr-x 1 root root 1306936 Jul 20 20:39 \u001B[01;32mpreload_class.lst\u001B[0m*\r\n-rw-r--r-- 1 root root     190 Jul 20 21:42 test.csv\r\n"
     ]
    }
   ],
   "source": [
    "ls -l"
   ]
  },
  {
   "cell_type": "markdown",
   "metadata": {
    "application/vnd.databricks.v1+cell": {
     "cellMetadata": {
      "byteLimit": 2048000,
      "rowLimit": 10000
     },
     "inputWidgets": {},
     "nuid": "3f20f399-18a4-4671-ba14-2e89362f9877",
     "showTitle": false,
     "title": ""
    }
   },
   "source": [
    "test.csv is created.\n",
    "\n",
    "Now creating DataFrame"
   ]
  },
  {
   "cell_type": "code",
   "execution_count": 0,
   "metadata": {
    "application/vnd.databricks.v1+cell": {
     "cellMetadata": {
      "byteLimit": 2048000,
      "rowLimit": 10000
     },
     "inputWidgets": {},
     "nuid": "c09d1eff-ba1c-452c-a3e4-2ee4cb10d91d",
     "showTitle": false,
     "title": ""
    }
   },
   "outputs": [
    {
     "output_type": "display_data",
     "data": {
      "text/plain": [
       "\u001B[0;31m---------------------------------------------------------------------------\u001B[0m\n",
       "\u001B[0;31mIllegalArgumentException\u001B[0m                  Traceback (most recent call last)\n",
       "File \u001B[0;32m<command-1838844575615342>:1\u001B[0m\n",
       "\u001B[0;32m----> 1\u001B[0m df  \u001B[38;5;241m=\u001B[39m spark\u001B[38;5;241m.\u001B[39mread\u001B[38;5;241m.\u001B[39mcsv(\u001B[38;5;124m'\u001B[39m\u001B[38;5;124mtest.csv\u001B[39m\u001B[38;5;124m'\u001B[39m, header\u001B[38;5;241m=\u001B[39m\u001B[38;5;28;01mTrue\u001B[39;00m)\n",
       "\u001B[1;32m      2\u001B[0m display(df)\n",
       "\n",
       "File \u001B[0;32m/databricks/spark/python/pyspark/instrumentation_utils.py:48\u001B[0m, in \u001B[0;36m_wrap_function.<locals>.wrapper\u001B[0;34m(*args, **kwargs)\u001B[0m\n",
       "\u001B[1;32m     46\u001B[0m start \u001B[38;5;241m=\u001B[39m time\u001B[38;5;241m.\u001B[39mperf_counter()\n",
       "\u001B[1;32m     47\u001B[0m \u001B[38;5;28;01mtry\u001B[39;00m:\n",
       "\u001B[0;32m---> 48\u001B[0m     res \u001B[38;5;241m=\u001B[39m \u001B[43mfunc\u001B[49m\u001B[43m(\u001B[49m\u001B[38;5;241;43m*\u001B[39;49m\u001B[43margs\u001B[49m\u001B[43m,\u001B[49m\u001B[43m \u001B[49m\u001B[38;5;241;43m*\u001B[39;49m\u001B[38;5;241;43m*\u001B[39;49m\u001B[43mkwargs\u001B[49m\u001B[43m)\u001B[49m\n",
       "\u001B[1;32m     49\u001B[0m     logger\u001B[38;5;241m.\u001B[39mlog_success(\n",
       "\u001B[1;32m     50\u001B[0m         module_name, class_name, function_name, time\u001B[38;5;241m.\u001B[39mperf_counter() \u001B[38;5;241m-\u001B[39m start, signature\n",
       "\u001B[1;32m     51\u001B[0m     )\n",
       "\u001B[1;32m     52\u001B[0m     \u001B[38;5;28;01mreturn\u001B[39;00m res\n",
       "\n",
       "File \u001B[0;32m/databricks/spark/python/pyspark/sql/readwriter.py:729\u001B[0m, in \u001B[0;36mDataFrameReader.csv\u001B[0;34m(self, path, schema, sep, encoding, quote, escape, comment, header, inferSchema, ignoreLeadingWhiteSpace, ignoreTrailingWhiteSpace, nullValue, nanValue, positiveInf, negativeInf, dateFormat, timestampFormat, maxColumns, maxCharsPerColumn, maxMalformedLogPerPartition, mode, columnNameOfCorruptRecord, multiLine, charToEscapeQuoteEscaping, samplingRatio, enforceSchema, emptyValue, locale, lineSep, pathGlobFilter, recursiveFileLookup, modifiedBefore, modifiedAfter, unescapedQuoteHandling)\u001B[0m\n",
       "\u001B[1;32m    727\u001B[0m \u001B[38;5;28;01mif\u001B[39;00m \u001B[38;5;28mtype\u001B[39m(path) \u001B[38;5;241m==\u001B[39m \u001B[38;5;28mlist\u001B[39m:\n",
       "\u001B[1;32m    728\u001B[0m     \u001B[38;5;28;01massert\u001B[39;00m \u001B[38;5;28mself\u001B[39m\u001B[38;5;241m.\u001B[39m_spark\u001B[38;5;241m.\u001B[39m_sc\u001B[38;5;241m.\u001B[39m_jvm \u001B[38;5;129;01mis\u001B[39;00m \u001B[38;5;129;01mnot\u001B[39;00m \u001B[38;5;28;01mNone\u001B[39;00m\n",
       "\u001B[0;32m--> 729\u001B[0m     \u001B[38;5;28;01mreturn\u001B[39;00m \u001B[38;5;28mself\u001B[39m\u001B[38;5;241m.\u001B[39m_df(\u001B[38;5;28;43mself\u001B[39;49m\u001B[38;5;241;43m.\u001B[39;49m\u001B[43m_jreader\u001B[49m\u001B[38;5;241;43m.\u001B[39;49m\u001B[43mcsv\u001B[49m\u001B[43m(\u001B[49m\u001B[38;5;28;43mself\u001B[39;49m\u001B[38;5;241;43m.\u001B[39;49m\u001B[43m_spark\u001B[49m\u001B[38;5;241;43m.\u001B[39;49m\u001B[43m_sc\u001B[49m\u001B[38;5;241;43m.\u001B[39;49m\u001B[43m_jvm\u001B[49m\u001B[38;5;241;43m.\u001B[39;49m\u001B[43mPythonUtils\u001B[49m\u001B[38;5;241;43m.\u001B[39;49m\u001B[43mtoSeq\u001B[49m\u001B[43m(\u001B[49m\u001B[43mpath\u001B[49m\u001B[43m)\u001B[49m\u001B[43m)\u001B[49m)\n",
       "\u001B[1;32m    730\u001B[0m \u001B[38;5;28;01melif\u001B[39;00m \u001B[38;5;28misinstance\u001B[39m(path, RDD):\n",
       "\u001B[1;32m    732\u001B[0m     \u001B[38;5;28;01mdef\u001B[39;00m \u001B[38;5;21mfunc\u001B[39m(iterator):\n",
       "\n",
       "File \u001B[0;32m/databricks/spark/python/lib/py4j-0.10.9.5-src.zip/py4j/java_gateway.py:1321\u001B[0m, in \u001B[0;36mJavaMember.__call__\u001B[0;34m(self, *args)\u001B[0m\n",
       "\u001B[1;32m   1315\u001B[0m command \u001B[38;5;241m=\u001B[39m proto\u001B[38;5;241m.\u001B[39mCALL_COMMAND_NAME \u001B[38;5;241m+\u001B[39m\\\n",
       "\u001B[1;32m   1316\u001B[0m     \u001B[38;5;28mself\u001B[39m\u001B[38;5;241m.\u001B[39mcommand_header \u001B[38;5;241m+\u001B[39m\\\n",
       "\u001B[1;32m   1317\u001B[0m     args_command \u001B[38;5;241m+\u001B[39m\\\n",
       "\u001B[1;32m   1318\u001B[0m     proto\u001B[38;5;241m.\u001B[39mEND_COMMAND_PART\n",
       "\u001B[1;32m   1320\u001B[0m answer \u001B[38;5;241m=\u001B[39m \u001B[38;5;28mself\u001B[39m\u001B[38;5;241m.\u001B[39mgateway_client\u001B[38;5;241m.\u001B[39msend_command(command)\n",
       "\u001B[0;32m-> 1321\u001B[0m return_value \u001B[38;5;241m=\u001B[39m \u001B[43mget_return_value\u001B[49m\u001B[43m(\u001B[49m\n",
       "\u001B[1;32m   1322\u001B[0m \u001B[43m    \u001B[49m\u001B[43manswer\u001B[49m\u001B[43m,\u001B[49m\u001B[43m \u001B[49m\u001B[38;5;28;43mself\u001B[39;49m\u001B[38;5;241;43m.\u001B[39;49m\u001B[43mgateway_client\u001B[49m\u001B[43m,\u001B[49m\u001B[43m \u001B[49m\u001B[38;5;28;43mself\u001B[39;49m\u001B[38;5;241;43m.\u001B[39;49m\u001B[43mtarget_id\u001B[49m\u001B[43m,\u001B[49m\u001B[43m \u001B[49m\u001B[38;5;28;43mself\u001B[39;49m\u001B[38;5;241;43m.\u001B[39;49m\u001B[43mname\u001B[49m\u001B[43m)\u001B[49m\n",
       "\u001B[1;32m   1324\u001B[0m \u001B[38;5;28;01mfor\u001B[39;00m temp_arg \u001B[38;5;129;01min\u001B[39;00m temp_args:\n",
       "\u001B[1;32m   1325\u001B[0m     temp_arg\u001B[38;5;241m.\u001B[39m_detach()\n",
       "\n",
       "File \u001B[0;32m/databricks/spark/python/pyspark/errors/exceptions.py:234\u001B[0m, in \u001B[0;36mcapture_sql_exception.<locals>.deco\u001B[0;34m(*a, **kw)\u001B[0m\n",
       "\u001B[1;32m    230\u001B[0m converted \u001B[38;5;241m=\u001B[39m convert_exception(e\u001B[38;5;241m.\u001B[39mjava_exception)\n",
       "\u001B[1;32m    231\u001B[0m \u001B[38;5;28;01mif\u001B[39;00m \u001B[38;5;129;01mnot\u001B[39;00m \u001B[38;5;28misinstance\u001B[39m(converted, UnknownException):\n",
       "\u001B[1;32m    232\u001B[0m     \u001B[38;5;66;03m# Hide where the exception came from that shows a non-Pythonic\u001B[39;00m\n",
       "\u001B[1;32m    233\u001B[0m     \u001B[38;5;66;03m# JVM exception message.\u001B[39;00m\n",
       "\u001B[0;32m--> 234\u001B[0m     \u001B[38;5;28;01mraise\u001B[39;00m converted \u001B[38;5;28;01mfrom\u001B[39;00m \u001B[38;5;28mNone\u001B[39m\n",
       "\u001B[1;32m    235\u001B[0m \u001B[38;5;28;01melse\u001B[39;00m:\n",
       "\u001B[1;32m    236\u001B[0m     \u001B[38;5;28;01mraise\u001B[39;00m\n",
       "\n",
       "\u001B[0;31mIllegalArgumentException\u001B[0m: Path must be absolute: test.csv"
      ]
     },
     "metadata": {
      "application/vnd.databricks.v1+output": {
       "arguments": {},
       "data": "\u001B[0;31m---------------------------------------------------------------------------\u001B[0m\n\u001B[0;31mIllegalArgumentException\u001B[0m                  Traceback (most recent call last)\nFile \u001B[0;32m<command-1838844575615342>:1\u001B[0m\n\u001B[0;32m----> 1\u001B[0m df  \u001B[38;5;241m=\u001B[39m spark\u001B[38;5;241m.\u001B[39mread\u001B[38;5;241m.\u001B[39mcsv(\u001B[38;5;124m'\u001B[39m\u001B[38;5;124mtest.csv\u001B[39m\u001B[38;5;124m'\u001B[39m, header\u001B[38;5;241m=\u001B[39m\u001B[38;5;28;01mTrue\u001B[39;00m)\n\u001B[1;32m      2\u001B[0m display(df)\n\nFile \u001B[0;32m/databricks/spark/python/pyspark/instrumentation_utils.py:48\u001B[0m, in \u001B[0;36m_wrap_function.<locals>.wrapper\u001B[0;34m(*args, **kwargs)\u001B[0m\n\u001B[1;32m     46\u001B[0m start \u001B[38;5;241m=\u001B[39m time\u001B[38;5;241m.\u001B[39mperf_counter()\n\u001B[1;32m     47\u001B[0m \u001B[38;5;28;01mtry\u001B[39;00m:\n\u001B[0;32m---> 48\u001B[0m     res \u001B[38;5;241m=\u001B[39m \u001B[43mfunc\u001B[49m\u001B[43m(\u001B[49m\u001B[38;5;241;43m*\u001B[39;49m\u001B[43margs\u001B[49m\u001B[43m,\u001B[49m\u001B[43m \u001B[49m\u001B[38;5;241;43m*\u001B[39;49m\u001B[38;5;241;43m*\u001B[39;49m\u001B[43mkwargs\u001B[49m\u001B[43m)\u001B[49m\n\u001B[1;32m     49\u001B[0m     logger\u001B[38;5;241m.\u001B[39mlog_success(\n\u001B[1;32m     50\u001B[0m         module_name, class_name, function_name, time\u001B[38;5;241m.\u001B[39mperf_counter() \u001B[38;5;241m-\u001B[39m start, signature\n\u001B[1;32m     51\u001B[0m     )\n\u001B[1;32m     52\u001B[0m     \u001B[38;5;28;01mreturn\u001B[39;00m res\n\nFile \u001B[0;32m/databricks/spark/python/pyspark/sql/readwriter.py:729\u001B[0m, in \u001B[0;36mDataFrameReader.csv\u001B[0;34m(self, path, schema, sep, encoding, quote, escape, comment, header, inferSchema, ignoreLeadingWhiteSpace, ignoreTrailingWhiteSpace, nullValue, nanValue, positiveInf, negativeInf, dateFormat, timestampFormat, maxColumns, maxCharsPerColumn, maxMalformedLogPerPartition, mode, columnNameOfCorruptRecord, multiLine, charToEscapeQuoteEscaping, samplingRatio, enforceSchema, emptyValue, locale, lineSep, pathGlobFilter, recursiveFileLookup, modifiedBefore, modifiedAfter, unescapedQuoteHandling)\u001B[0m\n\u001B[1;32m    727\u001B[0m \u001B[38;5;28;01mif\u001B[39;00m \u001B[38;5;28mtype\u001B[39m(path) \u001B[38;5;241m==\u001B[39m \u001B[38;5;28mlist\u001B[39m:\n\u001B[1;32m    728\u001B[0m     \u001B[38;5;28;01massert\u001B[39;00m \u001B[38;5;28mself\u001B[39m\u001B[38;5;241m.\u001B[39m_spark\u001B[38;5;241m.\u001B[39m_sc\u001B[38;5;241m.\u001B[39m_jvm \u001B[38;5;129;01mis\u001B[39;00m \u001B[38;5;129;01mnot\u001B[39;00m \u001B[38;5;28;01mNone\u001B[39;00m\n\u001B[0;32m--> 729\u001B[0m     \u001B[38;5;28;01mreturn\u001B[39;00m \u001B[38;5;28mself\u001B[39m\u001B[38;5;241m.\u001B[39m_df(\u001B[38;5;28;43mself\u001B[39;49m\u001B[38;5;241;43m.\u001B[39;49m\u001B[43m_jreader\u001B[49m\u001B[38;5;241;43m.\u001B[39;49m\u001B[43mcsv\u001B[49m\u001B[43m(\u001B[49m\u001B[38;5;28;43mself\u001B[39;49m\u001B[38;5;241;43m.\u001B[39;49m\u001B[43m_spark\u001B[49m\u001B[38;5;241;43m.\u001B[39;49m\u001B[43m_sc\u001B[49m\u001B[38;5;241;43m.\u001B[39;49m\u001B[43m_jvm\u001B[49m\u001B[38;5;241;43m.\u001B[39;49m\u001B[43mPythonUtils\u001B[49m\u001B[38;5;241;43m.\u001B[39;49m\u001B[43mtoSeq\u001B[49m\u001B[43m(\u001B[49m\u001B[43mpath\u001B[49m\u001B[43m)\u001B[49m\u001B[43m)\u001B[49m)\n\u001B[1;32m    730\u001B[0m \u001B[38;5;28;01melif\u001B[39;00m \u001B[38;5;28misinstance\u001B[39m(path, RDD):\n\u001B[1;32m    732\u001B[0m     \u001B[38;5;28;01mdef\u001B[39;00m \u001B[38;5;21mfunc\u001B[39m(iterator):\n\nFile \u001B[0;32m/databricks/spark/python/lib/py4j-0.10.9.5-src.zip/py4j/java_gateway.py:1321\u001B[0m, in \u001B[0;36mJavaMember.__call__\u001B[0;34m(self, *args)\u001B[0m\n\u001B[1;32m   1315\u001B[0m command \u001B[38;5;241m=\u001B[39m proto\u001B[38;5;241m.\u001B[39mCALL_COMMAND_NAME \u001B[38;5;241m+\u001B[39m\\\n\u001B[1;32m   1316\u001B[0m     \u001B[38;5;28mself\u001B[39m\u001B[38;5;241m.\u001B[39mcommand_header \u001B[38;5;241m+\u001B[39m\\\n\u001B[1;32m   1317\u001B[0m     args_command \u001B[38;5;241m+\u001B[39m\\\n\u001B[1;32m   1318\u001B[0m     proto\u001B[38;5;241m.\u001B[39mEND_COMMAND_PART\n\u001B[1;32m   1320\u001B[0m answer \u001B[38;5;241m=\u001B[39m \u001B[38;5;28mself\u001B[39m\u001B[38;5;241m.\u001B[39mgateway_client\u001B[38;5;241m.\u001B[39msend_command(command)\n\u001B[0;32m-> 1321\u001B[0m return_value \u001B[38;5;241m=\u001B[39m \u001B[43mget_return_value\u001B[49m\u001B[43m(\u001B[49m\n\u001B[1;32m   1322\u001B[0m \u001B[43m    \u001B[49m\u001B[43manswer\u001B[49m\u001B[43m,\u001B[49m\u001B[43m \u001B[49m\u001B[38;5;28;43mself\u001B[39;49m\u001B[38;5;241;43m.\u001B[39;49m\u001B[43mgateway_client\u001B[49m\u001B[43m,\u001B[49m\u001B[43m \u001B[49m\u001B[38;5;28;43mself\u001B[39;49m\u001B[38;5;241;43m.\u001B[39;49m\u001B[43mtarget_id\u001B[49m\u001B[43m,\u001B[49m\u001B[43m \u001B[49m\u001B[38;5;28;43mself\u001B[39;49m\u001B[38;5;241;43m.\u001B[39;49m\u001B[43mname\u001B[49m\u001B[43m)\u001B[49m\n\u001B[1;32m   1324\u001B[0m \u001B[38;5;28;01mfor\u001B[39;00m temp_arg \u001B[38;5;129;01min\u001B[39;00m temp_args:\n\u001B[1;32m   1325\u001B[0m     temp_arg\u001B[38;5;241m.\u001B[39m_detach()\n\nFile \u001B[0;32m/databricks/spark/python/pyspark/errors/exceptions.py:234\u001B[0m, in \u001B[0;36mcapture_sql_exception.<locals>.deco\u001B[0;34m(*a, **kw)\u001B[0m\n\u001B[1;32m    230\u001B[0m converted \u001B[38;5;241m=\u001B[39m convert_exception(e\u001B[38;5;241m.\u001B[39mjava_exception)\n\u001B[1;32m    231\u001B[0m \u001B[38;5;28;01mif\u001B[39;00m \u001B[38;5;129;01mnot\u001B[39;00m \u001B[38;5;28misinstance\u001B[39m(converted, UnknownException):\n\u001B[1;32m    232\u001B[0m     \u001B[38;5;66;03m# Hide where the exception came from that shows a non-Pythonic\u001B[39;00m\n\u001B[1;32m    233\u001B[0m     \u001B[38;5;66;03m# JVM exception message.\u001B[39;00m\n\u001B[0;32m--> 234\u001B[0m     \u001B[38;5;28;01mraise\u001B[39;00m converted \u001B[38;5;28;01mfrom\u001B[39;00m \u001B[38;5;28mNone\u001B[39m\n\u001B[1;32m    235\u001B[0m \u001B[38;5;28;01melse\u001B[39;00m:\n\u001B[1;32m    236\u001B[0m     \u001B[38;5;28;01mraise\u001B[39;00m\n\n\u001B[0;31mIllegalArgumentException\u001B[0m: Path must be absolute: test.csv",
       "errorSummary": "<span class='ansi-red-fg'>IllegalArgumentException</span>: Path must be absolute: test.csv",
       "errorTraceType": "ansi",
       "metadata": {},
       "type": "ipynbError"
      }
     },
     "output_type": "display_data"
    }
   ],
   "source": [
    "df  = spark.read.csv('test.csv', header=True)\n",
    "display(df)"
   ]
  },
  {
   "cell_type": "markdown",
   "metadata": {
    "application/vnd.databricks.v1+cell": {
     "cellMetadata": {
      "byteLimit": 2048000,
      "rowLimit": 10000
     },
     "inputWidgets": {},
     "nuid": "936624a5-80ee-4b3d-a1c3-2afde1e5d111",
     "showTitle": false,
     "title": ""
    }
   },
   "source": [
    "Spark unable to find the file. complete path will also not work"
   ]
  },
  {
   "cell_type": "code",
   "execution_count": 0,
   "metadata": {
    "application/vnd.databricks.v1+cell": {
     "cellMetadata": {
      "byteLimit": 2048000,
      "rowLimit": 10000
     },
     "inputWidgets": {},
     "nuid": "08e71550-1110-428d-ace1-e6e28d399c8c",
     "showTitle": false,
     "title": ""
    }
   },
   "outputs": [
    {
     "output_type": "stream",
     "name": "stdout",
     "output_type": "stream",
     "text": [
      "Out[53]: '/databricks/driver'"
     ]
    }
   ],
   "source": [
    "pwd"
   ]
  },
  {
   "cell_type": "code",
   "execution_count": 0,
   "metadata": {
    "application/vnd.databricks.v1+cell": {
     "cellMetadata": {
      "byteLimit": 2048000,
      "rowLimit": 10000
     },
     "inputWidgets": {},
     "nuid": "783eb886-486c-41cc-8554-8db030d6da95",
     "showTitle": false,
     "title": ""
    }
   },
   "outputs": [
    {
     "output_type": "stream",
     "name": "stdout",
     "output_type": "stream",
     "text": [
      "\u001B[0m\u001B[01;34mazure\u001B[0m/  \u001B[01;34meventlogs\u001B[0m/  \u001B[01;32mhadoop_accessed_config.lst\u001B[0m*  \u001B[01;34mmetastore_db\u001B[0m/       test.csv\r\n\u001B[01;34mconf\u001B[0m/   \u001B[01;34mganglia\u001B[0m/    \u001B[01;34mlogs\u001B[0m/                        \u001B[01;32mpreload_class.lst\u001B[0m*\r\n"
     ]
    }
   ],
   "source": [
    "ls /databricks/driver"
   ]
  },
  {
   "cell_type": "code",
   "execution_count": 0,
   "metadata": {
    "application/vnd.databricks.v1+cell": {
     "cellMetadata": {
      "byteLimit": 2048000,
      "rowLimit": 10000
     },
     "inputWidgets": {},
     "nuid": "e1858798-d7c5-4d3a-9fe3-3a31ee88ad40",
     "showTitle": false,
     "title": ""
    }
   },
   "outputs": [
    {
     "output_type": "display_data",
     "data": {
      "text/plain": [
       "\u001B[0;31m---------------------------------------------------------------------------\u001B[0m\n",
       "\u001B[0;31mAnalysisException\u001B[0m                         Traceback (most recent call last)\n",
       "File \u001B[0;32m<command-1838844575615347>:1\u001B[0m\n",
       "\u001B[0;32m----> 1\u001B[0m df  \u001B[38;5;241m=\u001B[39m spark\u001B[38;5;241m.\u001B[39mread\u001B[38;5;241m.\u001B[39mcsv(\u001B[38;5;124m'\u001B[39m\u001B[38;5;124m/databricks/driver/test.csv\u001B[39m\u001B[38;5;124m'\u001B[39m, header\u001B[38;5;241m=\u001B[39m\u001B[38;5;28;01mTrue\u001B[39;00m)\n",
       "\u001B[1;32m      2\u001B[0m display(df)\n",
       "\n",
       "File \u001B[0;32m/databricks/spark/python/pyspark/instrumentation_utils.py:48\u001B[0m, in \u001B[0;36m_wrap_function.<locals>.wrapper\u001B[0;34m(*args, **kwargs)\u001B[0m\n",
       "\u001B[1;32m     46\u001B[0m start \u001B[38;5;241m=\u001B[39m time\u001B[38;5;241m.\u001B[39mperf_counter()\n",
       "\u001B[1;32m     47\u001B[0m \u001B[38;5;28;01mtry\u001B[39;00m:\n",
       "\u001B[0;32m---> 48\u001B[0m     res \u001B[38;5;241m=\u001B[39m \u001B[43mfunc\u001B[49m\u001B[43m(\u001B[49m\u001B[38;5;241;43m*\u001B[39;49m\u001B[43margs\u001B[49m\u001B[43m,\u001B[49m\u001B[43m \u001B[49m\u001B[38;5;241;43m*\u001B[39;49m\u001B[38;5;241;43m*\u001B[39;49m\u001B[43mkwargs\u001B[49m\u001B[43m)\u001B[49m\n",
       "\u001B[1;32m     49\u001B[0m     logger\u001B[38;5;241m.\u001B[39mlog_success(\n",
       "\u001B[1;32m     50\u001B[0m         module_name, class_name, function_name, time\u001B[38;5;241m.\u001B[39mperf_counter() \u001B[38;5;241m-\u001B[39m start, signature\n",
       "\u001B[1;32m     51\u001B[0m     )\n",
       "\u001B[1;32m     52\u001B[0m     \u001B[38;5;28;01mreturn\u001B[39;00m res\n",
       "\n",
       "File \u001B[0;32m/databricks/spark/python/pyspark/sql/readwriter.py:729\u001B[0m, in \u001B[0;36mDataFrameReader.csv\u001B[0;34m(self, path, schema, sep, encoding, quote, escape, comment, header, inferSchema, ignoreLeadingWhiteSpace, ignoreTrailingWhiteSpace, nullValue, nanValue, positiveInf, negativeInf, dateFormat, timestampFormat, maxColumns, maxCharsPerColumn, maxMalformedLogPerPartition, mode, columnNameOfCorruptRecord, multiLine, charToEscapeQuoteEscaping, samplingRatio, enforceSchema, emptyValue, locale, lineSep, pathGlobFilter, recursiveFileLookup, modifiedBefore, modifiedAfter, unescapedQuoteHandling)\u001B[0m\n",
       "\u001B[1;32m    727\u001B[0m \u001B[38;5;28;01mif\u001B[39;00m \u001B[38;5;28mtype\u001B[39m(path) \u001B[38;5;241m==\u001B[39m \u001B[38;5;28mlist\u001B[39m:\n",
       "\u001B[1;32m    728\u001B[0m     \u001B[38;5;28;01massert\u001B[39;00m \u001B[38;5;28mself\u001B[39m\u001B[38;5;241m.\u001B[39m_spark\u001B[38;5;241m.\u001B[39m_sc\u001B[38;5;241m.\u001B[39m_jvm \u001B[38;5;129;01mis\u001B[39;00m \u001B[38;5;129;01mnot\u001B[39;00m \u001B[38;5;28;01mNone\u001B[39;00m\n",
       "\u001B[0;32m--> 729\u001B[0m     \u001B[38;5;28;01mreturn\u001B[39;00m \u001B[38;5;28mself\u001B[39m\u001B[38;5;241m.\u001B[39m_df(\u001B[38;5;28;43mself\u001B[39;49m\u001B[38;5;241;43m.\u001B[39;49m\u001B[43m_jreader\u001B[49m\u001B[38;5;241;43m.\u001B[39;49m\u001B[43mcsv\u001B[49m\u001B[43m(\u001B[49m\u001B[38;5;28;43mself\u001B[39;49m\u001B[38;5;241;43m.\u001B[39;49m\u001B[43m_spark\u001B[49m\u001B[38;5;241;43m.\u001B[39;49m\u001B[43m_sc\u001B[49m\u001B[38;5;241;43m.\u001B[39;49m\u001B[43m_jvm\u001B[49m\u001B[38;5;241;43m.\u001B[39;49m\u001B[43mPythonUtils\u001B[49m\u001B[38;5;241;43m.\u001B[39;49m\u001B[43mtoSeq\u001B[49m\u001B[43m(\u001B[49m\u001B[43mpath\u001B[49m\u001B[43m)\u001B[49m\u001B[43m)\u001B[49m)\n",
       "\u001B[1;32m    730\u001B[0m \u001B[38;5;28;01melif\u001B[39;00m \u001B[38;5;28misinstance\u001B[39m(path, RDD):\n",
       "\u001B[1;32m    732\u001B[0m     \u001B[38;5;28;01mdef\u001B[39;00m \u001B[38;5;21mfunc\u001B[39m(iterator):\n",
       "\n",
       "File \u001B[0;32m/databricks/spark/python/lib/py4j-0.10.9.5-src.zip/py4j/java_gateway.py:1321\u001B[0m, in \u001B[0;36mJavaMember.__call__\u001B[0;34m(self, *args)\u001B[0m\n",
       "\u001B[1;32m   1315\u001B[0m command \u001B[38;5;241m=\u001B[39m proto\u001B[38;5;241m.\u001B[39mCALL_COMMAND_NAME \u001B[38;5;241m+\u001B[39m\\\n",
       "\u001B[1;32m   1316\u001B[0m     \u001B[38;5;28mself\u001B[39m\u001B[38;5;241m.\u001B[39mcommand_header \u001B[38;5;241m+\u001B[39m\\\n",
       "\u001B[1;32m   1317\u001B[0m     args_command \u001B[38;5;241m+\u001B[39m\\\n",
       "\u001B[1;32m   1318\u001B[0m     proto\u001B[38;5;241m.\u001B[39mEND_COMMAND_PART\n",
       "\u001B[1;32m   1320\u001B[0m answer \u001B[38;5;241m=\u001B[39m \u001B[38;5;28mself\u001B[39m\u001B[38;5;241m.\u001B[39mgateway_client\u001B[38;5;241m.\u001B[39msend_command(command)\n",
       "\u001B[0;32m-> 1321\u001B[0m return_value \u001B[38;5;241m=\u001B[39m \u001B[43mget_return_value\u001B[49m\u001B[43m(\u001B[49m\n",
       "\u001B[1;32m   1322\u001B[0m \u001B[43m    \u001B[49m\u001B[43manswer\u001B[49m\u001B[43m,\u001B[49m\u001B[43m \u001B[49m\u001B[38;5;28;43mself\u001B[39;49m\u001B[38;5;241;43m.\u001B[39;49m\u001B[43mgateway_client\u001B[49m\u001B[43m,\u001B[49m\u001B[43m \u001B[49m\u001B[38;5;28;43mself\u001B[39;49m\u001B[38;5;241;43m.\u001B[39;49m\u001B[43mtarget_id\u001B[49m\u001B[43m,\u001B[49m\u001B[43m \u001B[49m\u001B[38;5;28;43mself\u001B[39;49m\u001B[38;5;241;43m.\u001B[39;49m\u001B[43mname\u001B[49m\u001B[43m)\u001B[49m\n",
       "\u001B[1;32m   1324\u001B[0m \u001B[38;5;28;01mfor\u001B[39;00m temp_arg \u001B[38;5;129;01min\u001B[39;00m temp_args:\n",
       "\u001B[1;32m   1325\u001B[0m     temp_arg\u001B[38;5;241m.\u001B[39m_detach()\n",
       "\n",
       "File \u001B[0;32m/databricks/spark/python/pyspark/errors/exceptions.py:234\u001B[0m, in \u001B[0;36mcapture_sql_exception.<locals>.deco\u001B[0;34m(*a, **kw)\u001B[0m\n",
       "\u001B[1;32m    230\u001B[0m converted \u001B[38;5;241m=\u001B[39m convert_exception(e\u001B[38;5;241m.\u001B[39mjava_exception)\n",
       "\u001B[1;32m    231\u001B[0m \u001B[38;5;28;01mif\u001B[39;00m \u001B[38;5;129;01mnot\u001B[39;00m \u001B[38;5;28misinstance\u001B[39m(converted, UnknownException):\n",
       "\u001B[1;32m    232\u001B[0m     \u001B[38;5;66;03m# Hide where the exception came from that shows a non-Pythonic\u001B[39;00m\n",
       "\u001B[1;32m    233\u001B[0m     \u001B[38;5;66;03m# JVM exception message.\u001B[39;00m\n",
       "\u001B[0;32m--> 234\u001B[0m     \u001B[38;5;28;01mraise\u001B[39;00m converted \u001B[38;5;28;01mfrom\u001B[39;00m \u001B[38;5;28mNone\u001B[39m\n",
       "\u001B[1;32m    235\u001B[0m \u001B[38;5;28;01melse\u001B[39;00m:\n",
       "\u001B[1;32m    236\u001B[0m     \u001B[38;5;28;01mraise\u001B[39;00m\n",
       "\n",
       "\u001B[0;31mAnalysisException\u001B[0m: [PATH_NOT_FOUND] Path does not exist: dbfs:/databricks/driver/test.csv."
      ]
     },
     "metadata": {
      "application/vnd.databricks.v1+output": {
       "arguments": {},
       "data": "\u001B[0;31m---------------------------------------------------------------------------\u001B[0m\n\u001B[0;31mAnalysisException\u001B[0m                         Traceback (most recent call last)\nFile \u001B[0;32m<command-1838844575615347>:1\u001B[0m\n\u001B[0;32m----> 1\u001B[0m df  \u001B[38;5;241m=\u001B[39m spark\u001B[38;5;241m.\u001B[39mread\u001B[38;5;241m.\u001B[39mcsv(\u001B[38;5;124m'\u001B[39m\u001B[38;5;124m/databricks/driver/test.csv\u001B[39m\u001B[38;5;124m'\u001B[39m, header\u001B[38;5;241m=\u001B[39m\u001B[38;5;28;01mTrue\u001B[39;00m)\n\u001B[1;32m      2\u001B[0m display(df)\n\nFile \u001B[0;32m/databricks/spark/python/pyspark/instrumentation_utils.py:48\u001B[0m, in \u001B[0;36m_wrap_function.<locals>.wrapper\u001B[0;34m(*args, **kwargs)\u001B[0m\n\u001B[1;32m     46\u001B[0m start \u001B[38;5;241m=\u001B[39m time\u001B[38;5;241m.\u001B[39mperf_counter()\n\u001B[1;32m     47\u001B[0m \u001B[38;5;28;01mtry\u001B[39;00m:\n\u001B[0;32m---> 48\u001B[0m     res \u001B[38;5;241m=\u001B[39m \u001B[43mfunc\u001B[49m\u001B[43m(\u001B[49m\u001B[38;5;241;43m*\u001B[39;49m\u001B[43margs\u001B[49m\u001B[43m,\u001B[49m\u001B[43m \u001B[49m\u001B[38;5;241;43m*\u001B[39;49m\u001B[38;5;241;43m*\u001B[39;49m\u001B[43mkwargs\u001B[49m\u001B[43m)\u001B[49m\n\u001B[1;32m     49\u001B[0m     logger\u001B[38;5;241m.\u001B[39mlog_success(\n\u001B[1;32m     50\u001B[0m         module_name, class_name, function_name, time\u001B[38;5;241m.\u001B[39mperf_counter() \u001B[38;5;241m-\u001B[39m start, signature\n\u001B[1;32m     51\u001B[0m     )\n\u001B[1;32m     52\u001B[0m     \u001B[38;5;28;01mreturn\u001B[39;00m res\n\nFile \u001B[0;32m/databricks/spark/python/pyspark/sql/readwriter.py:729\u001B[0m, in \u001B[0;36mDataFrameReader.csv\u001B[0;34m(self, path, schema, sep, encoding, quote, escape, comment, header, inferSchema, ignoreLeadingWhiteSpace, ignoreTrailingWhiteSpace, nullValue, nanValue, positiveInf, negativeInf, dateFormat, timestampFormat, maxColumns, maxCharsPerColumn, maxMalformedLogPerPartition, mode, columnNameOfCorruptRecord, multiLine, charToEscapeQuoteEscaping, samplingRatio, enforceSchema, emptyValue, locale, lineSep, pathGlobFilter, recursiveFileLookup, modifiedBefore, modifiedAfter, unescapedQuoteHandling)\u001B[0m\n\u001B[1;32m    727\u001B[0m \u001B[38;5;28;01mif\u001B[39;00m \u001B[38;5;28mtype\u001B[39m(path) \u001B[38;5;241m==\u001B[39m \u001B[38;5;28mlist\u001B[39m:\n\u001B[1;32m    728\u001B[0m     \u001B[38;5;28;01massert\u001B[39;00m \u001B[38;5;28mself\u001B[39m\u001B[38;5;241m.\u001B[39m_spark\u001B[38;5;241m.\u001B[39m_sc\u001B[38;5;241m.\u001B[39m_jvm \u001B[38;5;129;01mis\u001B[39;00m \u001B[38;5;129;01mnot\u001B[39;00m \u001B[38;5;28;01mNone\u001B[39;00m\n\u001B[0;32m--> 729\u001B[0m     \u001B[38;5;28;01mreturn\u001B[39;00m \u001B[38;5;28mself\u001B[39m\u001B[38;5;241m.\u001B[39m_df(\u001B[38;5;28;43mself\u001B[39;49m\u001B[38;5;241;43m.\u001B[39;49m\u001B[43m_jreader\u001B[49m\u001B[38;5;241;43m.\u001B[39;49m\u001B[43mcsv\u001B[49m\u001B[43m(\u001B[49m\u001B[38;5;28;43mself\u001B[39;49m\u001B[38;5;241;43m.\u001B[39;49m\u001B[43m_spark\u001B[49m\u001B[38;5;241;43m.\u001B[39;49m\u001B[43m_sc\u001B[49m\u001B[38;5;241;43m.\u001B[39;49m\u001B[43m_jvm\u001B[49m\u001B[38;5;241;43m.\u001B[39;49m\u001B[43mPythonUtils\u001B[49m\u001B[38;5;241;43m.\u001B[39;49m\u001B[43mtoSeq\u001B[49m\u001B[43m(\u001B[49m\u001B[43mpath\u001B[49m\u001B[43m)\u001B[49m\u001B[43m)\u001B[49m)\n\u001B[1;32m    730\u001B[0m \u001B[38;5;28;01melif\u001B[39;00m \u001B[38;5;28misinstance\u001B[39m(path, RDD):\n\u001B[1;32m    732\u001B[0m     \u001B[38;5;28;01mdef\u001B[39;00m \u001B[38;5;21mfunc\u001B[39m(iterator):\n\nFile \u001B[0;32m/databricks/spark/python/lib/py4j-0.10.9.5-src.zip/py4j/java_gateway.py:1321\u001B[0m, in \u001B[0;36mJavaMember.__call__\u001B[0;34m(self, *args)\u001B[0m\n\u001B[1;32m   1315\u001B[0m command \u001B[38;5;241m=\u001B[39m proto\u001B[38;5;241m.\u001B[39mCALL_COMMAND_NAME \u001B[38;5;241m+\u001B[39m\\\n\u001B[1;32m   1316\u001B[0m     \u001B[38;5;28mself\u001B[39m\u001B[38;5;241m.\u001B[39mcommand_header \u001B[38;5;241m+\u001B[39m\\\n\u001B[1;32m   1317\u001B[0m     args_command \u001B[38;5;241m+\u001B[39m\\\n\u001B[1;32m   1318\u001B[0m     proto\u001B[38;5;241m.\u001B[39mEND_COMMAND_PART\n\u001B[1;32m   1320\u001B[0m answer \u001B[38;5;241m=\u001B[39m \u001B[38;5;28mself\u001B[39m\u001B[38;5;241m.\u001B[39mgateway_client\u001B[38;5;241m.\u001B[39msend_command(command)\n\u001B[0;32m-> 1321\u001B[0m return_value \u001B[38;5;241m=\u001B[39m \u001B[43mget_return_value\u001B[49m\u001B[43m(\u001B[49m\n\u001B[1;32m   1322\u001B[0m \u001B[43m    \u001B[49m\u001B[43manswer\u001B[49m\u001B[43m,\u001B[49m\u001B[43m \u001B[49m\u001B[38;5;28;43mself\u001B[39;49m\u001B[38;5;241;43m.\u001B[39;49m\u001B[43mgateway_client\u001B[49m\u001B[43m,\u001B[49m\u001B[43m \u001B[49m\u001B[38;5;28;43mself\u001B[39;49m\u001B[38;5;241;43m.\u001B[39;49m\u001B[43mtarget_id\u001B[49m\u001B[43m,\u001B[49m\u001B[43m \u001B[49m\u001B[38;5;28;43mself\u001B[39;49m\u001B[38;5;241;43m.\u001B[39;49m\u001B[43mname\u001B[49m\u001B[43m)\u001B[49m\n\u001B[1;32m   1324\u001B[0m \u001B[38;5;28;01mfor\u001B[39;00m temp_arg \u001B[38;5;129;01min\u001B[39;00m temp_args:\n\u001B[1;32m   1325\u001B[0m     temp_arg\u001B[38;5;241m.\u001B[39m_detach()\n\nFile \u001B[0;32m/databricks/spark/python/pyspark/errors/exceptions.py:234\u001B[0m, in \u001B[0;36mcapture_sql_exception.<locals>.deco\u001B[0;34m(*a, **kw)\u001B[0m\n\u001B[1;32m    230\u001B[0m converted \u001B[38;5;241m=\u001B[39m convert_exception(e\u001B[38;5;241m.\u001B[39mjava_exception)\n\u001B[1;32m    231\u001B[0m \u001B[38;5;28;01mif\u001B[39;00m \u001B[38;5;129;01mnot\u001B[39;00m \u001B[38;5;28misinstance\u001B[39m(converted, UnknownException):\n\u001B[1;32m    232\u001B[0m     \u001B[38;5;66;03m# Hide where the exception came from that shows a non-Pythonic\u001B[39;00m\n\u001B[1;32m    233\u001B[0m     \u001B[38;5;66;03m# JVM exception message.\u001B[39;00m\n\u001B[0;32m--> 234\u001B[0m     \u001B[38;5;28;01mraise\u001B[39;00m converted \u001B[38;5;28;01mfrom\u001B[39;00m \u001B[38;5;28mNone\u001B[39m\n\u001B[1;32m    235\u001B[0m \u001B[38;5;28;01melse\u001B[39;00m:\n\u001B[1;32m    236\u001B[0m     \u001B[38;5;28;01mraise\u001B[39;00m\n\n\u001B[0;31mAnalysisException\u001B[0m: [PATH_NOT_FOUND] Path does not exist: dbfs:/databricks/driver/test.csv.",
       "errorSummary": "<span class='ansi-red-fg'>AnalysisException</span>: [PATH_NOT_FOUND] Path does not exist: dbfs:/databricks/driver/test.csv.",
       "errorTraceType": "ansi",
       "metadata": {},
       "type": "ipynbError"
      }
     },
     "output_type": "display_data"
    }
   ],
   "source": [
    "df  = spark.read.csv('/databricks/driver/test.csv', header=True)\n",
    "display(df)"
   ]
  },
  {
   "cell_type": "markdown",
   "metadata": {
    "application/vnd.databricks.v1+cell": {
     "cellMetadata": {
      "byteLimit": 2048000,
      "rowLimit": 10000
     },
     "inputWidgets": {},
     "nuid": "60040414-73f2-4b2b-9b21-8457dcf6be89",
     "showTitle": false,
     "title": ""
    }
   },
   "source": [
    "file is not present in dbfs, use file: instead."
   ]
  },
  {
   "cell_type": "code",
   "execution_count": 0,
   "metadata": {
    "application/vnd.databricks.v1+cell": {
     "cellMetadata": {
      "byteLimit": 2048000,
      "rowLimit": 10000
     },
     "inputWidgets": {},
     "nuid": "6e734ec3-661e-4ea9-98b7-ce4f5de194cf",
     "showTitle": false,
     "title": ""
    }
   },
   "outputs": [
    {
     "output_type": "display_data",
     "data": {
      "text/html": [
       "<style scoped>\n",
       "  .table-result-container {\n",
       "    max-height: 300px;\n",
       "    overflow: auto;\n",
       "  }\n",
       "  table, th, td {\n",
       "    border: 1px solid black;\n",
       "    border-collapse: collapse;\n",
       "  }\n",
       "  th, td {\n",
       "    padding: 5px;\n",
       "  }\n",
       "  th {\n",
       "    text-align: left;\n",
       "  }\n",
       "</style><div class='table-result-container'><table class='table-result'><thead style='background-color: white'><tr><th>id</th><th>name</th><th>age</th><th>city</th><th>salary</th></tr></thead><tbody><tr><td>1</td><td>John Doe</td><td>28</td><td>New York</td><td>70000</td></tr><tr><td>2</td><td>Jane Smith</td><td>34</td><td>Los Angeles</td><td>80000</td></tr><tr><td>3</td><td>Emily Davis</td><td>22</td><td>Chicago</td><td>60000</td></tr><tr><td>4</td><td>Michael Brown</td><td>45</td><td>Houston</td><td>95000</td></tr><tr><td>5</td><td>Jessica Taylor</td><td>29</td><td>Philadelphia</td><td>75000</td></tr></tbody></table></div>"
      ]
     },
     "metadata": {
      "application/vnd.databricks.v1+output": {
       "addedWidgets": {},
       "aggData": [],
       "aggError": "",
       "aggOverflow": false,
       "aggSchema": [],
       "aggSeriesLimitReached": false,
       "aggType": "",
       "arguments": {},
       "columnCustomDisplayInfos": {},
       "data": [
        [
         "1",
         "John Doe",
         "28",
         "New York",
         "70000"
        ],
        [
         "2",
         "Jane Smith",
         "34",
         "Los Angeles",
         "80000"
        ],
        [
         "3",
         "Emily Davis",
         "22",
         "Chicago",
         "60000"
        ],
        [
         "4",
         "Michael Brown",
         "45",
         "Houston",
         "95000"
        ],
        [
         "5",
         "Jessica Taylor",
         "29",
         "Philadelphia",
         "75000"
        ]
       ],
       "datasetInfos": [],
       "dbfsResultPath": null,
       "isJsonSchema": true,
       "metadata": {},
       "overflow": false,
       "plotOptions": {
        "customPlotOptions": {},
        "displayType": "table",
        "pivotAggregation": null,
        "pivotColumns": null,
        "xColumns": null,
        "yColumns": null
       },
       "removedWidgets": [],
       "schema": [
        {
         "metadata": "{}",
         "name": "id",
         "type": "\"string\""
        },
        {
         "metadata": "{}",
         "name": "name",
         "type": "\"string\""
        },
        {
         "metadata": "{}",
         "name": "age",
         "type": "\"string\""
        },
        {
         "metadata": "{}",
         "name": "city",
         "type": "\"string\""
        },
        {
         "metadata": "{}",
         "name": "salary",
         "type": "\"string\""
        }
       ],
       "type": "table"
      }
     },
     "output_type": "display_data"
    }
   ],
   "source": [
    "df  = spark.read.csv('file:/databricks/driver/test.csv', header=True)\n",
    "display(df)"
   ]
  },
  {
   "cell_type": "code",
   "execution_count": 0,
   "metadata": {
    "application/vnd.databricks.v1+cell": {
     "cellMetadata": {
      "byteLimit": 2048000,
      "rowLimit": 10000
     },
     "inputWidgets": {},
     "nuid": "09ce9089-802a-45b7-8fb6-6e34feb26245",
     "showTitle": false,
     "title": ""
    }
   },
   "outputs": [
    {
     "output_type": "stream",
     "name": "stdout",
     "output_type": "stream",
     "text": [
      "root\n |-- id: string (nullable = true)\n |-- name: string (nullable = true)\n |-- age: string (nullable = true)\n |-- city: string (nullable = true)\n |-- salary: string (nullable = true)\n\n"
     ]
    }
   ],
   "source": [
    "df.printSchema()"
   ]
  },
  {
   "cell_type": "code",
   "execution_count": 0,
   "metadata": {
    "application/vnd.databricks.v1+cell": {
     "cellMetadata": {
      "byteLimit": 2048000,
      "rowLimit": 10000
     },
     "inputWidgets": {},
     "nuid": "53ebb70d-e388-42f8-a65a-ac83eee719d5",
     "showTitle": false,
     "title": ""
    }
   },
   "outputs": [
    {
     "output_type": "display_data",
     "data": {
      "text/html": [
       "<style scoped>\n",
       "  .table-result-container {\n",
       "    max-height: 300px;\n",
       "    overflow: auto;\n",
       "  }\n",
       "  table, th, td {\n",
       "    border: 1px solid black;\n",
       "    border-collapse: collapse;\n",
       "  }\n",
       "  th, td {\n",
       "    padding: 5px;\n",
       "  }\n",
       "  th {\n",
       "    text-align: left;\n",
       "  }\n",
       "</style><div class='table-result-container'><table class='table-result'><thead style='background-color: white'><tr><th>id</th><th>name</th><th>age</th><th>city</th><th>salary</th></tr></thead><tbody><tr><td>1</td><td>John Doe</td><td>28</td><td>New York</td><td>70000</td></tr><tr><td>2</td><td>Jane Smith</td><td>34</td><td>Los Angeles</td><td>80000</td></tr><tr><td>3</td><td>Emily Davis</td><td>22</td><td>Chicago</td><td>60000</td></tr><tr><td>4</td><td>Michael Brown</td><td>45</td><td>Houston</td><td>95000</td></tr><tr><td>5</td><td>Jessica Taylor</td><td>29</td><td>Philadelphia</td><td>75000</td></tr></tbody></table></div>"
      ]
     },
     "metadata": {
      "application/vnd.databricks.v1+output": {
       "addedWidgets": {},
       "aggData": [],
       "aggError": "",
       "aggOverflow": false,
       "aggSchema": [],
       "aggSeriesLimitReached": false,
       "aggType": "",
       "arguments": {},
       "columnCustomDisplayInfos": {},
       "data": [
        [
         1,
         "John Doe",
         28,
         "New York",
         70000
        ],
        [
         2,
         "Jane Smith",
         34,
         "Los Angeles",
         80000
        ],
        [
         3,
         "Emily Davis",
         22,
         "Chicago",
         60000
        ],
        [
         4,
         "Michael Brown",
         45,
         "Houston",
         95000
        ],
        [
         5,
         "Jessica Taylor",
         29,
         "Philadelphia",
         75000
        ]
       ],
       "datasetInfos": [],
       "dbfsResultPath": null,
       "isJsonSchema": true,
       "metadata": {},
       "overflow": false,
       "plotOptions": {
        "customPlotOptions": {},
        "displayType": "table",
        "pivotAggregation": null,
        "pivotColumns": null,
        "xColumns": null,
        "yColumns": null
       },
       "removedWidgets": [],
       "schema": [
        {
         "metadata": "{}",
         "name": "id",
         "type": "\"integer\""
        },
        {
         "metadata": "{}",
         "name": "name",
         "type": "\"string\""
        },
        {
         "metadata": "{}",
         "name": "age",
         "type": "\"integer\""
        },
        {
         "metadata": "{}",
         "name": "city",
         "type": "\"string\""
        },
        {
         "metadata": "{}",
         "name": "salary",
         "type": "\"integer\""
        }
       ],
       "type": "table"
      }
     },
     "output_type": "display_data"
    },
    {
     "output_type": "stream",
     "name": "stdout",
     "output_type": "stream",
     "text": [
      "root\n |-- id: integer (nullable = true)\n |-- name: string (nullable = true)\n |-- age: integer (nullable = true)\n |-- city: string (nullable = true)\n |-- salary: integer (nullable = true)\n\n"
     ]
    }
   ],
   "source": [
    "df  = spark.read.csv('file:/databricks/driver/test.csv', header=True, inferSchema=True)\n",
    "display(df)\n",
    "df.printSchema()"
   ]
  },
  {
   "cell_type": "markdown",
   "metadata": {
    "application/vnd.databricks.v1+cell": {
     "cellMetadata": {
      "byteLimit": 2048000,
      "rowLimit": 10000
     },
     "inputWidgets": {},
     "nuid": "3a183579-7d24-4d31-8a3c-a5954e65b8d2",
     "showTitle": false,
     "title": ""
    }
   },
   "source": [
    "Data can also be read from dbfs"
   ]
  },
  {
   "cell_type": "code",
   "execution_count": 0,
   "metadata": {
    "application/vnd.databricks.v1+cell": {
     "cellMetadata": {
      "byteLimit": 2048000,
      "rowLimit": 10000
     },
     "inputWidgets": {},
     "nuid": "e07eebbe-288f-4c7c-98f8-4cf7c4b08423",
     "showTitle": false,
     "title": ""
    }
   },
   "outputs": [
    {
     "output_type": "display_data",
     "data": {
      "text/html": [
       "<style scoped>\n",
       "  .table-result-container {\n",
       "    max-height: 300px;\n",
       "    overflow: auto;\n",
       "  }\n",
       "  table, th, td {\n",
       "    border: 1px solid black;\n",
       "    border-collapse: collapse;\n",
       "  }\n",
       "  th, td {\n",
       "    padding: 5px;\n",
       "  }\n",
       "  th {\n",
       "    text-align: left;\n",
       "  }\n",
       "</style><div class='table-result-container'><table class='table-result'><thead style='background-color: white'><tr><th>path</th><th>name</th><th>size</th><th>modificationTime</th></tr></thead><tbody><tr><td>dbfs:/databricks-datasets/timeseries/Fires/Fire_Department_Calls_for_Service.csv</td><td>Fire_Department_Calls_for_Service.csv</td><td>1892561692</td><td>1573520565000</td></tr><tr><td>dbfs:/databricks-datasets/timeseries/Fires/SFFire_readme.md</td><td>SFFire_readme.md</td><td>1222</td><td>1573520565000</td></tr></tbody></table></div>"
      ]
     },
     "metadata": {
      "application/vnd.databricks.v1+output": {
       "addedWidgets": {},
       "aggData": [],
       "aggError": "",
       "aggOverflow": false,
       "aggSchema": [],
       "aggSeriesLimitReached": false,
       "aggType": "",
       "arguments": {},
       "columnCustomDisplayInfos": {},
       "data": [
        [
         "dbfs:/databricks-datasets/timeseries/Fires/Fire_Department_Calls_for_Service.csv",
         "Fire_Department_Calls_for_Service.csv",
         1892561692,
         1573520565000
        ],
        [
         "dbfs:/databricks-datasets/timeseries/Fires/SFFire_readme.md",
         "SFFire_readme.md",
         1222,
         1573520565000
        ]
       ],
       "datasetInfos": [],
       "dbfsResultPath": null,
       "isJsonSchema": true,
       "metadata": {
        "isDbfsCommandResult": false
       },
       "overflow": false,
       "plotOptions": {
        "customPlotOptions": {},
        "displayType": "table",
        "pivotAggregation": null,
        "pivotColumns": null,
        "xColumns": null,
        "yColumns": null
       },
       "removedWidgets": [],
       "schema": [
        {
         "metadata": "{}",
         "name": "path",
         "type": "\"string\""
        },
        {
         "metadata": "{}",
         "name": "name",
         "type": "\"string\""
        },
        {
         "metadata": "{}",
         "name": "size",
         "type": "\"long\""
        },
        {
         "metadata": "{}",
         "name": "modificationTime",
         "type": "\"long\""
        }
       ],
       "type": "table"
      }
     },
     "output_type": "display_data"
    }
   ],
   "source": [
    "%fs ls dbfs:/databricks-datasets/timeseries/Fires/\n"
   ]
  },
  {
   "cell_type": "code",
   "execution_count": 0,
   "metadata": {
    "application/vnd.databricks.v1+cell": {
     "cellMetadata": {
      "byteLimit": 2048000,
      "rowLimit": 10000
     },
     "inputWidgets": {},
     "nuid": "3ba619b2-c4f4-454d-8e61-918f3016db1c",
     "showTitle": false,
     "title": ""
    }
   },
   "outputs": [
    {
     "output_type": "display_data",
     "data": {
      "text/html": [
       "<style scoped>\n",
       "  .table-result-container {\n",
       "    max-height: 300px;\n",
       "    overflow: auto;\n",
       "  }\n",
       "  table, th, td {\n",
       "    border: 1px solid black;\n",
       "    border-collapse: collapse;\n",
       "  }\n",
       "  th, td {\n",
       "    padding: 5px;\n",
       "  }\n",
       "  th {\n",
       "    text-align: left;\n",
       "  }\n",
       "</style><div class='table-result-container'><table class='table-result'><thead style='background-color: white'><tr><th>Call Number</th><th>Unit ID</th><th>Incident Number</th><th>Call Type</th><th>Call Date</th><th>Watch Date</th><th>Received DtTm</th><th>Entry DtTm</th><th>Dispatch DtTm</th><th>Response DtTm</th><th>On Scene DtTm</th><th>Transport DtTm</th><th>Hospital DtTm</th><th>Call Final Disposition</th><th>Available DtTm</th><th>Address</th><th>City</th><th>Zipcode of Incident</th><th>Battalion</th><th>Station Area</th><th>Box</th><th>Original Priority</th><th>Priority</th><th>Final Priority</th><th>ALS Unit</th><th>Call Type Group</th><th>Number of Alarms</th><th>Unit Type</th><th>Unit sequence in call dispatch</th><th>Fire Prevention District</th><th>Supervisor District</th><th>Neighborhooods - Analysis Boundaries</th><th>Location</th><th>RowID</th></tr></thead><tbody><tr><td>192910017</td><td>E11</td><td>19125164</td><td>Alarms</td><td>2019-10-18</td><td>2019-10-17</td><td>10/18/2019 12:03:52 AM</td><td>10/18/2019 12:06:59 AM</td><td>10/18/2019 12:07:05 AM</td><td>10/18/2019 12:08:28 AM</td><td>10/18/2019 12:11:10 AM</td><td>null</td><td>null</td><td>Fire</td><td>10/18/2019 12:33:57 AM</td><td>24TH ST/VALENCIA ST</td><td>San Francisco</td><td>94110</td><td>B06</td><td>11</td><td>5525</td><td>3</td><td>3</td><td>3</td><td>true</td><td>Alarm</td><td>1</td><td>ENGINE</td><td>1</td><td>6</td><td>9</td><td>Mission</td><td>POINT (-122.42066480228367 37.75210364574824)</td><td>192910017-E11</td></tr><tr><td>192910018</td><td>B10</td><td>19125165</td><td>Alarms</td><td>2019-10-18</td><td>2019-10-17</td><td>10/18/2019 12:05:56 AM</td><td>10/18/2019 12:07:27 AM</td><td>10/18/2019 12:09:49 AM</td><td>null</td><td>null</td><td>null</td><td>null</td><td>Other</td><td>10/18/2019 12:10:14 AM</td><td>3300 Block of 23RD ST</td><td>San Francisco</td><td>94110</td><td>B06</td><td>11</td><td>0552</td><td>3</td><td>3</td><td>3</td><td>false</td><td>Alarm</td><td>1</td><td>CHIEF</td><td>1</td><td>6</td><td>9</td><td>Mission</td><td>POINT (-122.4202535645237 37.75368162954947)</td><td>192910018-B10</td></tr><tr><td>192910018</td><td>T07</td><td>19125165</td><td>Alarms</td><td>2019-10-18</td><td>2019-10-17</td><td>10/18/2019 12:05:56 AM</td><td>10/18/2019 12:07:27 AM</td><td>10/18/2019 12:09:49 AM</td><td>null</td><td>null</td><td>null</td><td>null</td><td>Other</td><td>10/18/2019 12:10:14 AM</td><td>3300 Block of 23RD ST</td><td>San Francisco</td><td>94110</td><td>B06</td><td>11</td><td>0552</td><td>3</td><td>3</td><td>3</td><td>false</td><td>Alarm</td><td>1</td><td>TRUCK</td><td>3</td><td>6</td><td>9</td><td>Mission</td><td>POINT (-122.4202535645237 37.75368162954947)</td><td>192910018-T07</td></tr><tr><td>192910025</td><td>B04</td><td>19125166</td><td>Alarms</td><td>2019-10-18</td><td>2019-10-17</td><td>10/18/2019 12:09:02 AM</td><td>10/18/2019 12:09:02 AM</td><td>10/18/2019 12:09:02 AM</td><td>10/18/2019 12:09:02 AM</td><td>10/18/2019 12:09:02 AM</td><td>null</td><td>null</td><td>Fire</td><td>10/18/2019 12:21:52 AM</td><td>3300 Block of FILLMORE ST</td><td>San Francisco</td><td>94123</td><td>B04</td><td>16</td><td>3554</td><td>3</td><td>3</td><td>3</td><td>false</td><td>Alarm</td><td>1</td><td>CHIEF</td><td>1</td><td>4</td><td>2</td><td>Marina</td><td>POINT (-122.43607739030332 37.80034056356869)</td><td>192910025-B04</td></tr><tr><td>192910034</td><td>E01</td><td>19125167</td><td>Structure Fire</td><td>2019-10-18</td><td>2019-10-17</td><td>10/18/2019 12:12:39 AM</td><td>10/18/2019 12:12:39 AM</td><td>10/18/2019 12:12:48 AM</td><td>10/18/2019 12:13:52 AM</td><td>10/18/2019 12:16:16 AM</td><td>null</td><td>null</td><td>Fire</td><td>10/18/2019 12:16:25 AM</td><td>7TH ST/MISSION ST</td><td>San Francisco</td><td>94103</td><td>B02</td><td>01</td><td>2315</td><td>3</td><td>3</td><td>3</td><td>true</td><td>Alarm</td><td>1</td><td>ENGINE</td><td>1</td><td>2</td><td>6</td><td>South of Market</td><td>POINT (-122.41093657380038 37.779211684542084)</td><td>192910034-E01</td></tr><tr><td>192910034</td><td>T01</td><td>19125167</td><td>Structure Fire</td><td>2019-10-18</td><td>2019-10-17</td><td>10/18/2019 12:12:39 AM</td><td>10/18/2019 12:12:39 AM</td><td>10/18/2019 12:12:48 AM</td><td>10/18/2019 12:14:28 AM</td><td>null</td><td>null</td><td>null</td><td>Fire</td><td>10/18/2019 12:16:18 AM</td><td>7TH ST/MISSION ST</td><td>San Francisco</td><td>94103</td><td>B02</td><td>01</td><td>2315</td><td>3</td><td>3</td><td>3</td><td>false</td><td>Alarm</td><td>1</td><td>TRUCK</td><td>2</td><td>2</td><td>6</td><td>South of Market</td><td>POINT (-122.41093657380038 37.779211684542084)</td><td>192910034-T01</td></tr><tr><td>192910039</td><td>76</td><td>19125168</td><td>Medical Incident</td><td>2019-10-18</td><td>2019-10-17</td><td>10/18/2019 12:14:32 AM</td><td>10/18/2019 12:14:32 AM</td><td>10/18/2019 12:15:10 AM</td><td>10/18/2019 12:15:25 AM</td><td>10/18/2019 12:32:14 AM</td><td>10/18/2019 12:56:35 AM</td><td>10/18/2019 01:15:56 AM</td><td>Code 2 Transport</td><td>10/18/2019 01:48:10 AM</td><td>1600 Block of MCKINNON AVE</td><td>San Francisco</td><td>94124</td><td>B10</td><td>17</td><td>6515</td><td>A</td><td>2</td><td>2</td><td>true</td><td>Non Life-threatening</td><td>1</td><td>MEDIC</td><td>1</td><td>10</td><td>10</td><td>Bayview Hunters Point</td><td>POINT (-122.38972310330021 37.73607882495912)</td><td>192910039-76</td></tr><tr><td>192910048</td><td>T08</td><td>19125169</td><td>Alarms</td><td>2019-10-18</td><td>2019-10-17</td><td>10/18/2019 12:20:25 AM</td><td>10/18/2019 12:21:44 AM</td><td>10/18/2019 12:21:51 AM</td><td>10/18/2019 12:24:30 AM</td><td>10/18/2019 12:26:44 AM</td><td>null</td><td>null</td><td>Fire</td><td>10/18/2019 12:40:41 AM</td><td>100 Block of BERRY ST</td><td>San Francisco</td><td>94158</td><td>B03</td><td>08</td><td>2171</td><td>3</td><td>3</td><td>3</td><td>false</td><td>Alarm</td><td>1</td><td>TRUCK</td><td>3</td><td>3</td><td>6</td><td>Mission Bay</td><td>POINT (-122.3921894505535 37.77663138541027)</td><td>192910048-T08</td></tr><tr><td>192910057</td><td>78</td><td>19125170</td><td>Medical Incident</td><td>2019-10-18</td><td>2019-10-17</td><td>10/18/2019 12:23:58 AM</td><td>10/18/2019 12:26:34 AM</td><td>10/18/2019 12:26:42 AM</td><td>10/18/2019 12:27:20 AM</td><td>10/18/2019 12:34:19 AM</td><td>10/18/2019 12:53:44 AM</td><td>10/18/2019 01:01:18 AM</td><td>Code 3 Transport</td><td>10/18/2019 01:52:13 AM</td><td>800 Block of FOERSTER ST</td><td>San Francisco</td><td>94127</td><td>B09</td><td>15</td><td>8247</td><td>3</td><td>3</td><td>3</td><td>true</td><td>Potentially Life-Threatening</td><td>1</td><td>MEDIC</td><td>2</td><td>9</td><td>7</td><td>West of Twin Peaks</td><td>POINT (-122.44882464734825 37.736080487699894)</td><td>192910057-78</td></tr><tr><td>192910057</td><td>E15</td><td>19125170</td><td>Medical Incident</td><td>2019-10-18</td><td>2019-10-17</td><td>10/18/2019 12:23:58 AM</td><td>10/18/2019 12:26:34 AM</td><td>10/18/2019 12:26:42 AM</td><td>10/18/2019 12:29:33 AM</td><td>10/18/2019 12:33:04 AM</td><td>null</td><td>null</td><td>Code 3 Transport</td><td>10/18/2019 01:17:49 AM</td><td>800 Block of FOERSTER ST</td><td>San Francisco</td><td>94127</td><td>B09</td><td>15</td><td>8247</td><td>3</td><td>3</td><td>3</td><td>true</td><td>Potentially Life-Threatening</td><td>1</td><td>ENGINE</td><td>1</td><td>9</td><td>7</td><td>West of Twin Peaks</td><td>POINT (-122.44882464734825 37.736080487699894)</td><td>192910057-E15</td></tr></tbody></table></div>"
      ]
     },
     "metadata": {
      "application/vnd.databricks.v1+output": {
       "addedWidgets": {},
       "aggData": [],
       "aggError": "",
       "aggOverflow": false,
       "aggSchema": [],
       "aggSeriesLimitReached": false,
       "aggType": "",
       "arguments": {},
       "columnCustomDisplayInfos": {},
       "data": [
        [
         192910017,
         "E11",
         19125164,
         "Alarms",
         "2019-10-18",
         "2019-10-17",
         "10/18/2019 12:03:52 AM",
         "10/18/2019 12:06:59 AM",
         "10/18/2019 12:07:05 AM",
         "10/18/2019 12:08:28 AM",
         "10/18/2019 12:11:10 AM",
         null,
         null,
         "Fire",
         "10/18/2019 12:33:57 AM",
         "24TH ST/VALENCIA ST",
         "San Francisco",
         94110,
         "B06",
         "11",
         "5525",
         "3",
         "3",
         3,
         true,
         "Alarm",
         1,
         "ENGINE",
         1,
         "6",
         "9",
         "Mission",
         "POINT (-122.42066480228367 37.75210364574824)",
         "192910017-E11"
        ],
        [
         192910018,
         "B10",
         19125165,
         "Alarms",
         "2019-10-18",
         "2019-10-17",
         "10/18/2019 12:05:56 AM",
         "10/18/2019 12:07:27 AM",
         "10/18/2019 12:09:49 AM",
         null,
         null,
         null,
         null,
         "Other",
         "10/18/2019 12:10:14 AM",
         "3300 Block of 23RD ST",
         "San Francisco",
         94110,
         "B06",
         "11",
         "0552",
         "3",
         "3",
         3,
         false,
         "Alarm",
         1,
         "CHIEF",
         1,
         "6",
         "9",
         "Mission",
         "POINT (-122.4202535645237 37.75368162954947)",
         "192910018-B10"
        ],
        [
         192910018,
         "T07",
         19125165,
         "Alarms",
         "2019-10-18",
         "2019-10-17",
         "10/18/2019 12:05:56 AM",
         "10/18/2019 12:07:27 AM",
         "10/18/2019 12:09:49 AM",
         null,
         null,
         null,
         null,
         "Other",
         "10/18/2019 12:10:14 AM",
         "3300 Block of 23RD ST",
         "San Francisco",
         94110,
         "B06",
         "11",
         "0552",
         "3",
         "3",
         3,
         false,
         "Alarm",
         1,
         "TRUCK",
         3,
         "6",
         "9",
         "Mission",
         "POINT (-122.4202535645237 37.75368162954947)",
         "192910018-T07"
        ],
        [
         192910025,
         "B04",
         19125166,
         "Alarms",
         "2019-10-18",
         "2019-10-17",
         "10/18/2019 12:09:02 AM",
         "10/18/2019 12:09:02 AM",
         "10/18/2019 12:09:02 AM",
         "10/18/2019 12:09:02 AM",
         "10/18/2019 12:09:02 AM",
         null,
         null,
         "Fire",
         "10/18/2019 12:21:52 AM",
         "3300 Block of FILLMORE ST",
         "San Francisco",
         94123,
         "B04",
         "16",
         "3554",
         "3",
         "3",
         3,
         false,
         "Alarm",
         1,
         "CHIEF",
         1,
         "4",
         "2",
         "Marina",
         "POINT (-122.43607739030332 37.80034056356869)",
         "192910025-B04"
        ],
        [
         192910034,
         "E01",
         19125167,
         "Structure Fire",
         "2019-10-18",
         "2019-10-17",
         "10/18/2019 12:12:39 AM",
         "10/18/2019 12:12:39 AM",
         "10/18/2019 12:12:48 AM",
         "10/18/2019 12:13:52 AM",
         "10/18/2019 12:16:16 AM",
         null,
         null,
         "Fire",
         "10/18/2019 12:16:25 AM",
         "7TH ST/MISSION ST",
         "San Francisco",
         94103,
         "B02",
         "01",
         "2315",
         "3",
         "3",
         3,
         true,
         "Alarm",
         1,
         "ENGINE",
         1,
         "2",
         "6",
         "South of Market",
         "POINT (-122.41093657380038 37.779211684542084)",
         "192910034-E01"
        ],
        [
         192910034,
         "T01",
         19125167,
         "Structure Fire",
         "2019-10-18",
         "2019-10-17",
         "10/18/2019 12:12:39 AM",
         "10/18/2019 12:12:39 AM",
         "10/18/2019 12:12:48 AM",
         "10/18/2019 12:14:28 AM",
         null,
         null,
         null,
         "Fire",
         "10/18/2019 12:16:18 AM",
         "7TH ST/MISSION ST",
         "San Francisco",
         94103,
         "B02",
         "01",
         "2315",
         "3",
         "3",
         3,
         false,
         "Alarm",
         1,
         "TRUCK",
         2,
         "2",
         "6",
         "South of Market",
         "POINT (-122.41093657380038 37.779211684542084)",
         "192910034-T01"
        ],
        [
         192910039,
         "76",
         19125168,
         "Medical Incident",
         "2019-10-18",
         "2019-10-17",
         "10/18/2019 12:14:32 AM",
         "10/18/2019 12:14:32 AM",
         "10/18/2019 12:15:10 AM",
         "10/18/2019 12:15:25 AM",
         "10/18/2019 12:32:14 AM",
         "10/18/2019 12:56:35 AM",
         "10/18/2019 01:15:56 AM",
         "Code 2 Transport",
         "10/18/2019 01:48:10 AM",
         "1600 Block of MCKINNON AVE",
         "San Francisco",
         94124,
         "B10",
         "17",
         "6515",
         "A",
         "2",
         2,
         true,
         "Non Life-threatening",
         1,
         "MEDIC",
         1,
         "10",
         "10",
         "Bayview Hunters Point",
         "POINT (-122.38972310330021 37.73607882495912)",
         "192910039-76"
        ],
        [
         192910048,
         "T08",
         19125169,
         "Alarms",
         "2019-10-18",
         "2019-10-17",
         "10/18/2019 12:20:25 AM",
         "10/18/2019 12:21:44 AM",
         "10/18/2019 12:21:51 AM",
         "10/18/2019 12:24:30 AM",
         "10/18/2019 12:26:44 AM",
         null,
         null,
         "Fire",
         "10/18/2019 12:40:41 AM",
         "100 Block of BERRY ST",
         "San Francisco",
         94158,
         "B03",
         "08",
         "2171",
         "3",
         "3",
         3,
         false,
         "Alarm",
         1,
         "TRUCK",
         3,
         "3",
         "6",
         "Mission Bay",
         "POINT (-122.3921894505535 37.77663138541027)",
         "192910048-T08"
        ],
        [
         192910057,
         "78",
         19125170,
         "Medical Incident",
         "2019-10-18",
         "2019-10-17",
         "10/18/2019 12:23:58 AM",
         "10/18/2019 12:26:34 AM",
         "10/18/2019 12:26:42 AM",
         "10/18/2019 12:27:20 AM",
         "10/18/2019 12:34:19 AM",
         "10/18/2019 12:53:44 AM",
         "10/18/2019 01:01:18 AM",
         "Code 3 Transport",
         "10/18/2019 01:52:13 AM",
         "800 Block of FOERSTER ST",
         "San Francisco",
         94127,
         "B09",
         "15",
         "8247",
         "3",
         "3",
         3,
         true,
         "Potentially Life-Threatening",
         1,
         "MEDIC",
         2,
         "9",
         "7",
         "West of Twin Peaks",
         "POINT (-122.44882464734825 37.736080487699894)",
         "192910057-78"
        ],
        [
         192910057,
         "E15",
         19125170,
         "Medical Incident",
         "2019-10-18",
         "2019-10-17",
         "10/18/2019 12:23:58 AM",
         "10/18/2019 12:26:34 AM",
         "10/18/2019 12:26:42 AM",
         "10/18/2019 12:29:33 AM",
         "10/18/2019 12:33:04 AM",
         null,
         null,
         "Code 3 Transport",
         "10/18/2019 01:17:49 AM",
         "800 Block of FOERSTER ST",
         "San Francisco",
         94127,
         "B09",
         "15",
         "8247",
         "3",
         "3",
         3,
         true,
         "Potentially Life-Threatening",
         1,
         "ENGINE",
         1,
         "9",
         "7",
         "West of Twin Peaks",
         "POINT (-122.44882464734825 37.736080487699894)",
         "192910057-E15"
        ]
       ],
       "datasetInfos": [],
       "dbfsResultPath": null,
       "isJsonSchema": true,
       "metadata": {},
       "overflow": false,
       "plotOptions": {
        "customPlotOptions": {},
        "displayType": "table",
        "pivotAggregation": null,
        "pivotColumns": null,
        "xColumns": null,
        "yColumns": null
       },
       "removedWidgets": [],
       "schema": [
        {
         "metadata": "{}",
         "name": "Call Number",
         "type": "\"long\""
        },
        {
         "metadata": "{}",
         "name": "Unit ID",
         "type": "\"string\""
        },
        {
         "metadata": "{}",
         "name": "Incident Number",
         "type": "\"long\""
        },
        {
         "metadata": "{}",
         "name": "Call Type",
         "type": "\"string\""
        },
        {
         "metadata": "{}",
         "name": "Call Date",
         "type": "\"date\""
        },
        {
         "metadata": "{}",
         "name": "Watch Date",
         "type": "\"date\""
        },
        {
         "metadata": "{}",
         "name": "Received DtTm",
         "type": "\"string\""
        },
        {
         "metadata": "{}",
         "name": "Entry DtTm",
         "type": "\"string\""
        },
        {
         "metadata": "{}",
         "name": "Dispatch DtTm",
         "type": "\"string\""
        },
        {
         "metadata": "{}",
         "name": "Response DtTm",
         "type": "\"string\""
        },
        {
         "metadata": "{}",
         "name": "On Scene DtTm",
         "type": "\"string\""
        },
        {
         "metadata": "{}",
         "name": "Transport DtTm",
         "type": "\"string\""
        },
        {
         "metadata": "{}",
         "name": "Hospital DtTm",
         "type": "\"string\""
        },
        {
         "metadata": "{}",
         "name": "Call Final Disposition",
         "type": "\"string\""
        },
        {
         "metadata": "{}",
         "name": "Available DtTm",
         "type": "\"string\""
        },
        {
         "metadata": "{}",
         "name": "Address",
         "type": "\"string\""
        },
        {
         "metadata": "{}",
         "name": "City",
         "type": "\"string\""
        },
        {
         "metadata": "{}",
         "name": "Zipcode of Incident",
         "type": "\"long\""
        },
        {
         "metadata": "{}",
         "name": "Battalion",
         "type": "\"string\""
        },
        {
         "metadata": "{}",
         "name": "Station Area",
         "type": "\"string\""
        },
        {
         "metadata": "{}",
         "name": "Box",
         "type": "\"string\""
        },
        {
         "metadata": "{}",
         "name": "Original Priority",
         "type": "\"string\""
        },
        {
         "metadata": "{}",
         "name": "Priority",
         "type": "\"string\""
        },
        {
         "metadata": "{}",
         "name": "Final Priority",
         "type": "\"long\""
        },
        {
         "metadata": "{}",
         "name": "ALS Unit",
         "type": "\"boolean\""
        },
        {
         "metadata": "{}",
         "name": "Call Type Group",
         "type": "\"string\""
        },
        {
         "metadata": "{}",
         "name": "Number of Alarms",
         "type": "\"long\""
        },
        {
         "metadata": "{}",
         "name": "Unit Type",
         "type": "\"string\""
        },
        {
         "metadata": "{}",
         "name": "Unit sequence in call dispatch",
         "type": "\"long\""
        },
        {
         "metadata": "{}",
         "name": "Fire Prevention District",
         "type": "\"string\""
        },
        {
         "metadata": "{}",
         "name": "Supervisor District",
         "type": "\"string\""
        },
        {
         "metadata": "{}",
         "name": "Neighborhooods - Analysis Boundaries",
         "type": "\"string\""
        },
        {
         "metadata": "{}",
         "name": "Location",
         "type": "\"string\""
        },
        {
         "metadata": "{}",
         "name": "RowID",
         "type": "\"string\""
        }
       ],
       "type": "table"
      }
     },
     "output_type": "display_data"
    },
    {
     "output_type": "stream",
     "name": "stdout",
     "output_type": "stream",
     "text": [
      "root\n |-- Call Number: integer (nullable = true)\n |-- Unit ID: string (nullable = true)\n |-- Incident Number: integer (nullable = true)\n |-- Call Type: string (nullable = true)\n |-- Call Date: date (nullable = true)\n |-- Watch Date: date (nullable = true)\n |-- Received DtTm: string (nullable = true)\n |-- Entry DtTm: string (nullable = true)\n |-- Dispatch DtTm: string (nullable = true)\n |-- Response DtTm: string (nullable = true)\n |-- On Scene DtTm: string (nullable = true)\n |-- Transport DtTm: string (nullable = true)\n |-- Hospital DtTm: string (nullable = true)\n |-- Call Final Disposition: string (nullable = true)\n |-- Available DtTm: string (nullable = true)\n |-- Address: string (nullable = true)\n |-- City: string (nullable = true)\n |-- Zipcode of Incident: integer (nullable = true)\n |-- Battalion: string (nullable = true)\n |-- Station Area: string (nullable = true)\n |-- Box: string (nullable = true)\n |-- Original Priority: string (nullable = true)\n |-- Priority: string (nullable = true)\n |-- Final Priority: integer (nullable = true)\n |-- ALS Unit: boolean (nullable = true)\n |-- Call Type Group: string (nullable = true)\n |-- Number of Alarms: integer (nullable = true)\n |-- Unit Type: string (nullable = true)\n |-- Unit sequence in call dispatch: integer (nullable = true)\n |-- Fire Prevention District: string (nullable = true)\n |-- Supervisor District: string (nullable = true)\n |-- Neighborhooods - Analysis Boundaries: string (nullable = true)\n |-- Location: string (nullable = true)\n |-- RowID: string (nullable = true)\n\n"
     ]
    }
   ],
   "source": [
    "df  = spark.read.csv('dbfs:/databricks-datasets/timeseries/Fires/Fire_Department_Calls_for_Service.csv', header=True, inferSchema=True)\n",
    "display(df.take(10))\n",
    "df.printSchema()"
   ]
  },
  {
   "cell_type": "markdown",
   "metadata": {
    "application/vnd.databricks.v1+cell": {
     "cellMetadata": {},
     "inputWidgets": {},
     "nuid": "784cb4e7-e51d-4e78-865e-44b58d0d3835",
     "showTitle": false,
     "title": ""
    }
   },
   "source": [
    "we don't need to provide dbfs: if path given is from dbfs"
   ]
  },
  {
   "cell_type": "code",
   "execution_count": 0,
   "metadata": {
    "application/vnd.databricks.v1+cell": {
     "cellMetadata": {
      "byteLimit": 2048000,
      "rowLimit": 10000
     },
     "inputWidgets": {},
     "nuid": "9214e9be-a15a-4684-959f-de158df3596f",
     "showTitle": false,
     "title": ""
    }
   },
   "outputs": [
    {
     "output_type": "display_data",
     "data": {
      "text/html": [
       "<style scoped>\n",
       "  .table-result-container {\n",
       "    max-height: 300px;\n",
       "    overflow: auto;\n",
       "  }\n",
       "  table, th, td {\n",
       "    border: 1px solid black;\n",
       "    border-collapse: collapse;\n",
       "  }\n",
       "  th, td {\n",
       "    padding: 5px;\n",
       "  }\n",
       "  th {\n",
       "    text-align: left;\n",
       "  }\n",
       "</style><div class='table-result-container'><table class='table-result'><thead style='background-color: white'><tr><th>Call Number</th><th>Unit ID</th><th>Incident Number</th><th>Call Type</th><th>Call Date</th><th>Watch Date</th><th>Received DtTm</th><th>Entry DtTm</th><th>Dispatch DtTm</th><th>Response DtTm</th><th>On Scene DtTm</th><th>Transport DtTm</th><th>Hospital DtTm</th><th>Call Final Disposition</th><th>Available DtTm</th><th>Address</th><th>City</th><th>Zipcode of Incident</th><th>Battalion</th><th>Station Area</th><th>Box</th><th>Original Priority</th><th>Priority</th><th>Final Priority</th><th>ALS Unit</th><th>Call Type Group</th><th>Number of Alarms</th><th>Unit Type</th><th>Unit sequence in call dispatch</th><th>Fire Prevention District</th><th>Supervisor District</th><th>Neighborhooods - Analysis Boundaries</th><th>Location</th><th>RowID</th></tr></thead><tbody><tr><td>192910017</td><td>E11</td><td>19125164</td><td>Alarms</td><td>2019-10-18</td><td>2019-10-17</td><td>10/18/2019 12:03:52 AM</td><td>10/18/2019 12:06:59 AM</td><td>10/18/2019 12:07:05 AM</td><td>10/18/2019 12:08:28 AM</td><td>10/18/2019 12:11:10 AM</td><td>null</td><td>null</td><td>Fire</td><td>10/18/2019 12:33:57 AM</td><td>24TH ST/VALENCIA ST</td><td>San Francisco</td><td>94110</td><td>B06</td><td>11</td><td>5525</td><td>3</td><td>3</td><td>3</td><td>true</td><td>Alarm</td><td>1</td><td>ENGINE</td><td>1</td><td>6</td><td>9</td><td>Mission</td><td>POINT (-122.42066480228367 37.75210364574824)</td><td>192910017-E11</td></tr><tr><td>192910018</td><td>B10</td><td>19125165</td><td>Alarms</td><td>2019-10-18</td><td>2019-10-17</td><td>10/18/2019 12:05:56 AM</td><td>10/18/2019 12:07:27 AM</td><td>10/18/2019 12:09:49 AM</td><td>null</td><td>null</td><td>null</td><td>null</td><td>Other</td><td>10/18/2019 12:10:14 AM</td><td>3300 Block of 23RD ST</td><td>San Francisco</td><td>94110</td><td>B06</td><td>11</td><td>0552</td><td>3</td><td>3</td><td>3</td><td>false</td><td>Alarm</td><td>1</td><td>CHIEF</td><td>1</td><td>6</td><td>9</td><td>Mission</td><td>POINT (-122.4202535645237 37.75368162954947)</td><td>192910018-B10</td></tr><tr><td>192910018</td><td>T07</td><td>19125165</td><td>Alarms</td><td>2019-10-18</td><td>2019-10-17</td><td>10/18/2019 12:05:56 AM</td><td>10/18/2019 12:07:27 AM</td><td>10/18/2019 12:09:49 AM</td><td>null</td><td>null</td><td>null</td><td>null</td><td>Other</td><td>10/18/2019 12:10:14 AM</td><td>3300 Block of 23RD ST</td><td>San Francisco</td><td>94110</td><td>B06</td><td>11</td><td>0552</td><td>3</td><td>3</td><td>3</td><td>false</td><td>Alarm</td><td>1</td><td>TRUCK</td><td>3</td><td>6</td><td>9</td><td>Mission</td><td>POINT (-122.4202535645237 37.75368162954947)</td><td>192910018-T07</td></tr><tr><td>192910025</td><td>B04</td><td>19125166</td><td>Alarms</td><td>2019-10-18</td><td>2019-10-17</td><td>10/18/2019 12:09:02 AM</td><td>10/18/2019 12:09:02 AM</td><td>10/18/2019 12:09:02 AM</td><td>10/18/2019 12:09:02 AM</td><td>10/18/2019 12:09:02 AM</td><td>null</td><td>null</td><td>Fire</td><td>10/18/2019 12:21:52 AM</td><td>3300 Block of FILLMORE ST</td><td>San Francisco</td><td>94123</td><td>B04</td><td>16</td><td>3554</td><td>3</td><td>3</td><td>3</td><td>false</td><td>Alarm</td><td>1</td><td>CHIEF</td><td>1</td><td>4</td><td>2</td><td>Marina</td><td>POINT (-122.43607739030332 37.80034056356869)</td><td>192910025-B04</td></tr><tr><td>192910034</td><td>E01</td><td>19125167</td><td>Structure Fire</td><td>2019-10-18</td><td>2019-10-17</td><td>10/18/2019 12:12:39 AM</td><td>10/18/2019 12:12:39 AM</td><td>10/18/2019 12:12:48 AM</td><td>10/18/2019 12:13:52 AM</td><td>10/18/2019 12:16:16 AM</td><td>null</td><td>null</td><td>Fire</td><td>10/18/2019 12:16:25 AM</td><td>7TH ST/MISSION ST</td><td>San Francisco</td><td>94103</td><td>B02</td><td>01</td><td>2315</td><td>3</td><td>3</td><td>3</td><td>true</td><td>Alarm</td><td>1</td><td>ENGINE</td><td>1</td><td>2</td><td>6</td><td>South of Market</td><td>POINT (-122.41093657380038 37.779211684542084)</td><td>192910034-E01</td></tr><tr><td>192910034</td><td>T01</td><td>19125167</td><td>Structure Fire</td><td>2019-10-18</td><td>2019-10-17</td><td>10/18/2019 12:12:39 AM</td><td>10/18/2019 12:12:39 AM</td><td>10/18/2019 12:12:48 AM</td><td>10/18/2019 12:14:28 AM</td><td>null</td><td>null</td><td>null</td><td>Fire</td><td>10/18/2019 12:16:18 AM</td><td>7TH ST/MISSION ST</td><td>San Francisco</td><td>94103</td><td>B02</td><td>01</td><td>2315</td><td>3</td><td>3</td><td>3</td><td>false</td><td>Alarm</td><td>1</td><td>TRUCK</td><td>2</td><td>2</td><td>6</td><td>South of Market</td><td>POINT (-122.41093657380038 37.779211684542084)</td><td>192910034-T01</td></tr><tr><td>192910039</td><td>76</td><td>19125168</td><td>Medical Incident</td><td>2019-10-18</td><td>2019-10-17</td><td>10/18/2019 12:14:32 AM</td><td>10/18/2019 12:14:32 AM</td><td>10/18/2019 12:15:10 AM</td><td>10/18/2019 12:15:25 AM</td><td>10/18/2019 12:32:14 AM</td><td>10/18/2019 12:56:35 AM</td><td>10/18/2019 01:15:56 AM</td><td>Code 2 Transport</td><td>10/18/2019 01:48:10 AM</td><td>1600 Block of MCKINNON AVE</td><td>San Francisco</td><td>94124</td><td>B10</td><td>17</td><td>6515</td><td>A</td><td>2</td><td>2</td><td>true</td><td>Non Life-threatening</td><td>1</td><td>MEDIC</td><td>1</td><td>10</td><td>10</td><td>Bayview Hunters Point</td><td>POINT (-122.38972310330021 37.73607882495912)</td><td>192910039-76</td></tr><tr><td>192910048</td><td>T08</td><td>19125169</td><td>Alarms</td><td>2019-10-18</td><td>2019-10-17</td><td>10/18/2019 12:20:25 AM</td><td>10/18/2019 12:21:44 AM</td><td>10/18/2019 12:21:51 AM</td><td>10/18/2019 12:24:30 AM</td><td>10/18/2019 12:26:44 AM</td><td>null</td><td>null</td><td>Fire</td><td>10/18/2019 12:40:41 AM</td><td>100 Block of BERRY ST</td><td>San Francisco</td><td>94158</td><td>B03</td><td>08</td><td>2171</td><td>3</td><td>3</td><td>3</td><td>false</td><td>Alarm</td><td>1</td><td>TRUCK</td><td>3</td><td>3</td><td>6</td><td>Mission Bay</td><td>POINT (-122.3921894505535 37.77663138541027)</td><td>192910048-T08</td></tr><tr><td>192910057</td><td>78</td><td>19125170</td><td>Medical Incident</td><td>2019-10-18</td><td>2019-10-17</td><td>10/18/2019 12:23:58 AM</td><td>10/18/2019 12:26:34 AM</td><td>10/18/2019 12:26:42 AM</td><td>10/18/2019 12:27:20 AM</td><td>10/18/2019 12:34:19 AM</td><td>10/18/2019 12:53:44 AM</td><td>10/18/2019 01:01:18 AM</td><td>Code 3 Transport</td><td>10/18/2019 01:52:13 AM</td><td>800 Block of FOERSTER ST</td><td>San Francisco</td><td>94127</td><td>B09</td><td>15</td><td>8247</td><td>3</td><td>3</td><td>3</td><td>true</td><td>Potentially Life-Threatening</td><td>1</td><td>MEDIC</td><td>2</td><td>9</td><td>7</td><td>West of Twin Peaks</td><td>POINT (-122.44882464734825 37.736080487699894)</td><td>192910057-78</td></tr><tr><td>192910057</td><td>E15</td><td>19125170</td><td>Medical Incident</td><td>2019-10-18</td><td>2019-10-17</td><td>10/18/2019 12:23:58 AM</td><td>10/18/2019 12:26:34 AM</td><td>10/18/2019 12:26:42 AM</td><td>10/18/2019 12:29:33 AM</td><td>10/18/2019 12:33:04 AM</td><td>null</td><td>null</td><td>Code 3 Transport</td><td>10/18/2019 01:17:49 AM</td><td>800 Block of FOERSTER ST</td><td>San Francisco</td><td>94127</td><td>B09</td><td>15</td><td>8247</td><td>3</td><td>3</td><td>3</td><td>true</td><td>Potentially Life-Threatening</td><td>1</td><td>ENGINE</td><td>1</td><td>9</td><td>7</td><td>West of Twin Peaks</td><td>POINT (-122.44882464734825 37.736080487699894)</td><td>192910057-E15</td></tr></tbody></table></div>"
      ]
     },
     "metadata": {
      "application/vnd.databricks.v1+output": {
       "addedWidgets": {},
       "aggData": [],
       "aggError": "",
       "aggOverflow": false,
       "aggSchema": [],
       "aggSeriesLimitReached": false,
       "aggType": "",
       "arguments": {},
       "columnCustomDisplayInfos": {},
       "data": [
        [
         192910017,
         "E11",
         19125164,
         "Alarms",
         "2019-10-18",
         "2019-10-17",
         "10/18/2019 12:03:52 AM",
         "10/18/2019 12:06:59 AM",
         "10/18/2019 12:07:05 AM",
         "10/18/2019 12:08:28 AM",
         "10/18/2019 12:11:10 AM",
         null,
         null,
         "Fire",
         "10/18/2019 12:33:57 AM",
         "24TH ST/VALENCIA ST",
         "San Francisco",
         94110,
         "B06",
         "11",
         "5525",
         "3",
         "3",
         3,
         true,
         "Alarm",
         1,
         "ENGINE",
         1,
         "6",
         "9",
         "Mission",
         "POINT (-122.42066480228367 37.75210364574824)",
         "192910017-E11"
        ],
        [
         192910018,
         "B10",
         19125165,
         "Alarms",
         "2019-10-18",
         "2019-10-17",
         "10/18/2019 12:05:56 AM",
         "10/18/2019 12:07:27 AM",
         "10/18/2019 12:09:49 AM",
         null,
         null,
         null,
         null,
         "Other",
         "10/18/2019 12:10:14 AM",
         "3300 Block of 23RD ST",
         "San Francisco",
         94110,
         "B06",
         "11",
         "0552",
         "3",
         "3",
         3,
         false,
         "Alarm",
         1,
         "CHIEF",
         1,
         "6",
         "9",
         "Mission",
         "POINT (-122.4202535645237 37.75368162954947)",
         "192910018-B10"
        ],
        [
         192910018,
         "T07",
         19125165,
         "Alarms",
         "2019-10-18",
         "2019-10-17",
         "10/18/2019 12:05:56 AM",
         "10/18/2019 12:07:27 AM",
         "10/18/2019 12:09:49 AM",
         null,
         null,
         null,
         null,
         "Other",
         "10/18/2019 12:10:14 AM",
         "3300 Block of 23RD ST",
         "San Francisco",
         94110,
         "B06",
         "11",
         "0552",
         "3",
         "3",
         3,
         false,
         "Alarm",
         1,
         "TRUCK",
         3,
         "6",
         "9",
         "Mission",
         "POINT (-122.4202535645237 37.75368162954947)",
         "192910018-T07"
        ],
        [
         192910025,
         "B04",
         19125166,
         "Alarms",
         "2019-10-18",
         "2019-10-17",
         "10/18/2019 12:09:02 AM",
         "10/18/2019 12:09:02 AM",
         "10/18/2019 12:09:02 AM",
         "10/18/2019 12:09:02 AM",
         "10/18/2019 12:09:02 AM",
         null,
         null,
         "Fire",
         "10/18/2019 12:21:52 AM",
         "3300 Block of FILLMORE ST",
         "San Francisco",
         94123,
         "B04",
         "16",
         "3554",
         "3",
         "3",
         3,
         false,
         "Alarm",
         1,
         "CHIEF",
         1,
         "4",
         "2",
         "Marina",
         "POINT (-122.43607739030332 37.80034056356869)",
         "192910025-B04"
        ],
        [
         192910034,
         "E01",
         19125167,
         "Structure Fire",
         "2019-10-18",
         "2019-10-17",
         "10/18/2019 12:12:39 AM",
         "10/18/2019 12:12:39 AM",
         "10/18/2019 12:12:48 AM",
         "10/18/2019 12:13:52 AM",
         "10/18/2019 12:16:16 AM",
         null,
         null,
         "Fire",
         "10/18/2019 12:16:25 AM",
         "7TH ST/MISSION ST",
         "San Francisco",
         94103,
         "B02",
         "01",
         "2315",
         "3",
         "3",
         3,
         true,
         "Alarm",
         1,
         "ENGINE",
         1,
         "2",
         "6",
         "South of Market",
         "POINT (-122.41093657380038 37.779211684542084)",
         "192910034-E01"
        ],
        [
         192910034,
         "T01",
         19125167,
         "Structure Fire",
         "2019-10-18",
         "2019-10-17",
         "10/18/2019 12:12:39 AM",
         "10/18/2019 12:12:39 AM",
         "10/18/2019 12:12:48 AM",
         "10/18/2019 12:14:28 AM",
         null,
         null,
         null,
         "Fire",
         "10/18/2019 12:16:18 AM",
         "7TH ST/MISSION ST",
         "San Francisco",
         94103,
         "B02",
         "01",
         "2315",
         "3",
         "3",
         3,
         false,
         "Alarm",
         1,
         "TRUCK",
         2,
         "2",
         "6",
         "South of Market",
         "POINT (-122.41093657380038 37.779211684542084)",
         "192910034-T01"
        ],
        [
         192910039,
         "76",
         19125168,
         "Medical Incident",
         "2019-10-18",
         "2019-10-17",
         "10/18/2019 12:14:32 AM",
         "10/18/2019 12:14:32 AM",
         "10/18/2019 12:15:10 AM",
         "10/18/2019 12:15:25 AM",
         "10/18/2019 12:32:14 AM",
         "10/18/2019 12:56:35 AM",
         "10/18/2019 01:15:56 AM",
         "Code 2 Transport",
         "10/18/2019 01:48:10 AM",
         "1600 Block of MCKINNON AVE",
         "San Francisco",
         94124,
         "B10",
         "17",
         "6515",
         "A",
         "2",
         2,
         true,
         "Non Life-threatening",
         1,
         "MEDIC",
         1,
         "10",
         "10",
         "Bayview Hunters Point",
         "POINT (-122.38972310330021 37.73607882495912)",
         "192910039-76"
        ],
        [
         192910048,
         "T08",
         19125169,
         "Alarms",
         "2019-10-18",
         "2019-10-17",
         "10/18/2019 12:20:25 AM",
         "10/18/2019 12:21:44 AM",
         "10/18/2019 12:21:51 AM",
         "10/18/2019 12:24:30 AM",
         "10/18/2019 12:26:44 AM",
         null,
         null,
         "Fire",
         "10/18/2019 12:40:41 AM",
         "100 Block of BERRY ST",
         "San Francisco",
         94158,
         "B03",
         "08",
         "2171",
         "3",
         "3",
         3,
         false,
         "Alarm",
         1,
         "TRUCK",
         3,
         "3",
         "6",
         "Mission Bay",
         "POINT (-122.3921894505535 37.77663138541027)",
         "192910048-T08"
        ],
        [
         192910057,
         "78",
         19125170,
         "Medical Incident",
         "2019-10-18",
         "2019-10-17",
         "10/18/2019 12:23:58 AM",
         "10/18/2019 12:26:34 AM",
         "10/18/2019 12:26:42 AM",
         "10/18/2019 12:27:20 AM",
         "10/18/2019 12:34:19 AM",
         "10/18/2019 12:53:44 AM",
         "10/18/2019 01:01:18 AM",
         "Code 3 Transport",
         "10/18/2019 01:52:13 AM",
         "800 Block of FOERSTER ST",
         "San Francisco",
         94127,
         "B09",
         "15",
         "8247",
         "3",
         "3",
         3,
         true,
         "Potentially Life-Threatening",
         1,
         "MEDIC",
         2,
         "9",
         "7",
         "West of Twin Peaks",
         "POINT (-122.44882464734825 37.736080487699894)",
         "192910057-78"
        ],
        [
         192910057,
         "E15",
         19125170,
         "Medical Incident",
         "2019-10-18",
         "2019-10-17",
         "10/18/2019 12:23:58 AM",
         "10/18/2019 12:26:34 AM",
         "10/18/2019 12:26:42 AM",
         "10/18/2019 12:29:33 AM",
         "10/18/2019 12:33:04 AM",
         null,
         null,
         "Code 3 Transport",
         "10/18/2019 01:17:49 AM",
         "800 Block of FOERSTER ST",
         "San Francisco",
         94127,
         "B09",
         "15",
         "8247",
         "3",
         "3",
         3,
         true,
         "Potentially Life-Threatening",
         1,
         "ENGINE",
         1,
         "9",
         "7",
         "West of Twin Peaks",
         "POINT (-122.44882464734825 37.736080487699894)",
         "192910057-E15"
        ]
       ],
       "datasetInfos": [],
       "dbfsResultPath": null,
       "isJsonSchema": true,
       "metadata": {},
       "overflow": false,
       "plotOptions": {
        "customPlotOptions": {},
        "displayType": "table",
        "pivotAggregation": null,
        "pivotColumns": null,
        "xColumns": null,
        "yColumns": null
       },
       "removedWidgets": [],
       "schema": [
        {
         "metadata": "{}",
         "name": "Call Number",
         "type": "\"long\""
        },
        {
         "metadata": "{}",
         "name": "Unit ID",
         "type": "\"string\""
        },
        {
         "metadata": "{}",
         "name": "Incident Number",
         "type": "\"long\""
        },
        {
         "metadata": "{}",
         "name": "Call Type",
         "type": "\"string\""
        },
        {
         "metadata": "{}",
         "name": "Call Date",
         "type": "\"date\""
        },
        {
         "metadata": "{}",
         "name": "Watch Date",
         "type": "\"date\""
        },
        {
         "metadata": "{}",
         "name": "Received DtTm",
         "type": "\"string\""
        },
        {
         "metadata": "{}",
         "name": "Entry DtTm",
         "type": "\"string\""
        },
        {
         "metadata": "{}",
         "name": "Dispatch DtTm",
         "type": "\"string\""
        },
        {
         "metadata": "{}",
         "name": "Response DtTm",
         "type": "\"string\""
        },
        {
         "metadata": "{}",
         "name": "On Scene DtTm",
         "type": "\"string\""
        },
        {
         "metadata": "{}",
         "name": "Transport DtTm",
         "type": "\"string\""
        },
        {
         "metadata": "{}",
         "name": "Hospital DtTm",
         "type": "\"string\""
        },
        {
         "metadata": "{}",
         "name": "Call Final Disposition",
         "type": "\"string\""
        },
        {
         "metadata": "{}",
         "name": "Available DtTm",
         "type": "\"string\""
        },
        {
         "metadata": "{}",
         "name": "Address",
         "type": "\"string\""
        },
        {
         "metadata": "{}",
         "name": "City",
         "type": "\"string\""
        },
        {
         "metadata": "{}",
         "name": "Zipcode of Incident",
         "type": "\"long\""
        },
        {
         "metadata": "{}",
         "name": "Battalion",
         "type": "\"string\""
        },
        {
         "metadata": "{}",
         "name": "Station Area",
         "type": "\"string\""
        },
        {
         "metadata": "{}",
         "name": "Box",
         "type": "\"string\""
        },
        {
         "metadata": "{}",
         "name": "Original Priority",
         "type": "\"string\""
        },
        {
         "metadata": "{}",
         "name": "Priority",
         "type": "\"string\""
        },
        {
         "metadata": "{}",
         "name": "Final Priority",
         "type": "\"long\""
        },
        {
         "metadata": "{}",
         "name": "ALS Unit",
         "type": "\"boolean\""
        },
        {
         "metadata": "{}",
         "name": "Call Type Group",
         "type": "\"string\""
        },
        {
         "metadata": "{}",
         "name": "Number of Alarms",
         "type": "\"long\""
        },
        {
         "metadata": "{}",
         "name": "Unit Type",
         "type": "\"string\""
        },
        {
         "metadata": "{}",
         "name": "Unit sequence in call dispatch",
         "type": "\"long\""
        },
        {
         "metadata": "{}",
         "name": "Fire Prevention District",
         "type": "\"string\""
        },
        {
         "metadata": "{}",
         "name": "Supervisor District",
         "type": "\"string\""
        },
        {
         "metadata": "{}",
         "name": "Neighborhooods - Analysis Boundaries",
         "type": "\"string\""
        },
        {
         "metadata": "{}",
         "name": "Location",
         "type": "\"string\""
        },
        {
         "metadata": "{}",
         "name": "RowID",
         "type": "\"string\""
        }
       ],
       "type": "table"
      }
     },
     "output_type": "display_data"
    },
    {
     "output_type": "stream",
     "name": "stdout",
     "output_type": "stream",
     "text": [
      "root\n |-- Call Number: integer (nullable = true)\n |-- Unit ID: string (nullable = true)\n |-- Incident Number: integer (nullable = true)\n |-- Call Type: string (nullable = true)\n |-- Call Date: date (nullable = true)\n |-- Watch Date: date (nullable = true)\n |-- Received DtTm: string (nullable = true)\n |-- Entry DtTm: string (nullable = true)\n |-- Dispatch DtTm: string (nullable = true)\n |-- Response DtTm: string (nullable = true)\n |-- On Scene DtTm: string (nullable = true)\n |-- Transport DtTm: string (nullable = true)\n |-- Hospital DtTm: string (nullable = true)\n |-- Call Final Disposition: string (nullable = true)\n |-- Available DtTm: string (nullable = true)\n |-- Address: string (nullable = true)\n |-- City: string (nullable = true)\n |-- Zipcode of Incident: integer (nullable = true)\n |-- Battalion: string (nullable = true)\n |-- Station Area: string (nullable = true)\n |-- Box: string (nullable = true)\n |-- Original Priority: string (nullable = true)\n |-- Priority: string (nullable = true)\n |-- Final Priority: integer (nullable = true)\n |-- ALS Unit: boolean (nullable = true)\n |-- Call Type Group: string (nullable = true)\n |-- Number of Alarms: integer (nullable = true)\n |-- Unit Type: string (nullable = true)\n |-- Unit sequence in call dispatch: integer (nullable = true)\n |-- Fire Prevention District: string (nullable = true)\n |-- Supervisor District: string (nullable = true)\n |-- Neighborhooods - Analysis Boundaries: string (nullable = true)\n |-- Location: string (nullable = true)\n |-- RowID: string (nullable = true)\n\n"
     ]
    }
   ],
   "source": [
    "df  = spark.read.csv('/databricks-datasets/timeseries/Fires/Fire_Department_Calls_for_Service.csv', header=True, inferSchema=True)\n",
    "display(df.take(10))\n",
    "df.printSchema()"
   ]
  },
  {
   "cell_type": "code",
   "execution_count": 0,
   "metadata": {
    "application/vnd.databricks.v1+cell": {
     "cellMetadata": {
      "byteLimit": 2048000,
      "rowLimit": 10000
     },
     "inputWidgets": {},
     "nuid": "a3ac95a5-7bea-4d55-a5ab-90c87ba81f43",
     "showTitle": false,
     "title": ""
    }
   },
   "outputs": [],
   "source": []
  }
 ],
 "metadata": {
  "application/vnd.databricks.v1+notebook": {
   "dashboards": [],
   "environmentMetadata": null,
   "language": "python",
   "notebookMetadata": {
    "mostRecentlyExecutedCommandWithImplicitDF": {
     "commandId": 1838844575615354,
     "dataframes": [
      "_sqldf"
     ]
    },
    "pythonIndentUnit": 4
   },
   "notebookName": "1. Import Databricks and CSV",
   "widgets": {}
  }
 },
 "nbformat": 4,
 "nbformat_minor": 0
}
