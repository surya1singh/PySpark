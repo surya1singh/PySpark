{
 "cells": [
  {
   "cell_type": "code",
   "execution_count": 0,
   "metadata": {
    "application/vnd.databricks.v1+cell": {
     "cellMetadata": {
      "byteLimit": 2048000,
      "rowLimit": 10000
     },
     "inputWidgets": {},
     "nuid": "702c1133-2c37-4377-b810-bbcf43df1833",
     "showTitle": false,
     "title": ""
    }
   },
   "outputs": [],
   "source": [
    "file_name = '/FileStore/tables/transaction_detail.csv'"
   ]
  },
  {
   "cell_type": "code",
   "execution_count": 0,
   "metadata": {
    "application/vnd.databricks.v1+cell": {
     "cellMetadata": {
      "byteLimit": 2048000,
      "rowLimit": 10000
     },
     "inputWidgets": {},
     "nuid": "9b2cb5b3-155c-45f9-a7e8-e3aaadc1b0bb",
     "showTitle": false,
     "title": ""
    }
   },
   "outputs": [
    {
     "output_type": "display_data",
     "data": {
      "text/html": [
       "<style scoped>\n",
       "  .table-result-container {\n",
       "    max-height: 300px;\n",
       "    overflow: auto;\n",
       "  }\n",
       "  table, th, td {\n",
       "    border: 1px solid black;\n",
       "    border-collapse: collapse;\n",
       "  }\n",
       "  th, td {\n",
       "    padding: 5px;\n",
       "  }\n",
       "  th {\n",
       "    text-align: left;\n",
       "  }\n",
       "</style><div class='table-result-container'><table class='table-result'><thead style='background-color: white'><tr><th>transaction_amount</th><th>transaction_card_type</th><th>transaction_ecommerce_website_name</th><th>transaction_country_name</th><th>transaction_datetime</th><th>transaction_id</th><th>transaction_city_name</th><th>transaction_product_name</th></tr></thead><tbody><tr><td>50.85</td><td>MasterCard</td><td>www.ebay.com</td><td>India</td><td>2019-05-14T15:24:12.000+0000</td><td>1</td><td>Mumbai</td><td>Laptop</td></tr><tr><td>259.12</td><td>MasterCard</td><td>www.amazon.com</td><td>India</td><td>2019-05-14T15:24:13.000+0000</td><td>2</td><td>Pune</td><td>Wrist Band</td></tr><tr><td>328.16</td><td>MasterCard</td><td>www.flipkart.com</td><td>United States</td><td>2019-05-14T15:24:14.000+0000</td><td>3</td><td>New York City</td><td>TV Stand</td></tr><tr><td>399.06</td><td>Visa</td><td>www.snapdeal.com</td><td>Inida</td><td>2019-05-14T15:24:15.000+0000</td><td>4</td><td>New Delhi</td><td>TV Stand</td></tr><tr><td>194.52</td><td>Visa</td><td>www.ebay.com</td><td>Italy</td><td>2019-05-14T15:24:16.000+0000</td><td>5</td><td>Rome</td><td>External Hard Drive</td></tr><tr><td>415.65</td><td>Maestro</td><td>www.flipkart.com</td><td>India</td><td>2019-05-14T15:24:17.000+0000</td><td>6</td><td>Kolkata</td><td>TV</td></tr><tr><td>467.12</td><td>MasterCard</td><td>www.amazon.com</td><td>India</td><td>2019-05-14T15:24:18.000+0000</td><td>7</td><td>Kolkata</td><td>Wrist Watch</td></tr><tr><td>361.61</td><td>Visa</td><td>www.ebay.com</td><td>India</td><td>2019-05-14T15:24:19.000+0000</td><td>8</td><td>Kolkata</td><td>Laptop</td></tr><tr><td>357.34</td><td>Maestro</td><td>www.amazon.com</td><td>India</td><td>2019-05-14T15:24:20.000+0000</td><td>9</td><td>Bangalore</td><td>Text Books</td></tr><tr><td>495.91</td><td>Visa</td><td>www.snapdeal.com</td><td>India</td><td>2019-05-14T15:24:21.000+0000</td><td>10</td><td>Bangalore</td><td>Laptop</td></tr></tbody></table></div>"
      ]
     },
     "metadata": {
      "application/vnd.databricks.v1+output": {
       "addedWidgets": {},
       "aggData": [],
       "aggError": "",
       "aggOverflow": false,
       "aggSchema": [],
       "aggSeriesLimitReached": false,
       "aggType": "",
       "arguments": {},
       "columnCustomDisplayInfos": {},
       "data": [
        [
         50.85,
         "MasterCard",
         "www.ebay.com",
         "India",
         "2019-05-14T15:24:12.000+0000",
         1,
         "Mumbai",
         "Laptop"
        ],
        [
         259.12,
         "MasterCard",
         "www.amazon.com",
         "India",
         "2019-05-14T15:24:13.000+0000",
         2,
         "Pune",
         "Wrist Band"
        ],
        [
         328.16,
         "MasterCard",
         "www.flipkart.com",
         "United States",
         "2019-05-14T15:24:14.000+0000",
         3,
         "New York City",
         "TV Stand"
        ],
        [
         399.06,
         "Visa",
         "www.snapdeal.com",
         "Inida",
         "2019-05-14T15:24:15.000+0000",
         4,
         "New Delhi",
         "TV Stand"
        ],
        [
         194.52,
         "Visa",
         "www.ebay.com",
         "Italy",
         "2019-05-14T15:24:16.000+0000",
         5,
         "Rome",
         "External Hard Drive"
        ],
        [
         415.65,
         "Maestro",
         "www.flipkart.com",
         "India",
         "2019-05-14T15:24:17.000+0000",
         6,
         "Kolkata",
         "TV"
        ],
        [
         467.12,
         "MasterCard",
         "www.amazon.com",
         "India",
         "2019-05-14T15:24:18.000+0000",
         7,
         "Kolkata",
         "Wrist Watch"
        ],
        [
         361.61,
         "Visa",
         "www.ebay.com",
         "India",
         "2019-05-14T15:24:19.000+0000",
         8,
         "Kolkata",
         "Laptop"
        ],
        [
         357.34,
         "Maestro",
         "www.amazon.com",
         "India",
         "2019-05-14T15:24:20.000+0000",
         9,
         "Bangalore",
         "Text Books"
        ],
        [
         495.91,
         "Visa",
         "www.snapdeal.com",
         "India",
         "2019-05-14T15:24:21.000+0000",
         10,
         "Bangalore",
         "Laptop"
        ]
       ],
       "datasetInfos": [],
       "dbfsResultPath": null,
       "isJsonSchema": true,
       "metadata": {},
       "overflow": false,
       "plotOptions": {
        "customPlotOptions": {},
        "displayType": "table",
        "pivotAggregation": null,
        "pivotColumns": null,
        "xColumns": null,
        "yColumns": null
       },
       "removedWidgets": [],
       "schema": [
        {
         "metadata": "{}",
         "name": "transaction_amount",
         "type": "\"double\""
        },
        {
         "metadata": "{}",
         "name": "transaction_card_type",
         "type": "\"string\""
        },
        {
         "metadata": "{}",
         "name": "transaction_ecommerce_website_name",
         "type": "\"string\""
        },
        {
         "metadata": "{}",
         "name": "transaction_country_name",
         "type": "\"string\""
        },
        {
         "metadata": "{}",
         "name": "transaction_datetime",
         "type": "\"timestamp\""
        },
        {
         "metadata": "{}",
         "name": "transaction_id",
         "type": "\"integer\""
        },
        {
         "metadata": "{}",
         "name": "transaction_city_name",
         "type": "\"string\""
        },
        {
         "metadata": "{}",
         "name": "transaction_product_name",
         "type": "\"string\""
        }
       ],
       "type": "table"
      }
     },
     "output_type": "display_data"
    }
   ],
   "source": [
    "df = spark.read.csv(file_name,header=True,inferSchema=True)\n",
    "display(df.limit(10))"
   ]
  },
  {
   "cell_type": "code",
   "execution_count": 0,
   "metadata": {
    "application/vnd.databricks.v1+cell": {
     "cellMetadata": {
      "byteLimit": 2048000,
      "rowLimit": 10000
     },
     "inputWidgets": {},
     "nuid": "66a21c88-86af-467e-a5c2-753d5b490282",
     "showTitle": false,
     "title": ""
    }
   },
   "outputs": [
    {
     "output_type": "stream",
     "name": "stdout",
     "output_type": "stream",
     "text": [
      "root\n |-- transaction_amount: double (nullable = true)\n |-- transaction_card_type: string (nullable = true)\n |-- transaction_ecommerce_website_name: string (nullable = true)\n |-- transaction_country_name: string (nullable = true)\n |-- transaction_datetime: timestamp (nullable = true)\n |-- transaction_id: integer (nullable = true)\n |-- transaction_city_name: string (nullable = true)\n |-- transaction_product_name: string (nullable = true)\n\n"
     ]
    }
   ],
   "source": [
    "df.printSchema()"
   ]
  },
  {
   "cell_type": "markdown",
   "metadata": {
    "application/vnd.databricks.v1+cell": {
     "cellMetadata": {
      "byteLimit": 2048000,
      "rowLimit": 10000
     },
     "inputWidgets": {},
     "nuid": "05838698-cd1e-43cb-a221-b1874cdeecd1",
     "showTitle": false,
     "title": ""
    }
   },
   "source": [
    "# Select"
   ]
  },
  {
   "cell_type": "code",
   "execution_count": 0,
   "metadata": {
    "application/vnd.databricks.v1+cell": {
     "cellMetadata": {
      "byteLimit": 2048000,
      "rowLimit": 10000
     },
     "inputWidgets": {},
     "nuid": "2524cb9a-4151-44ec-8fad-cea136a38110",
     "showTitle": false,
     "title": ""
    }
   },
   "outputs": [
    {
     "output_type": "display_data",
     "data": {
      "text/html": [
       "<style scoped>\n",
       "  .table-result-container {\n",
       "    max-height: 300px;\n",
       "    overflow: auto;\n",
       "  }\n",
       "  table, th, td {\n",
       "    border: 1px solid black;\n",
       "    border-collapse: collapse;\n",
       "  }\n",
       "  th, td {\n",
       "    padding: 5px;\n",
       "  }\n",
       "  th {\n",
       "    text-align: left;\n",
       "  }\n",
       "</style><div class='table-result-container'><table class='table-result'><thead style='background-color: white'><tr><th>transaction_product_name</th><th>transaction_amount</th></tr></thead><tbody><tr><td>Laptop</td><td>50.85</td></tr><tr><td>Wrist Band</td><td>259.12</td></tr><tr><td>TV Stand</td><td>328.16</td></tr><tr><td>TV Stand</td><td>399.06</td></tr><tr><td>External Hard Drive</td><td>194.52</td></tr><tr><td>TV</td><td>415.65</td></tr><tr><td>Wrist Watch</td><td>467.12</td></tr><tr><td>Laptop</td><td>361.61</td></tr><tr><td>Text Books</td><td>357.34</td></tr><tr><td>Laptop</td><td>495.91</td></tr></tbody></table></div>"
      ]
     },
     "metadata": {
      "application/vnd.databricks.v1+output": {
       "addedWidgets": {},
       "aggData": [],
       "aggError": "",
       "aggOverflow": false,
       "aggSchema": [],
       "aggSeriesLimitReached": false,
       "aggType": "",
       "arguments": {},
       "columnCustomDisplayInfos": {},
       "data": [
        [
         "Laptop",
         50.85
        ],
        [
         "Wrist Band",
         259.12
        ],
        [
         "TV Stand",
         328.16
        ],
        [
         "TV Stand",
         399.06
        ],
        [
         "External Hard Drive",
         194.52
        ],
        [
         "TV",
         415.65
        ],
        [
         "Wrist Watch",
         467.12
        ],
        [
         "Laptop",
         361.61
        ],
        [
         "Text Books",
         357.34
        ],
        [
         "Laptop",
         495.91
        ]
       ],
       "datasetInfos": [],
       "dbfsResultPath": null,
       "isJsonSchema": true,
       "metadata": {},
       "overflow": false,
       "plotOptions": {
        "customPlotOptions": {},
        "displayType": "table",
        "pivotAggregation": null,
        "pivotColumns": null,
        "xColumns": null,
        "yColumns": null
       },
       "removedWidgets": [],
       "schema": [
        {
         "metadata": "{}",
         "name": "transaction_product_name",
         "type": "\"string\""
        },
        {
         "metadata": "{}",
         "name": "transaction_amount",
         "type": "\"double\""
        }
       ],
       "type": "table"
      }
     },
     "output_type": "display_data"
    }
   ],
   "source": [
    "display(df.select('transaction_product_name','transaction_amount').limit(10))"
   ]
  },
  {
   "cell_type": "markdown",
   "metadata": {
    "application/vnd.databricks.v1+cell": {
     "cellMetadata": {
      "byteLimit": 2048000,
      "rowLimit": 10000
     },
     "inputWidgets": {},
     "nuid": "8f1eacfa-77ae-40e0-b816-90cdbb42555e",
     "showTitle": false,
     "title": ""
    }
   },
   "source": [
    "# Rename or add Columns"
   ]
  },
  {
   "cell_type": "code",
   "execution_count": 0,
   "metadata": {
    "application/vnd.databricks.v1+cell": {
     "cellMetadata": {
      "byteLimit": 2048000,
      "rowLimit": 10000
     },
     "inputWidgets": {},
     "nuid": "3d0d867d-aecb-417f-ab52-eaf60b45114b",
     "showTitle": false,
     "title": ""
    }
   },
   "outputs": [
    {
     "output_type": "display_data",
     "data": {
      "text/html": [
       "<style scoped>\n",
       "  .table-result-container {\n",
       "    max-height: 300px;\n",
       "    overflow: auto;\n",
       "  }\n",
       "  table, th, td {\n",
       "    border: 1px solid black;\n",
       "    border-collapse: collapse;\n",
       "  }\n",
       "  th, td {\n",
       "    padding: 5px;\n",
       "  }\n",
       "  th {\n",
       "    text-align: left;\n",
       "  }\n",
       "</style><div class='table-result-container'><table class='table-result'><thead style='background-color: white'><tr><th>amount</th><th>transaction_card_type</th><th>transaction_ecommerce_website_name</th><th>transaction_country_name</th><th>transaction_datetime</th><th>transaction_id</th><th>transaction_city_name</th><th>transaction_product_name</th></tr></thead><tbody><tr><td>50.85</td><td>MasterCard</td><td>www.ebay.com</td><td>India</td><td>2019-05-14T15:24:12.000+0000</td><td>1</td><td>Mumbai</td><td>Laptop</td></tr><tr><td>259.12</td><td>MasterCard</td><td>www.amazon.com</td><td>India</td><td>2019-05-14T15:24:13.000+0000</td><td>2</td><td>Pune</td><td>Wrist Band</td></tr><tr><td>328.16</td><td>MasterCard</td><td>www.flipkart.com</td><td>United States</td><td>2019-05-14T15:24:14.000+0000</td><td>3</td><td>New York City</td><td>TV Stand</td></tr><tr><td>399.06</td><td>Visa</td><td>www.snapdeal.com</td><td>Inida</td><td>2019-05-14T15:24:15.000+0000</td><td>4</td><td>New Delhi</td><td>TV Stand</td></tr><tr><td>194.52</td><td>Visa</td><td>www.ebay.com</td><td>Italy</td><td>2019-05-14T15:24:16.000+0000</td><td>5</td><td>Rome</td><td>External Hard Drive</td></tr><tr><td>415.65</td><td>Maestro</td><td>www.flipkart.com</td><td>India</td><td>2019-05-14T15:24:17.000+0000</td><td>6</td><td>Kolkata</td><td>TV</td></tr><tr><td>467.12</td><td>MasterCard</td><td>www.amazon.com</td><td>India</td><td>2019-05-14T15:24:18.000+0000</td><td>7</td><td>Kolkata</td><td>Wrist Watch</td></tr><tr><td>361.61</td><td>Visa</td><td>www.ebay.com</td><td>India</td><td>2019-05-14T15:24:19.000+0000</td><td>8</td><td>Kolkata</td><td>Laptop</td></tr><tr><td>357.34</td><td>Maestro</td><td>www.amazon.com</td><td>India</td><td>2019-05-14T15:24:20.000+0000</td><td>9</td><td>Bangalore</td><td>Text Books</td></tr><tr><td>495.91</td><td>Visa</td><td>www.snapdeal.com</td><td>India</td><td>2019-05-14T15:24:21.000+0000</td><td>10</td><td>Bangalore</td><td>Laptop</td></tr></tbody></table></div>"
      ]
     },
     "metadata": {
      "application/vnd.databricks.v1+output": {
       "addedWidgets": {},
       "aggData": [],
       "aggError": "",
       "aggOverflow": false,
       "aggSchema": [],
       "aggSeriesLimitReached": false,
       "aggType": "",
       "arguments": {},
       "columnCustomDisplayInfos": {},
       "data": [
        [
         50.85,
         "MasterCard",
         "www.ebay.com",
         "India",
         "2019-05-14T15:24:12.000+0000",
         1,
         "Mumbai",
         "Laptop"
        ],
        [
         259.12,
         "MasterCard",
         "www.amazon.com",
         "India",
         "2019-05-14T15:24:13.000+0000",
         2,
         "Pune",
         "Wrist Band"
        ],
        [
         328.16,
         "MasterCard",
         "www.flipkart.com",
         "United States",
         "2019-05-14T15:24:14.000+0000",
         3,
         "New York City",
         "TV Stand"
        ],
        [
         399.06,
         "Visa",
         "www.snapdeal.com",
         "Inida",
         "2019-05-14T15:24:15.000+0000",
         4,
         "New Delhi",
         "TV Stand"
        ],
        [
         194.52,
         "Visa",
         "www.ebay.com",
         "Italy",
         "2019-05-14T15:24:16.000+0000",
         5,
         "Rome",
         "External Hard Drive"
        ],
        [
         415.65,
         "Maestro",
         "www.flipkart.com",
         "India",
         "2019-05-14T15:24:17.000+0000",
         6,
         "Kolkata",
         "TV"
        ],
        [
         467.12,
         "MasterCard",
         "www.amazon.com",
         "India",
         "2019-05-14T15:24:18.000+0000",
         7,
         "Kolkata",
         "Wrist Watch"
        ],
        [
         361.61,
         "Visa",
         "www.ebay.com",
         "India",
         "2019-05-14T15:24:19.000+0000",
         8,
         "Kolkata",
         "Laptop"
        ],
        [
         357.34,
         "Maestro",
         "www.amazon.com",
         "India",
         "2019-05-14T15:24:20.000+0000",
         9,
         "Bangalore",
         "Text Books"
        ],
        [
         495.91,
         "Visa",
         "www.snapdeal.com",
         "India",
         "2019-05-14T15:24:21.000+0000",
         10,
         "Bangalore",
         "Laptop"
        ]
       ],
       "datasetInfos": [],
       "dbfsResultPath": null,
       "isJsonSchema": true,
       "metadata": {},
       "overflow": false,
       "plotOptions": {
        "customPlotOptions": {},
        "displayType": "table",
        "pivotAggregation": null,
        "pivotColumns": null,
        "xColumns": null,
        "yColumns": null
       },
       "removedWidgets": [],
       "schema": [
        {
         "metadata": "{}",
         "name": "amount",
         "type": "\"double\""
        },
        {
         "metadata": "{}",
         "name": "transaction_card_type",
         "type": "\"string\""
        },
        {
         "metadata": "{}",
         "name": "transaction_ecommerce_website_name",
         "type": "\"string\""
        },
        {
         "metadata": "{}",
         "name": "transaction_country_name",
         "type": "\"string\""
        },
        {
         "metadata": "{}",
         "name": "transaction_datetime",
         "type": "\"timestamp\""
        },
        {
         "metadata": "{}",
         "name": "transaction_id",
         "type": "\"integer\""
        },
        {
         "metadata": "{}",
         "name": "transaction_city_name",
         "type": "\"string\""
        },
        {
         "metadata": "{}",
         "name": "transaction_product_name",
         "type": "\"string\""
        }
       ],
       "type": "table"
      }
     },
     "output_type": "display_data"
    }
   ],
   "source": [
    "df = df.withColumnRenamed('transaction_amount','amount')\n",
    "display(df.limit(10))"
   ]
  },
  {
   "cell_type": "code",
   "execution_count": 0,
   "metadata": {
    "application/vnd.databricks.v1+cell": {
     "cellMetadata": {
      "byteLimit": 2048000,
      "rowLimit": 10000
     },
     "inputWidgets": {},
     "nuid": "280ff652-fa4d-4c64-813e-a68c10e2e446",
     "showTitle": false,
     "title": ""
    }
   },
   "outputs": [
    {
     "output_type": "display_data",
     "data": {
      "text/html": [
       "<style scoped>\n",
       "  .table-result-container {\n",
       "    max-height: 300px;\n",
       "    overflow: auto;\n",
       "  }\n",
       "  table, th, td {\n",
       "    border: 1px solid black;\n",
       "    border-collapse: collapse;\n",
       "  }\n",
       "  th, td {\n",
       "    padding: 5px;\n",
       "  }\n",
       "  th {\n",
       "    text-align: left;\n",
       "  }\n",
       "</style><div class='table-result-container'><table class='table-result'><thead style='background-color: white'><tr><th>amount</th><th>transaction_card_type</th><th>transaction_ecommerce_website_name</th><th>transaction_country_name</th><th>transaction_datetime</th><th>transaction_id</th><th>transaction_city_name</th><th>transaction_product_name</th><th>product_name</th></tr></thead><tbody><tr><td>50.85</td><td>MasterCard</td><td>www.ebay.com</td><td>India</td><td>2019-05-14T15:24:12.000+0000</td><td>1</td><td>Mumbai</td><td>Laptop</td><td>LAPTOP</td></tr><tr><td>259.12</td><td>MasterCard</td><td>www.amazon.com</td><td>India</td><td>2019-05-14T15:24:13.000+0000</td><td>2</td><td>Pune</td><td>Wrist Band</td><td>WRIST BAND</td></tr><tr><td>328.16</td><td>MasterCard</td><td>www.flipkart.com</td><td>United States</td><td>2019-05-14T15:24:14.000+0000</td><td>3</td><td>New York City</td><td>TV Stand</td><td>TV STAND</td></tr><tr><td>399.06</td><td>Visa</td><td>www.snapdeal.com</td><td>Inida</td><td>2019-05-14T15:24:15.000+0000</td><td>4</td><td>New Delhi</td><td>TV Stand</td><td>TV STAND</td></tr><tr><td>194.52</td><td>Visa</td><td>www.ebay.com</td><td>Italy</td><td>2019-05-14T15:24:16.000+0000</td><td>5</td><td>Rome</td><td>External Hard Drive</td><td>EXTERNAL HARD DRIVE</td></tr><tr><td>415.65</td><td>Maestro</td><td>www.flipkart.com</td><td>India</td><td>2019-05-14T15:24:17.000+0000</td><td>6</td><td>Kolkata</td><td>TV</td><td>TV</td></tr><tr><td>467.12</td><td>MasterCard</td><td>www.amazon.com</td><td>India</td><td>2019-05-14T15:24:18.000+0000</td><td>7</td><td>Kolkata</td><td>Wrist Watch</td><td>WRIST WATCH</td></tr><tr><td>361.61</td><td>Visa</td><td>www.ebay.com</td><td>India</td><td>2019-05-14T15:24:19.000+0000</td><td>8</td><td>Kolkata</td><td>Laptop</td><td>LAPTOP</td></tr><tr><td>357.34</td><td>Maestro</td><td>www.amazon.com</td><td>India</td><td>2019-05-14T15:24:20.000+0000</td><td>9</td><td>Bangalore</td><td>Text Books</td><td>TEXT BOOKS</td></tr><tr><td>495.91</td><td>Visa</td><td>www.snapdeal.com</td><td>India</td><td>2019-05-14T15:24:21.000+0000</td><td>10</td><td>Bangalore</td><td>Laptop</td><td>LAPTOP</td></tr></tbody></table></div>"
      ]
     },
     "metadata": {
      "application/vnd.databricks.v1+output": {
       "addedWidgets": {},
       "aggData": [],
       "aggError": "",
       "aggOverflow": false,
       "aggSchema": [],
       "aggSeriesLimitReached": false,
       "aggType": "",
       "arguments": {},
       "columnCustomDisplayInfos": {},
       "data": [
        [
         50.85,
         "MasterCard",
         "www.ebay.com",
         "India",
         "2019-05-14T15:24:12.000+0000",
         1,
         "Mumbai",
         "Laptop",
         "LAPTOP"
        ],
        [
         259.12,
         "MasterCard",
         "www.amazon.com",
         "India",
         "2019-05-14T15:24:13.000+0000",
         2,
         "Pune",
         "Wrist Band",
         "WRIST BAND"
        ],
        [
         328.16,
         "MasterCard",
         "www.flipkart.com",
         "United States",
         "2019-05-14T15:24:14.000+0000",
         3,
         "New York City",
         "TV Stand",
         "TV STAND"
        ],
        [
         399.06,
         "Visa",
         "www.snapdeal.com",
         "Inida",
         "2019-05-14T15:24:15.000+0000",
         4,
         "New Delhi",
         "TV Stand",
         "TV STAND"
        ],
        [
         194.52,
         "Visa",
         "www.ebay.com",
         "Italy",
         "2019-05-14T15:24:16.000+0000",
         5,
         "Rome",
         "External Hard Drive",
         "EXTERNAL HARD DRIVE"
        ],
        [
         415.65,
         "Maestro",
         "www.flipkart.com",
         "India",
         "2019-05-14T15:24:17.000+0000",
         6,
         "Kolkata",
         "TV",
         "TV"
        ],
        [
         467.12,
         "MasterCard",
         "www.amazon.com",
         "India",
         "2019-05-14T15:24:18.000+0000",
         7,
         "Kolkata",
         "Wrist Watch",
         "WRIST WATCH"
        ],
        [
         361.61,
         "Visa",
         "www.ebay.com",
         "India",
         "2019-05-14T15:24:19.000+0000",
         8,
         "Kolkata",
         "Laptop",
         "LAPTOP"
        ],
        [
         357.34,
         "Maestro",
         "www.amazon.com",
         "India",
         "2019-05-14T15:24:20.000+0000",
         9,
         "Bangalore",
         "Text Books",
         "TEXT BOOKS"
        ],
        [
         495.91,
         "Visa",
         "www.snapdeal.com",
         "India",
         "2019-05-14T15:24:21.000+0000",
         10,
         "Bangalore",
         "Laptop",
         "LAPTOP"
        ]
       ],
       "datasetInfos": [],
       "dbfsResultPath": null,
       "isJsonSchema": true,
       "metadata": {},
       "overflow": false,
       "plotOptions": {
        "customPlotOptions": {},
        "displayType": "table",
        "pivotAggregation": null,
        "pivotColumns": null,
        "xColumns": null,
        "yColumns": null
       },
       "removedWidgets": [],
       "schema": [
        {
         "metadata": "{}",
         "name": "amount",
         "type": "\"double\""
        },
        {
         "metadata": "{}",
         "name": "transaction_card_type",
         "type": "\"string\""
        },
        {
         "metadata": "{}",
         "name": "transaction_ecommerce_website_name",
         "type": "\"string\""
        },
        {
         "metadata": "{}",
         "name": "transaction_country_name",
         "type": "\"string\""
        },
        {
         "metadata": "{}",
         "name": "transaction_datetime",
         "type": "\"timestamp\""
        },
        {
         "metadata": "{}",
         "name": "transaction_id",
         "type": "\"integer\""
        },
        {
         "metadata": "{}",
         "name": "transaction_city_name",
         "type": "\"string\""
        },
        {
         "metadata": "{}",
         "name": "transaction_product_name",
         "type": "\"string\""
        },
        {
         "metadata": "{}",
         "name": "product_name",
         "type": "\"string\""
        }
       ],
       "type": "table"
      }
     },
     "output_type": "display_data"
    }
   ],
   "source": [
    "from pyspark.sql.functions import upper\n",
    "\n",
    "df = df.withColumn('product_name', upper(df.transaction_product_name)).limit(10)\n",
    "display(df.limit(10))"
   ]
  },
  {
   "cell_type": "code",
   "execution_count": 0,
   "metadata": {
    "application/vnd.databricks.v1+cell": {
     "cellMetadata": {
      "byteLimit": 2048000,
      "rowLimit": 10000
     },
     "inputWidgets": {},
     "nuid": "77924b82-522d-425d-8428-2e561f5c05f8",
     "showTitle": false,
     "title": ""
    }
   },
   "outputs": [
    {
     "output_type": "display_data",
     "data": {
      "text/html": [
       "<style scoped>\n",
       "  .table-result-container {\n",
       "    max-height: 300px;\n",
       "    overflow: auto;\n",
       "  }\n",
       "  table, th, td {\n",
       "    border: 1px solid black;\n",
       "    border-collapse: collapse;\n",
       "  }\n",
       "  th, td {\n",
       "    padding: 5px;\n",
       "  }\n",
       "  th {\n",
       "    text-align: left;\n",
       "  }\n",
       "</style><div class='table-result-container'><table class='table-result'><thead style='background-color: white'><tr><th>amount</th><th>transaction_card_type</th><th>transaction_ecommerce_website_name</th><th>transaction_country_name</th><th>transaction_datetime</th><th>transaction_id</th><th>transaction_city_name</th><th>transaction_product_name</th></tr></thead><tbody><tr><td>50.85</td><td>MasterCard</td><td>www.ebay.com</td><td>India</td><td>2019-05-14T15:24:12.000+0000</td><td>1</td><td>Mumbai</td><td>Laptop</td></tr><tr><td>259.12</td><td>MasterCard</td><td>www.amazon.com</td><td>India</td><td>2019-05-14T15:24:13.000+0000</td><td>2</td><td>Pune</td><td>Wrist Band</td></tr><tr><td>328.16</td><td>MasterCard</td><td>www.flipkart.com</td><td>United States</td><td>2019-05-14T15:24:14.000+0000</td><td>3</td><td>New York City</td><td>TV Stand</td></tr><tr><td>399.06</td><td>Visa</td><td>www.snapdeal.com</td><td>Inida</td><td>2019-05-14T15:24:15.000+0000</td><td>4</td><td>New Delhi</td><td>TV Stand</td></tr><tr><td>194.52</td><td>Visa</td><td>www.ebay.com</td><td>Italy</td><td>2019-05-14T15:24:16.000+0000</td><td>5</td><td>Rome</td><td>External Hard Drive</td></tr><tr><td>415.65</td><td>Maestro</td><td>www.flipkart.com</td><td>India</td><td>2019-05-14T15:24:17.000+0000</td><td>6</td><td>Kolkata</td><td>TV</td></tr><tr><td>467.12</td><td>MasterCard</td><td>www.amazon.com</td><td>India</td><td>2019-05-14T15:24:18.000+0000</td><td>7</td><td>Kolkata</td><td>Wrist Watch</td></tr><tr><td>361.61</td><td>Visa</td><td>www.ebay.com</td><td>India</td><td>2019-05-14T15:24:19.000+0000</td><td>8</td><td>Kolkata</td><td>Laptop</td></tr><tr><td>357.34</td><td>Maestro</td><td>www.amazon.com</td><td>India</td><td>2019-05-14T15:24:20.000+0000</td><td>9</td><td>Bangalore</td><td>Text Books</td></tr><tr><td>495.91</td><td>Visa</td><td>www.snapdeal.com</td><td>India</td><td>2019-05-14T15:24:21.000+0000</td><td>10</td><td>Bangalore</td><td>Laptop</td></tr></tbody></table></div>"
      ]
     },
     "metadata": {
      "application/vnd.databricks.v1+output": {
       "addedWidgets": {},
       "aggData": [],
       "aggError": "",
       "aggOverflow": false,
       "aggSchema": [],
       "aggSeriesLimitReached": false,
       "aggType": "",
       "arguments": {},
       "columnCustomDisplayInfos": {},
       "data": [
        [
         50.85,
         "MasterCard",
         "www.ebay.com",
         "India",
         "2019-05-14T15:24:12.000+0000",
         1,
         "Mumbai",
         "Laptop"
        ],
        [
         259.12,
         "MasterCard",
         "www.amazon.com",
         "India",
         "2019-05-14T15:24:13.000+0000",
         2,
         "Pune",
         "Wrist Band"
        ],
        [
         328.16,
         "MasterCard",
         "www.flipkart.com",
         "United States",
         "2019-05-14T15:24:14.000+0000",
         3,
         "New York City",
         "TV Stand"
        ],
        [
         399.06,
         "Visa",
         "www.snapdeal.com",
         "Inida",
         "2019-05-14T15:24:15.000+0000",
         4,
         "New Delhi",
         "TV Stand"
        ],
        [
         194.52,
         "Visa",
         "www.ebay.com",
         "Italy",
         "2019-05-14T15:24:16.000+0000",
         5,
         "Rome",
         "External Hard Drive"
        ],
        [
         415.65,
         "Maestro",
         "www.flipkart.com",
         "India",
         "2019-05-14T15:24:17.000+0000",
         6,
         "Kolkata",
         "TV"
        ],
        [
         467.12,
         "MasterCard",
         "www.amazon.com",
         "India",
         "2019-05-14T15:24:18.000+0000",
         7,
         "Kolkata",
         "Wrist Watch"
        ],
        [
         361.61,
         "Visa",
         "www.ebay.com",
         "India",
         "2019-05-14T15:24:19.000+0000",
         8,
         "Kolkata",
         "Laptop"
        ],
        [
         357.34,
         "Maestro",
         "www.amazon.com",
         "India",
         "2019-05-14T15:24:20.000+0000",
         9,
         "Bangalore",
         "Text Books"
        ],
        [
         495.91,
         "Visa",
         "www.snapdeal.com",
         "India",
         "2019-05-14T15:24:21.000+0000",
         10,
         "Bangalore",
         "Laptop"
        ]
       ],
       "datasetInfos": [],
       "dbfsResultPath": null,
       "isJsonSchema": true,
       "metadata": {},
       "overflow": false,
       "plotOptions": {
        "customPlotOptions": {},
        "displayType": "table",
        "pivotAggregation": null,
        "pivotColumns": null,
        "xColumns": null,
        "yColumns": null
       },
       "removedWidgets": [],
       "schema": [
        {
         "metadata": "{}",
         "name": "amount",
         "type": "\"double\""
        },
        {
         "metadata": "{}",
         "name": "transaction_card_type",
         "type": "\"string\""
        },
        {
         "metadata": "{}",
         "name": "transaction_ecommerce_website_name",
         "type": "\"string\""
        },
        {
         "metadata": "{}",
         "name": "transaction_country_name",
         "type": "\"string\""
        },
        {
         "metadata": "{}",
         "name": "transaction_datetime",
         "type": "\"timestamp\""
        },
        {
         "metadata": "{}",
         "name": "transaction_id",
         "type": "\"integer\""
        },
        {
         "metadata": "{}",
         "name": "transaction_city_name",
         "type": "\"string\""
        },
        {
         "metadata": "{}",
         "name": "transaction_product_name",
         "type": "\"string\""
        }
       ],
       "type": "table"
      }
     },
     "output_type": "display_data"
    }
   ],
   "source": [
    "df = df.drop('product_name')\n",
    "display(df.limit(10))"
   ]
  },
  {
   "cell_type": "markdown",
   "metadata": {
    "application/vnd.databricks.v1+cell": {
     "cellMetadata": {
      "byteLimit": 2048000,
      "rowLimit": 10000
     },
     "inputWidgets": {},
     "nuid": "ecb96069-ac96-4147-92f2-946021705b1b",
     "showTitle": false,
     "title": ""
    }
   },
   "source": [
    "# select distinct values"
   ]
  },
  {
   "cell_type": "code",
   "execution_count": 0,
   "metadata": {
    "application/vnd.databricks.v1+cell": {
     "cellMetadata": {
      "byteLimit": 2048000,
      "rowLimit": 10000
     },
     "inputWidgets": {},
     "nuid": "48b3d1bf-a570-4a14-9fe4-224233561e3f",
     "showTitle": false,
     "title": ""
    }
   },
   "outputs": [
    {
     "output_type": "display_data",
     "data": {
      "text/html": [
       "<style scoped>\n",
       "  .table-result-container {\n",
       "    max-height: 300px;\n",
       "    overflow: auto;\n",
       "  }\n",
       "  table, th, td {\n",
       "    border: 1px solid black;\n",
       "    border-collapse: collapse;\n",
       "  }\n",
       "  th, td {\n",
       "    padding: 5px;\n",
       "  }\n",
       "  th {\n",
       "    text-align: left;\n",
       "  }\n",
       "</style><div class='table-result-container'><table class='table-result'><thead style='background-color: white'><tr><th>transaction_card_type</th><th>transaction_country_name</th></tr></thead><tbody><tr><td>MasterCard</td><td>India</td></tr><tr><td>MasterCard</td><td>United States</td></tr><tr><td>Visa</td><td>Inida</td></tr><tr><td>Visa</td><td>Italy</td></tr><tr><td>Maestro</td><td>India</td></tr><tr><td>Visa</td><td>India</td></tr></tbody></table></div>"
      ]
     },
     "metadata": {
      "application/vnd.databricks.v1+output": {
       "addedWidgets": {},
       "aggData": [],
       "aggError": "",
       "aggOverflow": false,
       "aggSchema": [],
       "aggSeriesLimitReached": false,
       "aggType": "",
       "arguments": {},
       "columnCustomDisplayInfos": {},
       "data": [
        [
         "MasterCard",
         "India"
        ],
        [
         "MasterCard",
         "United States"
        ],
        [
         "Visa",
         "Inida"
        ],
        [
         "Visa",
         "Italy"
        ],
        [
         "Maestro",
         "India"
        ],
        [
         "Visa",
         "India"
        ]
       ],
       "datasetInfos": [],
       "dbfsResultPath": null,
       "isJsonSchema": true,
       "metadata": {},
       "overflow": false,
       "plotOptions": {
        "customPlotOptions": {},
        "displayType": "table",
        "pivotAggregation": null,
        "pivotColumns": null,
        "xColumns": null,
        "yColumns": null
       },
       "removedWidgets": [],
       "schema": [
        {
         "metadata": "{}",
         "name": "transaction_card_type",
         "type": "\"string\""
        },
        {
         "metadata": "{}",
         "name": "transaction_country_name",
         "type": "\"string\""
        }
       ],
       "type": "table"
      }
     },
     "output_type": "display_data"
    }
   ],
   "source": [
    "display(df.select('transaction_card_type','transaction_country_name').distinct().limit(10))"
   ]
  },
  {
   "cell_type": "markdown",
   "metadata": {
    "application/vnd.databricks.v1+cell": {
     "cellMetadata": {
      "byteLimit": 2048000,
      "rowLimit": 10000
     },
     "inputWidgets": {},
     "nuid": "13e06677-c308-4564-a2e2-b1f19b10f95d",
     "showTitle": false,
     "title": ""
    }
   },
   "source": [
    "# Group By and Order by"
   ]
  },
  {
   "cell_type": "code",
   "execution_count": 0,
   "metadata": {
    "application/vnd.databricks.v1+cell": {
     "cellMetadata": {
      "byteLimit": 2048000,
      "rowLimit": 10000
     },
     "inputWidgets": {},
     "nuid": "a04879de-c4d4-459d-82c5-6c6d36704140",
     "showTitle": false,
     "title": ""
    }
   },
   "outputs": [
    {
     "output_type": "display_data",
     "data": {
      "text/html": [
       "<style scoped>\n",
       "  .table-result-container {\n",
       "    max-height: 300px;\n",
       "    overflow: auto;\n",
       "  }\n",
       "  table, th, td {\n",
       "    border: 1px solid black;\n",
       "    border-collapse: collapse;\n",
       "  }\n",
       "  th, td {\n",
       "    padding: 5px;\n",
       "  }\n",
       "  th {\n",
       "    text-align: left;\n",
       "  }\n",
       "</style><div class='table-result-container'><table class='table-result'><thead style='background-color: white'><tr><th>transaction_card_type</th><th>transaction_country_name</th><th>total amount</th><th>total transection</th><th>avg amount</th></tr></thead><tbody><tr><td>MasterCard</td><td>India</td><td>777.09</td><td>3</td><td>259.03000000000003</td></tr><tr><td>MasterCard</td><td>United States</td><td>328.16</td><td>1</td><td>328.16</td></tr><tr><td>Visa</td><td>Inida</td><td>399.06</td><td>1</td><td>399.06</td></tr><tr><td>Visa</td><td>Italy</td><td>194.52</td><td>1</td><td>194.52</td></tr><tr><td>Maestro</td><td>India</td><td>772.99</td><td>2</td><td>386.495</td></tr><tr><td>Visa</td><td>India</td><td>857.52</td><td>2</td><td>428.76</td></tr></tbody></table></div>"
      ]
     },
     "metadata": {
      "application/vnd.databricks.v1+output": {
       "addedWidgets": {},
       "aggData": [],
       "aggError": "",
       "aggOverflow": false,
       "aggSchema": [],
       "aggSeriesLimitReached": false,
       "aggType": "",
       "arguments": {},
       "columnCustomDisplayInfos": {},
       "data": [
        [
         "MasterCard",
         "India",
         777.09,
         3,
         259.03000000000003
        ],
        [
         "MasterCard",
         "United States",
         328.16,
         1,
         328.16
        ],
        [
         "Visa",
         "Inida",
         399.06,
         1,
         399.06
        ],
        [
         "Visa",
         "Italy",
         194.52,
         1,
         194.52
        ],
        [
         "Maestro",
         "India",
         772.99,
         2,
         386.495
        ],
        [
         "Visa",
         "India",
         857.52,
         2,
         428.76
        ]
       ],
       "datasetInfos": [],
       "dbfsResultPath": null,
       "isJsonSchema": true,
       "metadata": {},
       "overflow": false,
       "plotOptions": {
        "customPlotOptions": {},
        "displayType": "table",
        "pivotAggregation": null,
        "pivotColumns": null,
        "xColumns": null,
        "yColumns": null
       },
       "removedWidgets": [],
       "schema": [
        {
         "metadata": "{}",
         "name": "transaction_card_type",
         "type": "\"string\""
        },
        {
         "metadata": "{}",
         "name": "transaction_country_name",
         "type": "\"string\""
        },
        {
         "metadata": "{}",
         "name": "total amount",
         "type": "\"double\""
        },
        {
         "metadata": "{}",
         "name": "total transection",
         "type": "\"long\""
        },
        {
         "metadata": "{}",
         "name": "avg amount",
         "type": "\"double\""
        }
       ],
       "type": "table"
      }
     },
     "output_type": "display_data"
    }
   ],
   "source": [
    "from pyspark.sql.functions import col, sum, count, mean\n",
    "grouped_data = df.groupBy([\"transaction_card_type\", \"transaction_country_name\"]).agg(\n",
    "    sum(\"amount\").alias(\"total amount\"),\n",
    "    count(\"transaction_card_type\").alias(\"total transection\"),\n",
    "    mean(\"amount\").alias(\"avg amount\")\n",
    ")\n",
    "\n",
    "display(grouped_data)"
   ]
  },
  {
   "cell_type": "code",
   "execution_count": 0,
   "metadata": {
    "application/vnd.databricks.v1+cell": {
     "cellMetadata": {
      "byteLimit": 2048000,
      "rowLimit": 10000
     },
     "inputWidgets": {},
     "nuid": "23f05da3-3b3e-4ec0-bb0c-86a6a7a1069f",
     "showTitle": false,
     "title": ""
    }
   },
   "outputs": [
    {
     "output_type": "display_data",
     "data": {
      "text/html": [
       "<style scoped>\n",
       "  .table-result-container {\n",
       "    max-height: 300px;\n",
       "    overflow: auto;\n",
       "  }\n",
       "  table, th, td {\n",
       "    border: 1px solid black;\n",
       "    border-collapse: collapse;\n",
       "  }\n",
       "  th, td {\n",
       "    padding: 5px;\n",
       "  }\n",
       "  th {\n",
       "    text-align: left;\n",
       "  }\n",
       "</style><div class='table-result-container'><table class='table-result'><thead style='background-color: white'><tr><th>transaction_card_type</th><th>transaction_country_name</th><th>total amount</th><th>total transection</th><th>avg amount</th></tr></thead><tbody><tr><td>Maestro</td><td>India</td><td>772.99</td><td>2</td><td>386.495</td></tr><tr><td>MasterCard</td><td>India</td><td>777.09</td><td>3</td><td>259.03000000000003</td></tr><tr><td>Visa</td><td>India</td><td>857.52</td><td>2</td><td>428.76</td></tr><tr><td>Visa</td><td>Inida</td><td>399.06</td><td>1</td><td>399.06</td></tr><tr><td>Visa</td><td>Italy</td><td>194.52</td><td>1</td><td>194.52</td></tr><tr><td>MasterCard</td><td>United States</td><td>328.16</td><td>1</td><td>328.16</td></tr></tbody></table></div>"
      ]
     },
     "metadata": {
      "application/vnd.databricks.v1+output": {
       "addedWidgets": {},
       "aggData": [],
       "aggError": "",
       "aggOverflow": false,
       "aggSchema": [],
       "aggSeriesLimitReached": false,
       "aggType": "",
       "arguments": {},
       "columnCustomDisplayInfos": {},
       "data": [
        [
         "Maestro",
         "India",
         772.99,
         2,
         386.495
        ],
        [
         "MasterCard",
         "India",
         777.09,
         3,
         259.03000000000003
        ],
        [
         "Visa",
         "India",
         857.52,
         2,
         428.76
        ],
        [
         "Visa",
         "Inida",
         399.06,
         1,
         399.06
        ],
        [
         "Visa",
         "Italy",
         194.52,
         1,
         194.52
        ],
        [
         "MasterCard",
         "United States",
         328.16,
         1,
         328.16
        ]
       ],
       "datasetInfos": [],
       "dbfsResultPath": null,
       "isJsonSchema": true,
       "metadata": {},
       "overflow": false,
       "plotOptions": {
        "customPlotOptions": {},
        "displayType": "table",
        "pivotAggregation": null,
        "pivotColumns": null,
        "xColumns": null,
        "yColumns": null
       },
       "removedWidgets": [],
       "schema": [
        {
         "metadata": "{}",
         "name": "transaction_card_type",
         "type": "\"string\""
        },
        {
         "metadata": "{}",
         "name": "transaction_country_name",
         "type": "\"string\""
        },
        {
         "metadata": "{}",
         "name": "total amount",
         "type": "\"double\""
        },
        {
         "metadata": "{}",
         "name": "total transection",
         "type": "\"long\""
        },
        {
         "metadata": "{}",
         "name": "avg amount",
         "type": "\"double\""
        }
       ],
       "type": "table"
      }
     },
     "output_type": "display_data"
    }
   ],
   "source": [
    "ordered_data = grouped_data.orderBy(\"transaction_country_name\", \"transaction_card_type\")\n",
    "display(ordered_data)"
   ]
  },
  {
   "cell_type": "code",
   "execution_count": 0,
   "metadata": {
    "application/vnd.databricks.v1+cell": {
     "cellMetadata": {
      "byteLimit": 2048000,
      "rowLimit": 10000
     },
     "inputWidgets": {},
     "nuid": "d282b6f2-cd06-4b49-af10-e6192e8cc1f8",
     "showTitle": false,
     "title": ""
    }
   },
   "outputs": [],
   "source": []
  }
 ],
 "metadata": {
  "application/vnd.databricks.v1+notebook": {
   "dashboards": [],
   "environmentMetadata": null,
   "language": "python",
   "notebookMetadata": {
    "pythonIndentUnit": 4
   },
   "notebookName": "1. Select, Group, Order, Add, Rename, Drop Column, Distinct",
   "widgets": {}
  }
 },
 "nbformat": 4,
 "nbformat_minor": 0
}
