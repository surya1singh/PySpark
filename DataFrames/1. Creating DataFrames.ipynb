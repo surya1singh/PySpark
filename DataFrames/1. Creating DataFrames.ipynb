{
 "cells": [
  {
   "cell_type": "markdown",
   "metadata": {
    "application/vnd.databricks.v1+cell": {
     "cellMetadata": {},
     "inputWidgets": {},
     "nuid": "d5760f81-5ac4-4dcd-a14a-edf64676e70d",
     "showTitle": false,
     "tableResultSettingsMap": {},
     "title": ""
    }
   },
   "source": [
    "# DataFrames\n",
    "\n",
    "It is conceptually equivalent to a table in a relational database or a data frame in R/Python, but with richer optimizations under the hood. "
   ]
  },
  {
   "cell_type": "markdown",
   "metadata": {
    "application/vnd.databricks.v1+cell": {
     "cellMetadata": {},
     "inputWidgets": {},
     "nuid": "b1815ae0-642a-4c25-8626-772b4cd085b5",
     "showTitle": false,
     "tableResultSettingsMap": {},
     "title": ""
    }
   },
   "source": [
    "more data source options are available here https://spark.apache.org/docs/latest/sql-data-sources.html"
   ]
  },
  {
   "cell_type": "code",
   "execution_count": 0,
   "metadata": {
    "application/vnd.databricks.v1+cell": {
     "cellMetadata": {
      "byteLimit": 2048000,
      "rowLimit": 10000
     },
     "inputWidgets": {},
     "nuid": "cdeff10d-8734-4f72-a30d-a107b1f83170",
     "showTitle": false,
     "tableResultSettingsMap": {},
     "title": ""
    }
   },
   "outputs": [],
   "source": [
    "data = \"\"\"id,name,age,city,salary\n",
    "1,John Doe,28,New York,70000\n",
    "2,Jane Smith,34,Los Angeles,80000\n",
    "3,Emily Davis,22,Chicago,60000\n",
    "4,Michael Brown,45,Houston,95000\n",
    "5,Jessica Taylor,29,Philadelphia,75000\n",
    "\"\"\"\n",
    "with open('test.csv','w') as fp:\n",
    "    fp.write(data)"
   ]
  },
  {
   "cell_type": "code",
   "execution_count": 0,
   "metadata": {
    "application/vnd.databricks.v1+cell": {
     "cellMetadata": {
      "byteLimit": 2048000,
      "rowLimit": 10000
     },
     "inputWidgets": {},
     "nuid": "a68987c7-a7d7-45f1-a979-45b1059e5ec6",
     "showTitle": false,
     "tableResultSettingsMap": {},
     "title": ""
    }
   },
   "outputs": [
    {
     "output_type": "display_data",
     "data": {
      "text/html": [
       "<style scoped>\n",
       "  .table-result-container {\n",
       "    max-height: 300px;\n",
       "    overflow: auto;\n",
       "  }\n",
       "  table, th, td {\n",
       "    border: 1px solid black;\n",
       "    border-collapse: collapse;\n",
       "  }\n",
       "  th, td {\n",
       "    padding: 5px;\n",
       "  }\n",
       "  th {\n",
       "    text-align: left;\n",
       "  }\n",
       "</style><div class='table-result-container'><table class='table-result'><thead style='background-color: white'><tr><th>id</th><th>name</th><th>age</th><th>city</th><th>salary</th></tr></thead><tbody><tr><td>1</td><td>John Doe</td><td>28</td><td>New York</td><td>70000</td></tr><tr><td>2</td><td>Jane Smith</td><td>34</td><td>Los Angeles</td><td>80000</td></tr><tr><td>3</td><td>Emily Davis</td><td>22</td><td>Chicago</td><td>60000</td></tr><tr><td>4</td><td>Michael Brown</td><td>45</td><td>Houston</td><td>95000</td></tr><tr><td>5</td><td>Jessica Taylor</td><td>29</td><td>Philadelphia</td><td>75000</td></tr></tbody></table></div>"
      ]
     },
     "metadata": {
      "application/vnd.databricks.v1+output": {
       "addedWidgets": {},
       "aggData": [],
       "aggError": "",
       "aggOverflow": false,
       "aggSchema": [],
       "aggSeriesLimitReached": false,
       "aggType": "",
       "arguments": {},
       "columnCustomDisplayInfos": {},
       "data": [
        [
         "1",
         "John Doe",
         "28",
         "New York",
         "70000"
        ],
        [
         "2",
         "Jane Smith",
         "34",
         "Los Angeles",
         "80000"
        ],
        [
         "3",
         "Emily Davis",
         "22",
         "Chicago",
         "60000"
        ],
        [
         "4",
         "Michael Brown",
         "45",
         "Houston",
         "95000"
        ],
        [
         "5",
         "Jessica Taylor",
         "29",
         "Philadelphia",
         "75000"
        ]
       ],
       "datasetInfos": [],
       "dbfsResultPath": null,
       "isJsonSchema": true,
       "metadata": {},
       "overflow": false,
       "plotOptions": {
        "customPlotOptions": {},
        "displayType": "table",
        "pivotAggregation": null,
        "pivotColumns": null,
        "xColumns": null,
        "yColumns": null
       },
       "removedWidgets": [],
       "schema": [
        {
         "metadata": "{}",
         "name": "id",
         "type": "\"string\""
        },
        {
         "metadata": "{}",
         "name": "name",
         "type": "\"string\""
        },
        {
         "metadata": "{}",
         "name": "age",
         "type": "\"string\""
        },
        {
         "metadata": "{}",
         "name": "city",
         "type": "\"string\""
        },
        {
         "metadata": "{}",
         "name": "salary",
         "type": "\"string\""
        }
       ],
       "type": "table"
      }
     },
     "output_type": "display_data"
    }
   ],
   "source": [
    "df  = spark.read.csv('file:/databricks/driver/test.csv', header=True)\n",
    "display(df)"
   ]
  },
  {
   "cell_type": "code",
   "execution_count": 0,
   "metadata": {
    "application/vnd.databricks.v1+cell": {
     "cellMetadata": {
      "byteLimit": 2048000,
      "rowLimit": 10000
     },
     "inputWidgets": {},
     "nuid": "dbb2f256-7973-4a16-8d24-9b07f93e4a16",
     "showTitle": false,
     "tableResultSettingsMap": {},
     "title": ""
    }
   },
   "outputs": [
    {
     "output_type": "stream",
     "name": "stdout",
     "output_type": "stream",
     "text": [
      "root\n |-- id: string (nullable = true)\n |-- name: string (nullable = true)\n |-- age: string (nullable = true)\n |-- city: string (nullable = true)\n |-- salary: string (nullable = true)\n\n"
     ]
    }
   ],
   "source": [
    "df.printSchema()"
   ]
  },
  {
   "cell_type": "markdown",
   "metadata": {
    "application/vnd.databricks.v1+cell": {
     "cellMetadata": {},
     "inputWidgets": {},
     "nuid": "5bcab0e3-2195-49c8-bd8c-48dbbfc3b5e8",
     "showTitle": false,
     "tableResultSettingsMap": {},
     "title": ""
    }
   },
   "source": [
    "All the files are string type but id, age, salary sould be integer. we can use infer schema option. "
   ]
  },
  {
   "cell_type": "code",
   "execution_count": 0,
   "metadata": {
    "application/vnd.databricks.v1+cell": {
     "cellMetadata": {
      "byteLimit": 2048000,
      "rowLimit": 10000
     },
     "inputWidgets": {},
     "nuid": "c381005a-5cfe-4dc9-827d-cf74407bbf63",
     "showTitle": false,
     "tableResultSettingsMap": {},
     "title": ""
    }
   },
   "outputs": [
    {
     "output_type": "display_data",
     "data": {
      "text/html": [
       "<style scoped>\n",
       "  .table-result-container {\n",
       "    max-height: 300px;\n",
       "    overflow: auto;\n",
       "  }\n",
       "  table, th, td {\n",
       "    border: 1px solid black;\n",
       "    border-collapse: collapse;\n",
       "  }\n",
       "  th, td {\n",
       "    padding: 5px;\n",
       "  }\n",
       "  th {\n",
       "    text-align: left;\n",
       "  }\n",
       "</style><div class='table-result-container'><table class='table-result'><thead style='background-color: white'><tr><th>id</th><th>name</th><th>age</th><th>city</th><th>salary</th></tr></thead><tbody><tr><td>1</td><td>John Doe</td><td>28</td><td>New York</td><td>70000</td></tr><tr><td>2</td><td>Jane Smith</td><td>34</td><td>Los Angeles</td><td>80000</td></tr><tr><td>3</td><td>Emily Davis</td><td>22</td><td>Chicago</td><td>60000</td></tr><tr><td>4</td><td>Michael Brown</td><td>45</td><td>Houston</td><td>95000</td></tr><tr><td>5</td><td>Jessica Taylor</td><td>29</td><td>Philadelphia</td><td>75000</td></tr></tbody></table></div>"
      ]
     },
     "metadata": {
      "application/vnd.databricks.v1+output": {
       "addedWidgets": {},
       "aggData": [],
       "aggError": "",
       "aggOverflow": false,
       "aggSchema": [],
       "aggSeriesLimitReached": false,
       "aggType": "",
       "arguments": {},
       "columnCustomDisplayInfos": {},
       "data": [
        [
         1,
         "John Doe",
         28,
         "New York",
         70000
        ],
        [
         2,
         "Jane Smith",
         34,
         "Los Angeles",
         80000
        ],
        [
         3,
         "Emily Davis",
         22,
         "Chicago",
         60000
        ],
        [
         4,
         "Michael Brown",
         45,
         "Houston",
         95000
        ],
        [
         5,
         "Jessica Taylor",
         29,
         "Philadelphia",
         75000
        ]
       ],
       "datasetInfos": [],
       "dbfsResultPath": null,
       "isJsonSchema": true,
       "metadata": {},
       "overflow": false,
       "plotOptions": {
        "customPlotOptions": {},
        "displayType": "table",
        "pivotAggregation": null,
        "pivotColumns": null,
        "xColumns": null,
        "yColumns": null
       },
       "removedWidgets": [],
       "schema": [
        {
         "metadata": "{}",
         "name": "id",
         "type": "\"integer\""
        },
        {
         "metadata": "{}",
         "name": "name",
         "type": "\"string\""
        },
        {
         "metadata": "{}",
         "name": "age",
         "type": "\"integer\""
        },
        {
         "metadata": "{}",
         "name": "city",
         "type": "\"string\""
        },
        {
         "metadata": "{}",
         "name": "salary",
         "type": "\"integer\""
        }
       ],
       "type": "table"
      }
     },
     "output_type": "display_data"
    },
    {
     "output_type": "stream",
     "name": "stdout",
     "output_type": "stream",
     "text": [
      "root\n |-- id: integer (nullable = true)\n |-- name: string (nullable = true)\n |-- age: integer (nullable = true)\n |-- city: string (nullable = true)\n |-- salary: integer (nullable = true)\n\n"
     ]
    }
   ],
   "source": [
    "df  = spark.read.csv('file:/databricks/driver/test.csv', header=True, inferSchema=True)\n",
    "display(df)\n",
    "df.printSchema()\n"
   ]
  },
  {
   "cell_type": "markdown",
   "metadata": {
    "application/vnd.databricks.v1+cell": {
     "cellMetadata": {},
     "inputWidgets": {},
     "nuid": "774672a0-302c-4d6d-b8dc-530cf5764260",
     "showTitle": false,
     "tableResultSettingsMap": {},
     "title": ""
    }
   },
   "source": [
    "Data can also be read from dbfs. \n",
    "Databricks has many different sample data available"
   ]
  },
  {
   "cell_type": "code",
   "execution_count": 0,
   "metadata": {
    "application/vnd.databricks.v1+cell": {
     "cellMetadata": {
      "byteLimit": 2048000,
      "rowLimit": 10000
     },
     "inputWidgets": {},
     "nuid": "671fa0b4-84a6-41e3-8381-378cfacb6cf9",
     "showTitle": false,
     "tableResultSettingsMap": {},
     "title": ""
    }
   },
   "outputs": [
    {
     "output_type": "display_data",
     "data": {
      "text/html": [
       "<style scoped>\n",
       "  .table-result-container {\n",
       "    max-height: 300px;\n",
       "    overflow: auto;\n",
       "  }\n",
       "  table, th, td {\n",
       "    border: 1px solid black;\n",
       "    border-collapse: collapse;\n",
       "  }\n",
       "  th, td {\n",
       "    padding: 5px;\n",
       "  }\n",
       "  th {\n",
       "    text-align: left;\n",
       "  }\n",
       "</style><div class='table-result-container'><table class='table-result'><thead style='background-color: white'><tr><th>path</th><th>name</th><th>size</th><th>modificationTime</th></tr></thead><tbody><tr><td>dbfs:/databricks-datasets/timeseries/Fires/Fire_Department_Calls_for_Service.csv</td><td>Fire_Department_Calls_for_Service.csv</td><td>1892561692</td><td>1573520565000</td></tr><tr><td>dbfs:/databricks-datasets/timeseries/Fires/SFFire_readme.md</td><td>SFFire_readme.md</td><td>1222</td><td>1573520565000</td></tr></tbody></table></div>"
      ]
     },
     "metadata": {
      "application/vnd.databricks.v1+output": {
       "addedWidgets": {},
       "aggData": [],
       "aggError": "",
       "aggOverflow": false,
       "aggSchema": [],
       "aggSeriesLimitReached": false,
       "aggType": "",
       "arguments": {},
       "columnCustomDisplayInfos": {},
       "data": [
        [
         "dbfs:/databricks-datasets/timeseries/Fires/Fire_Department_Calls_for_Service.csv",
         "Fire_Department_Calls_for_Service.csv",
         1892561692,
         1573520565000
        ],
        [
         "dbfs:/databricks-datasets/timeseries/Fires/SFFire_readme.md",
         "SFFire_readme.md",
         1222,
         1573520565000
        ]
       ],
       "datasetInfos": [],
       "dbfsResultPath": null,
       "isJsonSchema": true,
       "metadata": {
        "isDbfsCommandResult": false
       },
       "overflow": false,
       "plotOptions": {
        "customPlotOptions": {},
        "displayType": "table",
        "pivotAggregation": null,
        "pivotColumns": null,
        "xColumns": null,
        "yColumns": null
       },
       "removedWidgets": [],
       "schema": [
        {
         "metadata": "{}",
         "name": "path",
         "type": "\"string\""
        },
        {
         "metadata": "{}",
         "name": "name",
         "type": "\"string\""
        },
        {
         "metadata": "{}",
         "name": "size",
         "type": "\"long\""
        },
        {
         "metadata": "{}",
         "name": "modificationTime",
         "type": "\"long\""
        }
       ],
       "type": "table"
      }
     },
     "output_type": "display_data"
    }
   ],
   "source": [
    "%fs ls dbfs:/databricks-datasets/timeseries/Fires/\n"
   ]
  },
  {
   "cell_type": "code",
   "execution_count": 0,
   "metadata": {
    "application/vnd.databricks.v1+cell": {
     "cellMetadata": {
      "byteLimit": 2048000,
      "rowLimit": 10000
     },
     "inputWidgets": {},
     "nuid": "02b2fdaf-a52e-48da-93f0-c426015f22a0",
     "showTitle": false,
     "tableResultSettingsMap": {},
     "title": ""
    }
   },
   "outputs": [
    {
     "output_type": "display_data",
     "data": {
      "text/html": [
       "<style scoped>\n",
       "  .table-result-container {\n",
       "    max-height: 300px;\n",
       "    overflow: auto;\n",
       "  }\n",
       "  table, th, td {\n",
       "    border: 1px solid black;\n",
       "    border-collapse: collapse;\n",
       "  }\n",
       "  th, td {\n",
       "    padding: 5px;\n",
       "  }\n",
       "  th {\n",
       "    text-align: left;\n",
       "  }\n",
       "</style><div class='table-result-container'><table class='table-result'><thead style='background-color: white'><tr><th>Call Number</th><th>Unit ID</th><th>Incident Number</th><th>Call Type</th><th>Call Date</th><th>Watch Date</th><th>Received DtTm</th><th>Entry DtTm</th><th>Dispatch DtTm</th><th>Response DtTm</th><th>On Scene DtTm</th><th>Transport DtTm</th><th>Hospital DtTm</th><th>Call Final Disposition</th><th>Available DtTm</th><th>Address</th><th>City</th><th>Zipcode of Incident</th><th>Battalion</th><th>Station Area</th><th>Box</th><th>Original Priority</th><th>Priority</th><th>Final Priority</th><th>ALS Unit</th><th>Call Type Group</th><th>Number of Alarms</th><th>Unit Type</th><th>Unit sequence in call dispatch</th><th>Fire Prevention District</th><th>Supervisor District</th><th>Neighborhooods - Analysis Boundaries</th><th>Location</th><th>RowID</th></tr></thead><tbody><tr><td>192910017</td><td>E11</td><td>19125164</td><td>Alarms</td><td>2019-10-18</td><td>2019-10-17</td><td>10/18/2019 12:03:52 AM</td><td>10/18/2019 12:06:59 AM</td><td>10/18/2019 12:07:05 AM</td><td>10/18/2019 12:08:28 AM</td><td>10/18/2019 12:11:10 AM</td><td>null</td><td>null</td><td>Fire</td><td>10/18/2019 12:33:57 AM</td><td>24TH ST/VALENCIA ST</td><td>San Francisco</td><td>94110</td><td>B06</td><td>11</td><td>5525</td><td>3</td><td>3</td><td>3</td><td>true</td><td>Alarm</td><td>1</td><td>ENGINE</td><td>1</td><td>6</td><td>9</td><td>Mission</td><td>POINT (-122.42066480228367 37.75210364574824)</td><td>192910017-E11</td></tr><tr><td>192910018</td><td>B10</td><td>19125165</td><td>Alarms</td><td>2019-10-18</td><td>2019-10-17</td><td>10/18/2019 12:05:56 AM</td><td>10/18/2019 12:07:27 AM</td><td>10/18/2019 12:09:49 AM</td><td>null</td><td>null</td><td>null</td><td>null</td><td>Other</td><td>10/18/2019 12:10:14 AM</td><td>3300 Block of 23RD ST</td><td>San Francisco</td><td>94110</td><td>B06</td><td>11</td><td>0552</td><td>3</td><td>3</td><td>3</td><td>false</td><td>Alarm</td><td>1</td><td>CHIEF</td><td>1</td><td>6</td><td>9</td><td>Mission</td><td>POINT (-122.4202535645237 37.75368162954947)</td><td>192910018-B10</td></tr><tr><td>192910018</td><td>T07</td><td>19125165</td><td>Alarms</td><td>2019-10-18</td><td>2019-10-17</td><td>10/18/2019 12:05:56 AM</td><td>10/18/2019 12:07:27 AM</td><td>10/18/2019 12:09:49 AM</td><td>null</td><td>null</td><td>null</td><td>null</td><td>Other</td><td>10/18/2019 12:10:14 AM</td><td>3300 Block of 23RD ST</td><td>San Francisco</td><td>94110</td><td>B06</td><td>11</td><td>0552</td><td>3</td><td>3</td><td>3</td><td>false</td><td>Alarm</td><td>1</td><td>TRUCK</td><td>3</td><td>6</td><td>9</td><td>Mission</td><td>POINT (-122.4202535645237 37.75368162954947)</td><td>192910018-T07</td></tr><tr><td>192910025</td><td>B04</td><td>19125166</td><td>Alarms</td><td>2019-10-18</td><td>2019-10-17</td><td>10/18/2019 12:09:02 AM</td><td>10/18/2019 12:09:02 AM</td><td>10/18/2019 12:09:02 AM</td><td>10/18/2019 12:09:02 AM</td><td>10/18/2019 12:09:02 AM</td><td>null</td><td>null</td><td>Fire</td><td>10/18/2019 12:21:52 AM</td><td>3300 Block of FILLMORE ST</td><td>San Francisco</td><td>94123</td><td>B04</td><td>16</td><td>3554</td><td>3</td><td>3</td><td>3</td><td>false</td><td>Alarm</td><td>1</td><td>CHIEF</td><td>1</td><td>4</td><td>2</td><td>Marina</td><td>POINT (-122.43607739030332 37.80034056356869)</td><td>192910025-B04</td></tr><tr><td>192910034</td><td>E01</td><td>19125167</td><td>Structure Fire</td><td>2019-10-18</td><td>2019-10-17</td><td>10/18/2019 12:12:39 AM</td><td>10/18/2019 12:12:39 AM</td><td>10/18/2019 12:12:48 AM</td><td>10/18/2019 12:13:52 AM</td><td>10/18/2019 12:16:16 AM</td><td>null</td><td>null</td><td>Fire</td><td>10/18/2019 12:16:25 AM</td><td>7TH ST/MISSION ST</td><td>San Francisco</td><td>94103</td><td>B02</td><td>01</td><td>2315</td><td>3</td><td>3</td><td>3</td><td>true</td><td>Alarm</td><td>1</td><td>ENGINE</td><td>1</td><td>2</td><td>6</td><td>South of Market</td><td>POINT (-122.41093657380038 37.779211684542084)</td><td>192910034-E01</td></tr><tr><td>192910034</td><td>T01</td><td>19125167</td><td>Structure Fire</td><td>2019-10-18</td><td>2019-10-17</td><td>10/18/2019 12:12:39 AM</td><td>10/18/2019 12:12:39 AM</td><td>10/18/2019 12:12:48 AM</td><td>10/18/2019 12:14:28 AM</td><td>null</td><td>null</td><td>null</td><td>Fire</td><td>10/18/2019 12:16:18 AM</td><td>7TH ST/MISSION ST</td><td>San Francisco</td><td>94103</td><td>B02</td><td>01</td><td>2315</td><td>3</td><td>3</td><td>3</td><td>false</td><td>Alarm</td><td>1</td><td>TRUCK</td><td>2</td><td>2</td><td>6</td><td>South of Market</td><td>POINT (-122.41093657380038 37.779211684542084)</td><td>192910034-T01</td></tr><tr><td>192910039</td><td>76</td><td>19125168</td><td>Medical Incident</td><td>2019-10-18</td><td>2019-10-17</td><td>10/18/2019 12:14:32 AM</td><td>10/18/2019 12:14:32 AM</td><td>10/18/2019 12:15:10 AM</td><td>10/18/2019 12:15:25 AM</td><td>10/18/2019 12:32:14 AM</td><td>10/18/2019 12:56:35 AM</td><td>10/18/2019 01:15:56 AM</td><td>Code 2 Transport</td><td>10/18/2019 01:48:10 AM</td><td>1600 Block of MCKINNON AVE</td><td>San Francisco</td><td>94124</td><td>B10</td><td>17</td><td>6515</td><td>A</td><td>2</td><td>2</td><td>true</td><td>Non Life-threatening</td><td>1</td><td>MEDIC</td><td>1</td><td>10</td><td>10</td><td>Bayview Hunters Point</td><td>POINT (-122.38972310330021 37.73607882495912)</td><td>192910039-76</td></tr><tr><td>192910048</td><td>T08</td><td>19125169</td><td>Alarms</td><td>2019-10-18</td><td>2019-10-17</td><td>10/18/2019 12:20:25 AM</td><td>10/18/2019 12:21:44 AM</td><td>10/18/2019 12:21:51 AM</td><td>10/18/2019 12:24:30 AM</td><td>10/18/2019 12:26:44 AM</td><td>null</td><td>null</td><td>Fire</td><td>10/18/2019 12:40:41 AM</td><td>100 Block of BERRY ST</td><td>San Francisco</td><td>94158</td><td>B03</td><td>08</td><td>2171</td><td>3</td><td>3</td><td>3</td><td>false</td><td>Alarm</td><td>1</td><td>TRUCK</td><td>3</td><td>3</td><td>6</td><td>Mission Bay</td><td>POINT (-122.3921894505535 37.77663138541027)</td><td>192910048-T08</td></tr><tr><td>192910057</td><td>78</td><td>19125170</td><td>Medical Incident</td><td>2019-10-18</td><td>2019-10-17</td><td>10/18/2019 12:23:58 AM</td><td>10/18/2019 12:26:34 AM</td><td>10/18/2019 12:26:42 AM</td><td>10/18/2019 12:27:20 AM</td><td>10/18/2019 12:34:19 AM</td><td>10/18/2019 12:53:44 AM</td><td>10/18/2019 01:01:18 AM</td><td>Code 3 Transport</td><td>10/18/2019 01:52:13 AM</td><td>800 Block of FOERSTER ST</td><td>San Francisco</td><td>94127</td><td>B09</td><td>15</td><td>8247</td><td>3</td><td>3</td><td>3</td><td>true</td><td>Potentially Life-Threatening</td><td>1</td><td>MEDIC</td><td>2</td><td>9</td><td>7</td><td>West of Twin Peaks</td><td>POINT (-122.44882464734825 37.736080487699894)</td><td>192910057-78</td></tr><tr><td>192910057</td><td>E15</td><td>19125170</td><td>Medical Incident</td><td>2019-10-18</td><td>2019-10-17</td><td>10/18/2019 12:23:58 AM</td><td>10/18/2019 12:26:34 AM</td><td>10/18/2019 12:26:42 AM</td><td>10/18/2019 12:29:33 AM</td><td>10/18/2019 12:33:04 AM</td><td>null</td><td>null</td><td>Code 3 Transport</td><td>10/18/2019 01:17:49 AM</td><td>800 Block of FOERSTER ST</td><td>San Francisco</td><td>94127</td><td>B09</td><td>15</td><td>8247</td><td>3</td><td>3</td><td>3</td><td>true</td><td>Potentially Life-Threatening</td><td>1</td><td>ENGINE</td><td>1</td><td>9</td><td>7</td><td>West of Twin Peaks</td><td>POINT (-122.44882464734825 37.736080487699894)</td><td>192910057-E15</td></tr></tbody></table></div>"
      ]
     },
     "metadata": {
      "application/vnd.databricks.v1+output": {
       "addedWidgets": {},
       "aggData": [],
       "aggError": "",
       "aggOverflow": false,
       "aggSchema": [],
       "aggSeriesLimitReached": false,
       "aggType": "",
       "arguments": {},
       "columnCustomDisplayInfos": {},
       "data": [
        [
         192910017,
         "E11",
         19125164,
         "Alarms",
         "2019-10-18",
         "2019-10-17",
         "10/18/2019 12:03:52 AM",
         "10/18/2019 12:06:59 AM",
         "10/18/2019 12:07:05 AM",
         "10/18/2019 12:08:28 AM",
         "10/18/2019 12:11:10 AM",
         null,
         null,
         "Fire",
         "10/18/2019 12:33:57 AM",
         "24TH ST/VALENCIA ST",
         "San Francisco",
         94110,
         "B06",
         "11",
         "5525",
         "3",
         "3",
         3,
         true,
         "Alarm",
         1,
         "ENGINE",
         1,
         "6",
         "9",
         "Mission",
         "POINT (-122.42066480228367 37.75210364574824)",
         "192910017-E11"
        ],
        [
         192910018,
         "B10",
         19125165,
         "Alarms",
         "2019-10-18",
         "2019-10-17",
         "10/18/2019 12:05:56 AM",
         "10/18/2019 12:07:27 AM",
         "10/18/2019 12:09:49 AM",
         null,
         null,
         null,
         null,
         "Other",
         "10/18/2019 12:10:14 AM",
         "3300 Block of 23RD ST",
         "San Francisco",
         94110,
         "B06",
         "11",
         "0552",
         "3",
         "3",
         3,
         false,
         "Alarm",
         1,
         "CHIEF",
         1,
         "6",
         "9",
         "Mission",
         "POINT (-122.4202535645237 37.75368162954947)",
         "192910018-B10"
        ],
        [
         192910018,
         "T07",
         19125165,
         "Alarms",
         "2019-10-18",
         "2019-10-17",
         "10/18/2019 12:05:56 AM",
         "10/18/2019 12:07:27 AM",
         "10/18/2019 12:09:49 AM",
         null,
         null,
         null,
         null,
         "Other",
         "10/18/2019 12:10:14 AM",
         "3300 Block of 23RD ST",
         "San Francisco",
         94110,
         "B06",
         "11",
         "0552",
         "3",
         "3",
         3,
         false,
         "Alarm",
         1,
         "TRUCK",
         3,
         "6",
         "9",
         "Mission",
         "POINT (-122.4202535645237 37.75368162954947)",
         "192910018-T07"
        ],
        [
         192910025,
         "B04",
         19125166,
         "Alarms",
         "2019-10-18",
         "2019-10-17",
         "10/18/2019 12:09:02 AM",
         "10/18/2019 12:09:02 AM",
         "10/18/2019 12:09:02 AM",
         "10/18/2019 12:09:02 AM",
         "10/18/2019 12:09:02 AM",
         null,
         null,
         "Fire",
         "10/18/2019 12:21:52 AM",
         "3300 Block of FILLMORE ST",
         "San Francisco",
         94123,
         "B04",
         "16",
         "3554",
         "3",
         "3",
         3,
         false,
         "Alarm",
         1,
         "CHIEF",
         1,
         "4",
         "2",
         "Marina",
         "POINT (-122.43607739030332 37.80034056356869)",
         "192910025-B04"
        ],
        [
         192910034,
         "E01",
         19125167,
         "Structure Fire",
         "2019-10-18",
         "2019-10-17",
         "10/18/2019 12:12:39 AM",
         "10/18/2019 12:12:39 AM",
         "10/18/2019 12:12:48 AM",
         "10/18/2019 12:13:52 AM",
         "10/18/2019 12:16:16 AM",
         null,
         null,
         "Fire",
         "10/18/2019 12:16:25 AM",
         "7TH ST/MISSION ST",
         "San Francisco",
         94103,
         "B02",
         "01",
         "2315",
         "3",
         "3",
         3,
         true,
         "Alarm",
         1,
         "ENGINE",
         1,
         "2",
         "6",
         "South of Market",
         "POINT (-122.41093657380038 37.779211684542084)",
         "192910034-E01"
        ],
        [
         192910034,
         "T01",
         19125167,
         "Structure Fire",
         "2019-10-18",
         "2019-10-17",
         "10/18/2019 12:12:39 AM",
         "10/18/2019 12:12:39 AM",
         "10/18/2019 12:12:48 AM",
         "10/18/2019 12:14:28 AM",
         null,
         null,
         null,
         "Fire",
         "10/18/2019 12:16:18 AM",
         "7TH ST/MISSION ST",
         "San Francisco",
         94103,
         "B02",
         "01",
         "2315",
         "3",
         "3",
         3,
         false,
         "Alarm",
         1,
         "TRUCK",
         2,
         "2",
         "6",
         "South of Market",
         "POINT (-122.41093657380038 37.779211684542084)",
         "192910034-T01"
        ],
        [
         192910039,
         "76",
         19125168,
         "Medical Incident",
         "2019-10-18",
         "2019-10-17",
         "10/18/2019 12:14:32 AM",
         "10/18/2019 12:14:32 AM",
         "10/18/2019 12:15:10 AM",
         "10/18/2019 12:15:25 AM",
         "10/18/2019 12:32:14 AM",
         "10/18/2019 12:56:35 AM",
         "10/18/2019 01:15:56 AM",
         "Code 2 Transport",
         "10/18/2019 01:48:10 AM",
         "1600 Block of MCKINNON AVE",
         "San Francisco",
         94124,
         "B10",
         "17",
         "6515",
         "A",
         "2",
         2,
         true,
         "Non Life-threatening",
         1,
         "MEDIC",
         1,
         "10",
         "10",
         "Bayview Hunters Point",
         "POINT (-122.38972310330021 37.73607882495912)",
         "192910039-76"
        ],
        [
         192910048,
         "T08",
         19125169,
         "Alarms",
         "2019-10-18",
         "2019-10-17",
         "10/18/2019 12:20:25 AM",
         "10/18/2019 12:21:44 AM",
         "10/18/2019 12:21:51 AM",
         "10/18/2019 12:24:30 AM",
         "10/18/2019 12:26:44 AM",
         null,
         null,
         "Fire",
         "10/18/2019 12:40:41 AM",
         "100 Block of BERRY ST",
         "San Francisco",
         94158,
         "B03",
         "08",
         "2171",
         "3",
         "3",
         3,
         false,
         "Alarm",
         1,
         "TRUCK",
         3,
         "3",
         "6",
         "Mission Bay",
         "POINT (-122.3921894505535 37.77663138541027)",
         "192910048-T08"
        ],
        [
         192910057,
         "78",
         19125170,
         "Medical Incident",
         "2019-10-18",
         "2019-10-17",
         "10/18/2019 12:23:58 AM",
         "10/18/2019 12:26:34 AM",
         "10/18/2019 12:26:42 AM",
         "10/18/2019 12:27:20 AM",
         "10/18/2019 12:34:19 AM",
         "10/18/2019 12:53:44 AM",
         "10/18/2019 01:01:18 AM",
         "Code 3 Transport",
         "10/18/2019 01:52:13 AM",
         "800 Block of FOERSTER ST",
         "San Francisco",
         94127,
         "B09",
         "15",
         "8247",
         "3",
         "3",
         3,
         true,
         "Potentially Life-Threatening",
         1,
         "MEDIC",
         2,
         "9",
         "7",
         "West of Twin Peaks",
         "POINT (-122.44882464734825 37.736080487699894)",
         "192910057-78"
        ],
        [
         192910057,
         "E15",
         19125170,
         "Medical Incident",
         "2019-10-18",
         "2019-10-17",
         "10/18/2019 12:23:58 AM",
         "10/18/2019 12:26:34 AM",
         "10/18/2019 12:26:42 AM",
         "10/18/2019 12:29:33 AM",
         "10/18/2019 12:33:04 AM",
         null,
         null,
         "Code 3 Transport",
         "10/18/2019 01:17:49 AM",
         "800 Block of FOERSTER ST",
         "San Francisco",
         94127,
         "B09",
         "15",
         "8247",
         "3",
         "3",
         3,
         true,
         "Potentially Life-Threatening",
         1,
         "ENGINE",
         1,
         "9",
         "7",
         "West of Twin Peaks",
         "POINT (-122.44882464734825 37.736080487699894)",
         "192910057-E15"
        ]
       ],
       "datasetInfos": [],
       "dbfsResultPath": null,
       "isJsonSchema": true,
       "metadata": {},
       "overflow": false,
       "plotOptions": {
        "customPlotOptions": {},
        "displayType": "table",
        "pivotAggregation": null,
        "pivotColumns": null,
        "xColumns": null,
        "yColumns": null
       },
       "removedWidgets": [],
       "schema": [
        {
         "metadata": "{}",
         "name": "Call Number",
         "type": "\"long\""
        },
        {
         "metadata": "{}",
         "name": "Unit ID",
         "type": "\"string\""
        },
        {
         "metadata": "{}",
         "name": "Incident Number",
         "type": "\"long\""
        },
        {
         "metadata": "{}",
         "name": "Call Type",
         "type": "\"string\""
        },
        {
         "metadata": "{}",
         "name": "Call Date",
         "type": "\"date\""
        },
        {
         "metadata": "{}",
         "name": "Watch Date",
         "type": "\"date\""
        },
        {
         "metadata": "{}",
         "name": "Received DtTm",
         "type": "\"string\""
        },
        {
         "metadata": "{}",
         "name": "Entry DtTm",
         "type": "\"string\""
        },
        {
         "metadata": "{}",
         "name": "Dispatch DtTm",
         "type": "\"string\""
        },
        {
         "metadata": "{}",
         "name": "Response DtTm",
         "type": "\"string\""
        },
        {
         "metadata": "{}",
         "name": "On Scene DtTm",
         "type": "\"string\""
        },
        {
         "metadata": "{}",
         "name": "Transport DtTm",
         "type": "\"string\""
        },
        {
         "metadata": "{}",
         "name": "Hospital DtTm",
         "type": "\"string\""
        },
        {
         "metadata": "{}",
         "name": "Call Final Disposition",
         "type": "\"string\""
        },
        {
         "metadata": "{}",
         "name": "Available DtTm",
         "type": "\"string\""
        },
        {
         "metadata": "{}",
         "name": "Address",
         "type": "\"string\""
        },
        {
         "metadata": "{}",
         "name": "City",
         "type": "\"string\""
        },
        {
         "metadata": "{}",
         "name": "Zipcode of Incident",
         "type": "\"long\""
        },
        {
         "metadata": "{}",
         "name": "Battalion",
         "type": "\"string\""
        },
        {
         "metadata": "{}",
         "name": "Station Area",
         "type": "\"string\""
        },
        {
         "metadata": "{}",
         "name": "Box",
         "type": "\"string\""
        },
        {
         "metadata": "{}",
         "name": "Original Priority",
         "type": "\"string\""
        },
        {
         "metadata": "{}",
         "name": "Priority",
         "type": "\"string\""
        },
        {
         "metadata": "{}",
         "name": "Final Priority",
         "type": "\"long\""
        },
        {
         "metadata": "{}",
         "name": "ALS Unit",
         "type": "\"boolean\""
        },
        {
         "metadata": "{}",
         "name": "Call Type Group",
         "type": "\"string\""
        },
        {
         "metadata": "{}",
         "name": "Number of Alarms",
         "type": "\"long\""
        },
        {
         "metadata": "{}",
         "name": "Unit Type",
         "type": "\"string\""
        },
        {
         "metadata": "{}",
         "name": "Unit sequence in call dispatch",
         "type": "\"long\""
        },
        {
         "metadata": "{}",
         "name": "Fire Prevention District",
         "type": "\"string\""
        },
        {
         "metadata": "{}",
         "name": "Supervisor District",
         "type": "\"string\""
        },
        {
         "metadata": "{}",
         "name": "Neighborhooods - Analysis Boundaries",
         "type": "\"string\""
        },
        {
         "metadata": "{}",
         "name": "Location",
         "type": "\"string\""
        },
        {
         "metadata": "{}",
         "name": "RowID",
         "type": "\"string\""
        }
       ],
       "type": "table"
      }
     },
     "output_type": "display_data"
    },
    {
     "output_type": "stream",
     "name": "stdout",
     "output_type": "stream",
     "text": [
      "root\n |-- Call Number: integer (nullable = true)\n |-- Unit ID: string (nullable = true)\n |-- Incident Number: integer (nullable = true)\n |-- Call Type: string (nullable = true)\n |-- Call Date: date (nullable = true)\n |-- Watch Date: date (nullable = true)\n |-- Received DtTm: string (nullable = true)\n |-- Entry DtTm: string (nullable = true)\n |-- Dispatch DtTm: string (nullable = true)\n |-- Response DtTm: string (nullable = true)\n |-- On Scene DtTm: string (nullable = true)\n |-- Transport DtTm: string (nullable = true)\n |-- Hospital DtTm: string (nullable = true)\n |-- Call Final Disposition: string (nullable = true)\n |-- Available DtTm: string (nullable = true)\n |-- Address: string (nullable = true)\n |-- City: string (nullable = true)\n |-- Zipcode of Incident: integer (nullable = true)\n |-- Battalion: string (nullable = true)\n |-- Station Area: string (nullable = true)\n |-- Box: string (nullable = true)\n |-- Original Priority: string (nullable = true)\n |-- Priority: string (nullable = true)\n |-- Final Priority: integer (nullable = true)\n |-- ALS Unit: boolean (nullable = true)\n |-- Call Type Group: string (nullable = true)\n |-- Number of Alarms: integer (nullable = true)\n |-- Unit Type: string (nullable = true)\n |-- Unit sequence in call dispatch: integer (nullable = true)\n |-- Fire Prevention District: string (nullable = true)\n |-- Supervisor District: string (nullable = true)\n |-- Neighborhooods - Analysis Boundaries: string (nullable = true)\n |-- Location: string (nullable = true)\n |-- RowID: string (nullable = true)\n\n"
     ]
    }
   ],
   "source": [
    "df  = spark.read.csv('dbfs:/databricks-datasets/timeseries/Fires/Fire_Department_Calls_for_Service.csv', header=True, inferSchema=True)\n",
    "display(df.take(10))\n",
    "df.printSchema()"
   ]
  },
  {
   "cell_type": "markdown",
   "metadata": {
    "application/vnd.databricks.v1+cell": {
     "cellMetadata": {},
     "inputWidgets": {},
     "nuid": "a4199fdb-2ec2-4d05-af8d-f10b5777d4dd",
     "showTitle": false,
     "tableResultSettingsMap": {},
     "title": ""
    }
   },
   "source": [
    "Run SQL on files directly. below is the example for csv "
   ]
  },
  {
   "cell_type": "code",
   "execution_count": 0,
   "metadata": {
    "application/vnd.databricks.v1+cell": {
     "cellMetadata": {
      "byteLimit": 2048000,
      "rowLimit": 10000
     },
     "inputWidgets": {},
     "nuid": "96bbc6b3-74ff-40c7-8a80-2d82e9d5f17f",
     "showTitle": false,
     "tableResultSettingsMap": {},
     "title": ""
    }
   },
   "outputs": [
    {
     "output_type": "display_data",
     "data": {
      "text/html": [
       "<style scoped>\n",
       "  .table-result-container {\n",
       "    max-height: 300px;\n",
       "    overflow: auto;\n",
       "  }\n",
       "  table, th, td {\n",
       "    border: 1px solid black;\n",
       "    border-collapse: collapse;\n",
       "  }\n",
       "  th, td {\n",
       "    padding: 5px;\n",
       "  }\n",
       "  th {\n",
       "    text-align: left;\n",
       "  }\n",
       "</style><div class='table-result-container'><table class='table-result'><thead style='background-color: white'><tr><th>_c0</th><th>_c1</th><th>_c2</th><th>_c3</th><th>_c4</th><th>_c5</th><th>_c6</th><th>_c7</th><th>_c8</th><th>_c9</th><th>_c10</th><th>_c11</th><th>_c12</th><th>_c13</th><th>_c14</th><th>_c15</th><th>_c16</th><th>_c17</th><th>_c18</th><th>_c19</th><th>_c20</th><th>_c21</th><th>_c22</th><th>_c23</th><th>_c24</th><th>_c25</th><th>_c26</th><th>_c27</th><th>_c28</th><th>_c29</th><th>_c30</th><th>_c31</th><th>_c32</th><th>_c33</th></tr></thead><tbody><tr><td>Call Number</td><td>Unit ID</td><td>Incident Number</td><td>Call Type</td><td>Call Date</td><td>Watch Date</td><td>Received DtTm</td><td>Entry DtTm</td><td>Dispatch DtTm</td><td>Response DtTm</td><td>On Scene DtTm</td><td>Transport DtTm</td><td>Hospital DtTm</td><td>Call Final Disposition</td><td>Available DtTm</td><td>Address</td><td>City</td><td>Zipcode of Incident</td><td>Battalion</td><td>Station Area</td><td>Box</td><td>Original Priority</td><td>Priority</td><td>Final Priority</td><td>ALS Unit</td><td>Call Type Group</td><td>Number of Alarms</td><td>Unit Type</td><td>Unit sequence in call dispatch</td><td>Fire Prevention District</td><td>Supervisor District</td><td>Neighborhooods - Analysis Boundaries</td><td>Location</td><td>RowID</td></tr><tr><td>192910017</td><td>E11</td><td>19125164</td><td>Alarms</td><td>10/18/2019</td><td>10/17/2019</td><td>10/18/2019 12:03:52 AM</td><td>10/18/2019 12:06:59 AM</td><td>10/18/2019 12:07:05 AM</td><td>10/18/2019 12:08:28 AM</td><td>10/18/2019 12:11:10 AM</td><td>null</td><td>null</td><td>Fire</td><td>10/18/2019 12:33:57 AM</td><td>24TH ST/VALENCIA ST</td><td>San Francisco</td><td>94110</td><td>B06</td><td>11</td><td>5525</td><td>3</td><td>3</td><td>3</td><td>true</td><td>Alarm</td><td>1</td><td>ENGINE</td><td>1</td><td>6</td><td>9</td><td>Mission</td><td>POINT (-122.42066480228367 37.75210364574824)</td><td>192910017-E11</td></tr><tr><td>192910018</td><td>B10</td><td>19125165</td><td>Alarms</td><td>10/18/2019</td><td>10/17/2019</td><td>10/18/2019 12:05:56 AM</td><td>10/18/2019 12:07:27 AM</td><td>10/18/2019 12:09:49 AM</td><td>null</td><td>null</td><td>null</td><td>null</td><td>Other</td><td>10/18/2019 12:10:14 AM</td><td>3300 Block of 23RD ST</td><td>San Francisco</td><td>94110</td><td>B06</td><td>11</td><td>0552</td><td>3</td><td>3</td><td>3</td><td>false</td><td>Alarm</td><td>1</td><td>CHIEF</td><td>1</td><td>6</td><td>9</td><td>Mission</td><td>POINT (-122.4202535645237 37.75368162954947)</td><td>192910018-B10</td></tr><tr><td>192910018</td><td>T07</td><td>19125165</td><td>Alarms</td><td>10/18/2019</td><td>10/17/2019</td><td>10/18/2019 12:05:56 AM</td><td>10/18/2019 12:07:27 AM</td><td>10/18/2019 12:09:49 AM</td><td>null</td><td>null</td><td>null</td><td>null</td><td>Other</td><td>10/18/2019 12:10:14 AM</td><td>3300 Block of 23RD ST</td><td>San Francisco</td><td>94110</td><td>B06</td><td>11</td><td>0552</td><td>3</td><td>3</td><td>3</td><td>false</td><td>Alarm</td><td>1</td><td>TRUCK</td><td>3</td><td>6</td><td>9</td><td>Mission</td><td>POINT (-122.4202535645237 37.75368162954947)</td><td>192910018-T07</td></tr><tr><td>192910025</td><td>B04</td><td>19125166</td><td>Alarms</td><td>10/18/2019</td><td>10/17/2019</td><td>10/18/2019 12:09:02 AM</td><td>10/18/2019 12:09:02 AM</td><td>10/18/2019 12:09:02 AM</td><td>10/18/2019 12:09:02 AM</td><td>10/18/2019 12:09:02 AM</td><td>null</td><td>null</td><td>Fire</td><td>10/18/2019 12:21:52 AM</td><td>3300 Block of FILLMORE ST</td><td>San Francisco</td><td>94123</td><td>B04</td><td>16</td><td>3554</td><td>3</td><td>3</td><td>3</td><td>false</td><td>Alarm</td><td>1</td><td>CHIEF</td><td>1</td><td>4</td><td>2</td><td>Marina</td><td>POINT (-122.43607739030332 37.80034056356869)</td><td>192910025-B04</td></tr><tr><td>192910034</td><td>E01</td><td>19125167</td><td>Structure Fire</td><td>10/18/2019</td><td>10/17/2019</td><td>10/18/2019 12:12:39 AM</td><td>10/18/2019 12:12:39 AM</td><td>10/18/2019 12:12:48 AM</td><td>10/18/2019 12:13:52 AM</td><td>10/18/2019 12:16:16 AM</td><td>null</td><td>null</td><td>Fire</td><td>10/18/2019 12:16:25 AM</td><td>7TH ST/MISSION ST</td><td>San Francisco</td><td>94103</td><td>B02</td><td>01</td><td>2315</td><td>3</td><td>3</td><td>3</td><td>true</td><td>Alarm</td><td>1</td><td>ENGINE</td><td>1</td><td>2</td><td>6</td><td>South of Market</td><td>POINT (-122.41093657380038 37.779211684542084)</td><td>192910034-E01</td></tr><tr><td>192910034</td><td>T01</td><td>19125167</td><td>Structure Fire</td><td>10/18/2019</td><td>10/17/2019</td><td>10/18/2019 12:12:39 AM</td><td>10/18/2019 12:12:39 AM</td><td>10/18/2019 12:12:48 AM</td><td>10/18/2019 12:14:28 AM</td><td>null</td><td>null</td><td>null</td><td>Fire</td><td>10/18/2019 12:16:18 AM</td><td>7TH ST/MISSION ST</td><td>San Francisco</td><td>94103</td><td>B02</td><td>01</td><td>2315</td><td>3</td><td>3</td><td>3</td><td>false</td><td>Alarm</td><td>1</td><td>TRUCK</td><td>2</td><td>2</td><td>6</td><td>South of Market</td><td>POINT (-122.41093657380038 37.779211684542084)</td><td>192910034-T01</td></tr><tr><td>192910039</td><td>76</td><td>19125168</td><td>Medical Incident</td><td>10/18/2019</td><td>10/17/2019</td><td>10/18/2019 12:14:32 AM</td><td>10/18/2019 12:14:32 AM</td><td>10/18/2019 12:15:10 AM</td><td>10/18/2019 12:15:25 AM</td><td>10/18/2019 12:32:14 AM</td><td>10/18/2019 12:56:35 AM</td><td>10/18/2019 01:15:56 AM</td><td>Code 2 Transport</td><td>10/18/2019 01:48:10 AM</td><td>1600 Block of MCKINNON AVE</td><td>San Francisco</td><td>94124</td><td>B10</td><td>17</td><td>6515</td><td>A</td><td>2</td><td>2</td><td>true</td><td>Non Life-threatening</td><td>1</td><td>MEDIC</td><td>1</td><td>10</td><td>10</td><td>Bayview Hunters Point</td><td>POINT (-122.38972310330021 37.73607882495912)</td><td>192910039-76</td></tr><tr><td>192910048</td><td>T08</td><td>19125169</td><td>Alarms</td><td>10/18/2019</td><td>10/17/2019</td><td>10/18/2019 12:20:25 AM</td><td>10/18/2019 12:21:44 AM</td><td>10/18/2019 12:21:51 AM</td><td>10/18/2019 12:24:30 AM</td><td>10/18/2019 12:26:44 AM</td><td>null</td><td>null</td><td>Fire</td><td>10/18/2019 12:40:41 AM</td><td>100 Block of BERRY ST</td><td>San Francisco</td><td>94158</td><td>B03</td><td>08</td><td>2171</td><td>3</td><td>3</td><td>3</td><td>false</td><td>Alarm</td><td>1</td><td>TRUCK</td><td>3</td><td>3</td><td>6</td><td>Mission Bay</td><td>POINT (-122.3921894505535 37.77663138541027)</td><td>192910048-T08</td></tr><tr><td>192910057</td><td>78</td><td>19125170</td><td>Medical Incident</td><td>10/18/2019</td><td>10/17/2019</td><td>10/18/2019 12:23:58 AM</td><td>10/18/2019 12:26:34 AM</td><td>10/18/2019 12:26:42 AM</td><td>10/18/2019 12:27:20 AM</td><td>10/18/2019 12:34:19 AM</td><td>10/18/2019 12:53:44 AM</td><td>10/18/2019 01:01:18 AM</td><td>Code 3 Transport</td><td>10/18/2019 01:52:13 AM</td><td>800 Block of FOERSTER ST</td><td>San Francisco</td><td>94127</td><td>B09</td><td>15</td><td>8247</td><td>3</td><td>3</td><td>3</td><td>true</td><td>Potentially Life-Threatening</td><td>1</td><td>MEDIC</td><td>2</td><td>9</td><td>7</td><td>West of Twin Peaks</td><td>POINT (-122.44882464734825 37.736080487699894)</td><td>192910057-78</td></tr></tbody></table></div>"
      ]
     },
     "metadata": {
      "application/vnd.databricks.v1+output": {
       "addedWidgets": {},
       "aggData": [],
       "aggError": "",
       "aggOverflow": false,
       "aggSchema": [],
       "aggSeriesLimitReached": false,
       "aggType": "",
       "arguments": {},
       "columnCustomDisplayInfos": {},
       "data": [
        [
         "Call Number",
         "Unit ID",
         "Incident Number",
         "Call Type",
         "Call Date",
         "Watch Date",
         "Received DtTm",
         "Entry DtTm",
         "Dispatch DtTm",
         "Response DtTm",
         "On Scene DtTm",
         "Transport DtTm",
         "Hospital DtTm",
         "Call Final Disposition",
         "Available DtTm",
         "Address",
         "City",
         "Zipcode of Incident",
         "Battalion",
         "Station Area",
         "Box",
         "Original Priority",
         "Priority",
         "Final Priority",
         "ALS Unit",
         "Call Type Group",
         "Number of Alarms",
         "Unit Type",
         "Unit sequence in call dispatch",
         "Fire Prevention District",
         "Supervisor District",
         "Neighborhooods - Analysis Boundaries",
         "Location",
         "RowID"
        ],
        [
         "192910017",
         "E11",
         "19125164",
         "Alarms",
         "10/18/2019",
         "10/17/2019",
         "10/18/2019 12:03:52 AM",
         "10/18/2019 12:06:59 AM",
         "10/18/2019 12:07:05 AM",
         "10/18/2019 12:08:28 AM",
         "10/18/2019 12:11:10 AM",
         null,
         null,
         "Fire",
         "10/18/2019 12:33:57 AM",
         "24TH ST/VALENCIA ST",
         "San Francisco",
         "94110",
         "B06",
         "11",
         "5525",
         "3",
         "3",
         "3",
         "true",
         "Alarm",
         "1",
         "ENGINE",
         "1",
         "6",
         "9",
         "Mission",
         "POINT (-122.42066480228367 37.75210364574824)",
         "192910017-E11"
        ],
        [
         "192910018",
         "B10",
         "19125165",
         "Alarms",
         "10/18/2019",
         "10/17/2019",
         "10/18/2019 12:05:56 AM",
         "10/18/2019 12:07:27 AM",
         "10/18/2019 12:09:49 AM",
         null,
         null,
         null,
         null,
         "Other",
         "10/18/2019 12:10:14 AM",
         "3300 Block of 23RD ST",
         "San Francisco",
         "94110",
         "B06",
         "11",
         "0552",
         "3",
         "3",
         "3",
         "false",
         "Alarm",
         "1",
         "CHIEF",
         "1",
         "6",
         "9",
         "Mission",
         "POINT (-122.4202535645237 37.75368162954947)",
         "192910018-B10"
        ],
        [
         "192910018",
         "T07",
         "19125165",
         "Alarms",
         "10/18/2019",
         "10/17/2019",
         "10/18/2019 12:05:56 AM",
         "10/18/2019 12:07:27 AM",
         "10/18/2019 12:09:49 AM",
         null,
         null,
         null,
         null,
         "Other",
         "10/18/2019 12:10:14 AM",
         "3300 Block of 23RD ST",
         "San Francisco",
         "94110",
         "B06",
         "11",
         "0552",
         "3",
         "3",
         "3",
         "false",
         "Alarm",
         "1",
         "TRUCK",
         "3",
         "6",
         "9",
         "Mission",
         "POINT (-122.4202535645237 37.75368162954947)",
         "192910018-T07"
        ],
        [
         "192910025",
         "B04",
         "19125166",
         "Alarms",
         "10/18/2019",
         "10/17/2019",
         "10/18/2019 12:09:02 AM",
         "10/18/2019 12:09:02 AM",
         "10/18/2019 12:09:02 AM",
         "10/18/2019 12:09:02 AM",
         "10/18/2019 12:09:02 AM",
         null,
         null,
         "Fire",
         "10/18/2019 12:21:52 AM",
         "3300 Block of FILLMORE ST",
         "San Francisco",
         "94123",
         "B04",
         "16",
         "3554",
         "3",
         "3",
         "3",
         "false",
         "Alarm",
         "1",
         "CHIEF",
         "1",
         "4",
         "2",
         "Marina",
         "POINT (-122.43607739030332 37.80034056356869)",
         "192910025-B04"
        ],
        [
         "192910034",
         "E01",
         "19125167",
         "Structure Fire",
         "10/18/2019",
         "10/17/2019",
         "10/18/2019 12:12:39 AM",
         "10/18/2019 12:12:39 AM",
         "10/18/2019 12:12:48 AM",
         "10/18/2019 12:13:52 AM",
         "10/18/2019 12:16:16 AM",
         null,
         null,
         "Fire",
         "10/18/2019 12:16:25 AM",
         "7TH ST/MISSION ST",
         "San Francisco",
         "94103",
         "B02",
         "01",
         "2315",
         "3",
         "3",
         "3",
         "true",
         "Alarm",
         "1",
         "ENGINE",
         "1",
         "2",
         "6",
         "South of Market",
         "POINT (-122.41093657380038 37.779211684542084)",
         "192910034-E01"
        ],
        [
         "192910034",
         "T01",
         "19125167",
         "Structure Fire",
         "10/18/2019",
         "10/17/2019",
         "10/18/2019 12:12:39 AM",
         "10/18/2019 12:12:39 AM",
         "10/18/2019 12:12:48 AM",
         "10/18/2019 12:14:28 AM",
         null,
         null,
         null,
         "Fire",
         "10/18/2019 12:16:18 AM",
         "7TH ST/MISSION ST",
         "San Francisco",
         "94103",
         "B02",
         "01",
         "2315",
         "3",
         "3",
         "3",
         "false",
         "Alarm",
         "1",
         "TRUCK",
         "2",
         "2",
         "6",
         "South of Market",
         "POINT (-122.41093657380038 37.779211684542084)",
         "192910034-T01"
        ],
        [
         "192910039",
         "76",
         "19125168",
         "Medical Incident",
         "10/18/2019",
         "10/17/2019",
         "10/18/2019 12:14:32 AM",
         "10/18/2019 12:14:32 AM",
         "10/18/2019 12:15:10 AM",
         "10/18/2019 12:15:25 AM",
         "10/18/2019 12:32:14 AM",
         "10/18/2019 12:56:35 AM",
         "10/18/2019 01:15:56 AM",
         "Code 2 Transport",
         "10/18/2019 01:48:10 AM",
         "1600 Block of MCKINNON AVE",
         "San Francisco",
         "94124",
         "B10",
         "17",
         "6515",
         "A",
         "2",
         "2",
         "true",
         "Non Life-threatening",
         "1",
         "MEDIC",
         "1",
         "10",
         "10",
         "Bayview Hunters Point",
         "POINT (-122.38972310330021 37.73607882495912)",
         "192910039-76"
        ],
        [
         "192910048",
         "T08",
         "19125169",
         "Alarms",
         "10/18/2019",
         "10/17/2019",
         "10/18/2019 12:20:25 AM",
         "10/18/2019 12:21:44 AM",
         "10/18/2019 12:21:51 AM",
         "10/18/2019 12:24:30 AM",
         "10/18/2019 12:26:44 AM",
         null,
         null,
         "Fire",
         "10/18/2019 12:40:41 AM",
         "100 Block of BERRY ST",
         "San Francisco",
         "94158",
         "B03",
         "08",
         "2171",
         "3",
         "3",
         "3",
         "false",
         "Alarm",
         "1",
         "TRUCK",
         "3",
         "3",
         "6",
         "Mission Bay",
         "POINT (-122.3921894505535 37.77663138541027)",
         "192910048-T08"
        ],
        [
         "192910057",
         "78",
         "19125170",
         "Medical Incident",
         "10/18/2019",
         "10/17/2019",
         "10/18/2019 12:23:58 AM",
         "10/18/2019 12:26:34 AM",
         "10/18/2019 12:26:42 AM",
         "10/18/2019 12:27:20 AM",
         "10/18/2019 12:34:19 AM",
         "10/18/2019 12:53:44 AM",
         "10/18/2019 01:01:18 AM",
         "Code 3 Transport",
         "10/18/2019 01:52:13 AM",
         "800 Block of FOERSTER ST",
         "San Francisco",
         "94127",
         "B09",
         "15",
         "8247",
         "3",
         "3",
         "3",
         "true",
         "Potentially Life-Threatening",
         "1",
         "MEDIC",
         "2",
         "9",
         "7",
         "West of Twin Peaks",
         "POINT (-122.44882464734825 37.736080487699894)",
         "192910057-78"
        ]
       ],
       "datasetInfos": [],
       "dbfsResultPath": null,
       "isJsonSchema": true,
       "metadata": {},
       "overflow": false,
       "plotOptions": {
        "customPlotOptions": {},
        "displayType": "table",
        "pivotAggregation": null,
        "pivotColumns": null,
        "xColumns": null,
        "yColumns": null
       },
       "removedWidgets": [],
       "schema": [
        {
         "metadata": "{}",
         "name": "_c0",
         "type": "\"string\""
        },
        {
         "metadata": "{}",
         "name": "_c1",
         "type": "\"string\""
        },
        {
         "metadata": "{}",
         "name": "_c2",
         "type": "\"string\""
        },
        {
         "metadata": "{}",
         "name": "_c3",
         "type": "\"string\""
        },
        {
         "metadata": "{}",
         "name": "_c4",
         "type": "\"string\""
        },
        {
         "metadata": "{}",
         "name": "_c5",
         "type": "\"string\""
        },
        {
         "metadata": "{}",
         "name": "_c6",
         "type": "\"string\""
        },
        {
         "metadata": "{}",
         "name": "_c7",
         "type": "\"string\""
        },
        {
         "metadata": "{}",
         "name": "_c8",
         "type": "\"string\""
        },
        {
         "metadata": "{}",
         "name": "_c9",
         "type": "\"string\""
        },
        {
         "metadata": "{}",
         "name": "_c10",
         "type": "\"string\""
        },
        {
         "metadata": "{}",
         "name": "_c11",
         "type": "\"string\""
        },
        {
         "metadata": "{}",
         "name": "_c12",
         "type": "\"string\""
        },
        {
         "metadata": "{}",
         "name": "_c13",
         "type": "\"string\""
        },
        {
         "metadata": "{}",
         "name": "_c14",
         "type": "\"string\""
        },
        {
         "metadata": "{}",
         "name": "_c15",
         "type": "\"string\""
        },
        {
         "metadata": "{}",
         "name": "_c16",
         "type": "\"string\""
        },
        {
         "metadata": "{}",
         "name": "_c17",
         "type": "\"string\""
        },
        {
         "metadata": "{}",
         "name": "_c18",
         "type": "\"string\""
        },
        {
         "metadata": "{}",
         "name": "_c19",
         "type": "\"string\""
        },
        {
         "metadata": "{}",
         "name": "_c20",
         "type": "\"string\""
        },
        {
         "metadata": "{}",
         "name": "_c21",
         "type": "\"string\""
        },
        {
         "metadata": "{}",
         "name": "_c22",
         "type": "\"string\""
        },
        {
         "metadata": "{}",
         "name": "_c23",
         "type": "\"string\""
        },
        {
         "metadata": "{}",
         "name": "_c24",
         "type": "\"string\""
        },
        {
         "metadata": "{}",
         "name": "_c25",
         "type": "\"string\""
        },
        {
         "metadata": "{}",
         "name": "_c26",
         "type": "\"string\""
        },
        {
         "metadata": "{}",
         "name": "_c27",
         "type": "\"string\""
        },
        {
         "metadata": "{}",
         "name": "_c28",
         "type": "\"string\""
        },
        {
         "metadata": "{}",
         "name": "_c29",
         "type": "\"string\""
        },
        {
         "metadata": "{}",
         "name": "_c30",
         "type": "\"string\""
        },
        {
         "metadata": "{}",
         "name": "_c31",
         "type": "\"string\""
        },
        {
         "metadata": "{}",
         "name": "_c32",
         "type": "\"string\""
        },
        {
         "metadata": "{}",
         "name": "_c33",
         "type": "\"string\""
        }
       ],
       "type": "table"
      }
     },
     "output_type": "display_data"
    },
    {
     "output_type": "stream",
     "name": "stdout",
     "output_type": "stream",
     "text": [
      "root\n |-- _c0: string (nullable = true)\n |-- _c1: string (nullable = true)\n |-- _c2: string (nullable = true)\n |-- _c3: string (nullable = true)\n |-- _c4: string (nullable = true)\n |-- _c5: string (nullable = true)\n |-- _c6: string (nullable = true)\n |-- _c7: string (nullable = true)\n |-- _c8: string (nullable = true)\n |-- _c9: string (nullable = true)\n |-- _c10: string (nullable = true)\n |-- _c11: string (nullable = true)\n |-- _c12: string (nullable = true)\n |-- _c13: string (nullable = true)\n |-- _c14: string (nullable = true)\n |-- _c15: string (nullable = true)\n |-- _c16: string (nullable = true)\n |-- _c17: string (nullable = true)\n |-- _c18: string (nullable = true)\n |-- _c19: string (nullable = true)\n |-- _c20: string (nullable = true)\n |-- _c21: string (nullable = true)\n |-- _c22: string (nullable = true)\n |-- _c23: string (nullable = true)\n |-- _c24: string (nullable = true)\n |-- _c25: string (nullable = true)\n |-- _c26: string (nullable = true)\n |-- _c27: string (nullable = true)\n |-- _c28: string (nullable = true)\n |-- _c29: string (nullable = true)\n |-- _c30: string (nullable = true)\n |-- _c31: string (nullable = true)\n |-- _c32: string (nullable = true)\n |-- _c33: string (nullable = true)\n\n"
     ]
    }
   ],
   "source": [
    "df = spark.sql(\"SELECT * FROM csv.`/databricks-datasets/timeseries/Fires/Fire_Department_Calls_for_Service.csv`\")\n",
    "display(df.take(10))\n",
    "df.printSchema()"
   ]
  }
 ],
 "metadata": {
  "application/vnd.databricks.v1+notebook": {
   "computePreferences": null,
   "dashboards": [],
   "environmentMetadata": {
    "base_environment": "",
    "client": "1"
   },
   "language": "python",
   "notebookMetadata": {
    "mostRecentlyExecutedCommandWithImplicitDF": {
     "commandId": 2489653547183741,
     "dataframes": [
      "_sqldf"
     ]
    },
    "pythonIndentUnit": 4
   },
   "notebookName": "1. Creating DataFrames",
   "widgets": {}
  }
 },
 "nbformat": 4,
 "nbformat_minor": 0
}
